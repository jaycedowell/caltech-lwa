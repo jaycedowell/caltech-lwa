{
 "cells": [
  {
   "cell_type": "markdown",
   "metadata": {},
   "source": [
    "Changes from v2.0 to v2.1\n",
    "\n",
    "change sbram named cosmic_ray_veto_thresh_rate3 to cosmic_ray_veto_thresh_rate2\n",
    "\n",
    "change sbram named cosmic_ray_core_ant_veto_rate to cosmic_ray_core_and_veto_rate\n",
    "\n",
    "Make SBRAM address widths 5 not 6 and 1 not 2.\n",
    "\n",
    "Add 1 delay before data output of threshold counting blocks."
   ]
  },
  {
   "cell_type": "code",
   "execution_count": 59,
   "metadata": {},
   "outputs": [],
   "source": [
    "import matplotlib.pyplot as plt\n",
    "import numpy as np\n",
    "import casperfpga\n",
    "import time\n",
    "from lwa_f import snap2_fengine\n",
    "import pandas as pd\n",
    "from cr_functions import *\n",
    "import struct"
   ]
  },
  {
   "cell_type": "code",
   "execution_count": 6,
   "metadata": {},
   "outputs": [],
   "source": [
    "fpgfile=\"/home/ubuntu/kplant/caltech-lwa/snap2_f_200msps_64i_4096c/outputs/snap2_f_200msps_64i_4096c_2021-09-23_1421.fpg\"\n",
    "brdname='snap03'"
   ]
  },
  {
   "cell_type": "code",
   "execution_count": 7,
   "metadata": {},
   "outputs": [
    {
     "name": "stdout",
     "output_type": "stream",
     "text": [
      "2021-09-24 21:31:15,450 - lwa_f.blocks.block:snap03 - WARNING -  - hostname (10.40.0.188) couldn't be turned into integer serial\n",
      "2021-09-24 21:31:15,737 - lwa_f.blocks.block:snap03 - INFO - adc - Detected FMC ADC board on port 0\n",
      "2021-09-24 21:31:16,025 - lwa_f.blocks.block:snap03 - INFO - adc - Detected FMC ADC board on port 1\n",
      "2021-09-24 21:31:16,039 - lwa_f.snap2_fengine:snap03 - INFO - Loading firmware /home/ubuntu/kplant/caltech-lwa/snap2_f_200msps_64i_4096c/outputs/snap2_f_200msps_64i_4096c_2021-09-23_1421.fpg to snap03\n"
     ]
    },
    {
     "name": "stderr",
     "output_type": "stream",
     "text": [
      "100% |########################################################################|\n"
     ]
    },
    {
     "name": "stdout",
     "output_type": "stream",
     "text": [
      "2021-09-24 21:36:32,324 - lwa_f.blocks.block:snap03 - WARNING -  - hostname (10.40.0.188) couldn't be turned into integer serial\n",
      "2021-09-24 21:36:32,675 - lwa_f.blocks.block:snap03 - INFO - adc - Detected FMC ADC board on port 0\n",
      "2021-09-24 21:36:33,023 - lwa_f.blocks.block:snap03 - INFO - adc - Detected FMC ADC board on port 1\n",
      "2021-09-24 21:36:33,040 - lwa_f.snap2_fengine:snap03 - INFO - Initializing block (writable): fpga\n",
      "2021-09-24 21:36:33,040 - lwa_f.snap2_fengine:snap03 - INFO - Initializing block (writable): adc\n",
      "2021-09-24 21:36:33,044 - lwa_f.blocks.block:snap03 - INFO - adc - FMC 0 board 0: Setting clock source to 1\n",
      "2021-09-24 21:36:33,053 - lwa_f.blocks.block:snap03 - INFO - adc - FMC 0 board 1: Setting clock source to 1\n",
      "2021-09-24 21:36:33,061 - lwa_f.blocks.block:snap03 - INFO - adc - FMC 1 board 0: Setting clock source to 1\n",
      "2021-09-24 21:36:33,071 - lwa_f.blocks.block:snap03 - INFO - adc - FMC 1 board 1: Setting clock source to 1\n",
      "2021-09-24 21:36:43,030 - lwa_f.blocks.block:snap03 - INFO - adc - FMC 0 board 0 clock rates: [490633729, 98175299, 98214935, 0, 0]\n",
      "2021-09-24 21:36:43,031 - lwa_f.blocks.block:snap03 - INFO - adc - FMC 0 board 0: MMCM locked\n",
      "2021-09-24 21:36:44,041 - lwa_f.blocks.block:snap03 - INFO - adc - FMC 0 board 1 clock rates: [490629422, 98142923, 98186755, 98224505, 0]\n",
      "2021-09-24 21:36:45,052 - lwa_f.blocks.block:snap03 - INFO - adc - FMC 1 board 0 clock rates: [490617871, 98137731, 98157080, 0, 0]\n",
      "2021-09-24 21:36:45,053 - lwa_f.blocks.block:snap03 - INFO - adc - FMC 1 board 0: MMCM locked\n",
      "2021-09-24 21:36:46,063 - lwa_f.blocks.block:snap03 - INFO - adc - FMC 1 board 1 clock rates: [490528914, 98134095, 98155328, 98169487, 0]\n",
      "2021-09-24 21:36:47,588 - lwa_f.blocks.block:snap03 - INFO - adc - FMC 0 Scanning data delays\n"
     ]
    },
    {
     "name": "stderr",
     "output_type": "stream",
     "text": [
      "100% |########################################################################|\r"
     ]
    },
    {
     "name": "stdout",
     "output_type": "stream",
     "text": [
      "2021-09-24 21:36:56,121 - lwa_f.blocks.block:snap03 - INFO - adc - FMC 0 data lane delays:\n",
      "[[304, 296, 304, 296, 296, 296, 296, 296], [344, 336, 336, 320, 336, 320, 328, 336], [288, 280, 288, 288, 288, 288, 296, 296], [328, 336, 328, 320, 328, 328, 328, 328], [288, 280, 280, 280, 288, 288, 288, 288], [272, 272, 288, 272, 272, 272, 272, 272], [296, 280, 280, 288, 288, 296, 280, 280], [296, 296, 296, 296, 296, 304, 304, 288]]\n",
      "2021-09-24 21:36:56,121 - lwa_f.blocks.block:snap03 - INFO - adc - FMC 0 data lane slacks:\n",
      "[[40, 40, 40, 40, 40, 40, 40, 40], [40, 40, 40, 40, 40, 40, 40, 40], [40, 40, 40, 40, 40, 40, 40, 40], [40, 32, 40, 40, 40, 32, 32, 32], [40, 40, 32, 32, 40, 40, 40, 40], [40, 40, 40, 40, 40, 40, 32, 40], [32, 32, 32, 40, 32, 32, 32, 32], [40, 40, 40, 40, 40, 32, 32, 32]]\n",
      "2021-09-24 21:36:56,122 - lwa_f.blocks.block:snap03 - INFO - adc - Chip 0, Lane 0:    XXXXXXXXXXXXXXXXXXXXXXXXXXXXXXXXXX----|-----XXXXXXXXXXXXXXXXXXXX\n",
      "2021-09-24 21:36:56,123 - lwa_f.blocks.block:snap03 - INFO - adc - Chip 0, Lane 1:    XXXXXXXXXXXXXXXXXXXXXXXXXXXXXXXXX----|----XXXXXXXXXXXXXXXXXXXXXX\n",
      "2021-09-24 21:36:56,123 - lwa_f.blocks.block:snap03 - INFO - adc - Chip 0, Lane 2:    XXXXXXXXXXXXXXXXXXXXXXXXXXXXXXXXXX----|----XXXXXXXXXXXXXXXXXXXXX\n",
      "2021-09-24 21:36:56,124 - lwa_f.blocks.block:snap03 - INFO - adc - Chip 0, Lane 3:    XXXXXXXXXXXXXXXXXXXXXXXXXXXXXXXXX----|----XXXXXXXXXXXXXXXXXXXXXX\n",
      "2021-09-24 21:36:56,125 - lwa_f.blocks.block:snap03 - INFO - adc - Chip 0, Lane 4:    XXXXXXXXXXXXXXXXXXXXXXXXXXXXXXXXX----|----XXXXXXXXXXXXXXXXXXXXXX\n",
      "2021-09-24 21:36:56,125 - lwa_f.blocks.block:snap03 - INFO - adc - Chip 0, Lane 5:    XXXXXXXXXXXXXXXXXXXXXXXXXXXXXXXXX----|----XXXXXXXXXXXXXXXXXXXXXX\n",
      "2021-09-24 21:36:56,126 - lwa_f.blocks.block:snap03 - INFO - adc - Chip 0, Lane 6:    XXXXXXXXXXXXXXXXXXXXXXXXXXXXXXXXX----|----XXXXXXXXXXXXXXXXXXXXXX\n",
      "2021-09-24 21:36:56,127 - lwa_f.blocks.block:snap03 - INFO - adc - Chip 0, Lane 7:    XXXXXXXXXXXXXXXXXXXXXXXXXXXXXXXXX----|----XXXXXXXXXXXXXXXXXXXXXX\n",
      "2021-09-24 21:36:56,128 - lwa_f.blocks.block:snap03 - INFO - adc - Chip 1, Lane 0:    XXXXXXXXXXXXXXXXXXXXXXXXXXXXXXXXXXXXXXX----|----XXXXXXXXXXXXXXXX\n",
      "2021-09-24 21:36:56,128 - lwa_f.blocks.block:snap03 - INFO - adc - Chip 1, Lane 1:    XXXXXXXXXXXXXXXXXXXXXXXXXXXXXXXXXXXXXX----|----XXXXXXXXXXXXXXXXX\n",
      "2021-09-24 21:36:56,129 - lwa_f.blocks.block:snap03 - INFO - adc - Chip 1, Lane 2:    XXXXXXXXXXXXXXXXXXXXXXXXXXXXXXXXXXXXXX----|----XXXXXXXXXXXXXXXXX\n",
      "2021-09-24 21:36:56,130 - lwa_f.blocks.block:snap03 - INFO - adc - Chip 1, Lane 3:    XXXXXXXXXXXXXXXXXXXXXXXXXXXXXXXXXXXX----|----XXXXXXXXXXXXXXXXXXX\n",
      "2021-09-24 21:36:56,130 - lwa_f.blocks.block:snap03 - INFO - adc - Chip 1, Lane 4:    XXXXXXXXXXXXXXXXXXXXXXXXXXXXXXXXXXXXXX----|----XXXXXXXXXXXXXXXXX\n",
      "2021-09-24 21:36:56,131 - lwa_f.blocks.block:snap03 - INFO - adc - Chip 1, Lane 5:    XXXXXXXXXXXXXXXXXXXXXXXXXXXXXXXXXXXX----|-----XXXXXXXXXXXXXXXXXX\n",
      "2021-09-24 21:36:56,132 - lwa_f.blocks.block:snap03 - INFO - adc - Chip 1, Lane 6:    XXXXXXXXXXXXXXXXXXXXXXXXXXXXXXXXXXXXX----|----XXXXXXXXXXXXXXXXXX\n",
      "2021-09-24 21:36:56,132 - lwa_f.blocks.block:snap03 - INFO - adc - Chip 1, Lane 7:    XXXXXXXXXXXXXXXXXXXXXXXXXXXXXXXXXXXXXX----|----XXXXXXXXXXXXXXXXX\n",
      "2021-09-24 21:36:56,133 - lwa_f.blocks.block:snap03 - INFO - adc - Chip 2, Lane 0:    XXXXXXXXXXXXXXXXXXXXXXXXXXXXXXXX----|----XXXXXXXXXXXXXXXXXXXXXXX\n",
      "2021-09-24 21:36:56,133 - lwa_f.blocks.block:snap03 - INFO - adc - Chip 2, Lane 1:    XXXXXXXXXXXXXXXXXXXXXXXXXXXXXXX----|-----XXXXXXXXXXXXXXXXXXXXXXX\n",
      "2021-09-24 21:36:56,134 - lwa_f.blocks.block:snap03 - INFO - adc - Chip 2, Lane 2:    XXXXXXXXXXXXXXXXXXXXXXXXXXXXXXXX----|----XXXXXXXXXXXXXXXXXXXXXXX\n",
      "2021-09-24 21:36:56,134 - lwa_f.blocks.block:snap03 - INFO - adc - Chip 2, Lane 3:    XXXXXXXXXXXXXXXXXXXXXXXXXXXXXXXX----|----XXXXXXXXXXXXXXXXXXXXXXX\n",
      "2021-09-24 21:36:56,135 - lwa_f.blocks.block:snap03 - INFO - adc - Chip 2, Lane 4:    XXXXXXXXXXXXXXXXXXXXXXXXXXXXXXXX----|----XXXXXXXXXXXXXXXXXXXXXXX\n",
      "2021-09-24 21:36:56,136 - lwa_f.blocks.block:snap03 - INFO - adc - Chip 2, Lane 5:    XXXXXXXXXXXXXXXXXXXXXXXXXXXXXXXX----|----XXXXXXXXXXXXXXXXXXXXXXX\n",
      "2021-09-24 21:36:56,136 - lwa_f.blocks.block:snap03 - INFO - adc - Chip 2, Lane 6:    XXXXXXXXXXXXXXXXXXXXXXXXXXXXXXXXX----|----XXXXXXXXXXXXXXXXXXXXXX\n",
      "2021-09-24 21:36:56,137 - lwa_f.blocks.block:snap03 - INFO - adc - Chip 2, Lane 7:    XXXXXXXXXXXXXXXXXXXXXXXXXXXXXXXXX----|----XXXXXXXXXXXXXXXXXXXXXX\n",
      "2021-09-24 21:36:56,137 - lwa_f.blocks.block:snap03 - INFO - adc - Chip 3, Lane 0:    XXXXXXXXXXXXXXXXXXXXXXXXXXXXXXXXXXXXX----|----XXXXXXXXXXXXXXXXXX\n",
      "2021-09-24 21:36:56,138 - lwa_f.blocks.block:snap03 - INFO - adc - Chip 3, Lane 1:    XXXXXXXXXXXXXXXXXXXXXXXXXXXXXXXXXXXXXXX---|----XXXXXXXXXXXXXXXXX\n",
      "2021-09-24 21:36:56,139 - lwa_f.blocks.block:snap03 - INFO - adc - Chip 3, Lane 2:    XXXXXXXXXXXXXXXXXXXXXXXXXXXXXXXXXXXXX----|----XXXXXXXXXXXXXXXXXX\n",
      "2021-09-24 21:36:56,142 - lwa_f.blocks.block:snap03 - INFO - adc - Chip 3, Lane 3:    XXXXXXXXXXXXXXXXXXXXXXXXXXXXXXXXXXXX----|----XXXXXXXXXXXXXXXXXXX\n",
      "2021-09-24 21:36:56,143 - lwa_f.blocks.block:snap03 - INFO - adc - Chip 3, Lane 4:    XXXXXXXXXXXXXXXXXXXXXXXXXXXXXXXXXXXXX----|----XXXXXXXXXXXXXXXXXX\n",
      "2021-09-24 21:36:56,143 - lwa_f.blocks.block:snap03 - INFO - adc - Chip 3, Lane 5:    XXXXXXXXXXXXXXXXXXXXXXXXXXXXXXXXXXXXXX---|---XXXXXXXXXXXXXXXXXXX\n",
      "2021-09-24 21:36:56,144 - lwa_f.blocks.block:snap03 - INFO - adc - Chip 3, Lane 6:    XXXXXXXXXXXXXXXXXXXXXXXXXXXXXXXXXXXXXX---|----XXXXXXXXXXXXXXXXXX\n",
      "2021-09-24 21:36:56,145 - lwa_f.blocks.block:snap03 - INFO - adc - Chip 3, Lane 7:    XXXXXXXXXXXXXXXXXXXXXXXXXXXXXXXXXXXXXX---|----XXXXXXXXXXXXXXXXXX\n",
      "2021-09-24 21:36:56,146 - lwa_f.blocks.block:snap03 - INFO - adc - Chip 4, Lane 0:    XXXXXXXXXXXXXXXXXXXXXXXXXXXXXXXX----|----XXXXXXXXXXXXXXXXXXXXXXX\n",
      "2021-09-24 21:36:56,147 - lwa_f.blocks.block:snap03 - INFO - adc - Chip 4, Lane 1:    XXXXXXXXXXXXXXXXXXXXXXXXXXXXXXX----|----XXXXXXXXXXXXXXXXXXXXXXXX\n",
      "2021-09-24 21:36:56,148 - lwa_f.blocks.block:snap03 - INFO - adc - Chip 4, Lane 2:    XXXXXXXXXXXXXXXXXXXXXXXXXXXXXXXX---|----XXXXXXXXXXXXXXXXXXXXXXXX\n",
      "2021-09-24 21:36:56,148 - lwa_f.blocks.block:snap03 - INFO - adc - Chip 4, Lane 3:    XXXXXXXXXXXXXXXXXXXXXXXXXXXXXXXX---|----XXXXXXXXXXXXXXXXXXXXXXXX\n",
      "2021-09-24 21:36:56,149 - lwa_f.blocks.block:snap03 - INFO - adc - Chip 4, Lane 4:    XXXXXXXXXXXXXXXXXXXXXXXXXXXXXXXX----|----XXXXXXXXXXXXXXXXXXXXXXX\n",
      "2021-09-24 21:36:56,149 - lwa_f.blocks.block:snap03 - INFO - adc - Chip 4, Lane 5:    XXXXXXXXXXXXXXXXXXXXXXXXXXXXXXXX----|----XXXXXXXXXXXXXXXXXXXXXXX\n",
      "2021-09-24 21:36:56,150 - lwa_f.blocks.block:snap03 - INFO - adc - Chip 4, Lane 6:    XXXXXXXXXXXXXXXXXXXXXXXXXXXXXXXX----|----XXXXXXXXXXXXXXXXXXXXXXX\n",
      "2021-09-24 21:36:56,150 - lwa_f.blocks.block:snap03 - INFO - adc - Chip 4, Lane 7:    XXXXXXXXXXXXXXXXXXXXXXXXXXXXXXXX----|----XXXXXXXXXXXXXXXXXXXXXXX\n",
      "2021-09-24 21:36:56,151 - lwa_f.blocks.block:snap03 - INFO - adc - Chip 5, Lane 0:    XXXXXXXXXXXXXXXXXXXXXXXXXXXXXX----|----XXXXXXXXXXXXXXXXXXXXXXXXX\n",
      "2021-09-24 21:36:56,152 - lwa_f.blocks.block:snap03 - INFO - adc - Chip 5, Lane 1:    XXXXXXXXXXXXXXXXXXXXXXXXXXXXXX----|----XXXXXXXXXXXXXXXXXXXXXXXXX\n",
      "2021-09-24 21:36:56,152 - lwa_f.blocks.block:snap03 - INFO - adc - Chip 5, Lane 2:    XXXXXXXXXXXXXXXXXXXXXXXXXXXXXXXX----|----XXXXXXXXXXXXXXXXXXXXXXX\n"
     ]
    },
    {
     "name": "stderr",
     "output_type": "stream",
     "text": [
      "\n"
     ]
    },
    {
     "name": "stdout",
     "output_type": "stream",
     "text": [
      "2021-09-24 21:36:56,153 - lwa_f.blocks.block:snap03 - INFO - adc - Chip 5, Lane 3:    XXXXXXXXXXXXXXXXXXXXXXXXXXXXXX----|----XXXXXXXXXXXXXXXXXXXXXXXXX\n",
      "2021-09-24 21:36:56,154 - lwa_f.blocks.block:snap03 - INFO - adc - Chip 5, Lane 4:    XXXXXXXXXXXXXXXXXXXXXXXXXXXXXX----|----XXXXXXXXXXXXXXXXXXXXXXXXX\n",
      "2021-09-24 21:36:56,154 - lwa_f.blocks.block:snap03 - INFO - adc - Chip 5, Lane 5:    XXXXXXXXXXXXXXXXXXXXXXXXXXXXXX----|----XXXXXXXXXXXXXXXXXXXXXXXXX\n",
      "2021-09-24 21:36:56,155 - lwa_f.blocks.block:snap03 - INFO - adc - Chip 5, Lane 6:    XXXXXXXXXXXXXXXXXXXXXXXXXXXXXXX---|----XXXXXXXXXXXXXXXXXXXXXXXXX\n",
      "2021-09-24 21:36:56,155 - lwa_f.blocks.block:snap03 - INFO - adc - Chip 5, Lane 7:    XXXXXXXXXXXXXXXXXXXXXXXXXXXXXX----|----XXXXXXXXXXXXXXXXXXXXXXXXX\n",
      "2021-09-24 21:36:56,156 - lwa_f.blocks.block:snap03 - INFO - adc - Chip 6, Lane 0:    XXXXXXXXXXXXXXXXXXXXXXXXXXXXXXXXXX---|----XXXXXXXXXXXXXXXXXXXXXX\n",
      "2021-09-24 21:36:56,156 - lwa_f.blocks.block:snap03 - INFO - adc - Chip 6, Lane 1:    XXXXXXXXXXXXXXXXXXXXXXXXXXXXXXXX---|----XXXXXXXXXXXXXXXXXXXXXXXX\n",
      "2021-09-24 21:36:56,157 - lwa_f.blocks.block:snap03 - INFO - adc - Chip 6, Lane 2:    XXXXXXXXXXXXXXXXXXXXXXXXXXXXXXXX---|----XXXXXXXXXXXXXXXXXXXXXXXX\n",
      "2021-09-24 21:36:56,158 - lwa_f.blocks.block:snap03 - INFO - adc - Chip 6, Lane 3:    XXXXXXXXXXXXXXXXXXXXXXXXXXXXXXXX----|----XXXXXXXXXXXXXXXXXXXXXXX\n",
      "2021-09-24 21:36:56,158 - lwa_f.blocks.block:snap03 - INFO - adc - Chip 6, Lane 4:    XXXXXXXXXXXXXXXXXXXXXXXXXXXXXXXXX---|----XXXXXXXXXXXXXXXXXXXXXXX\n",
      "2021-09-24 21:36:56,159 - lwa_f.blocks.block:snap03 - INFO - adc - Chip 6, Lane 5:    XXXXXXXXXXXXXXXXXXXXXXXXXXXXXXXXXX---|----XXXXXXXXXXXXXXXXXXXXXX\n",
      "2021-09-24 21:36:56,159 - lwa_f.blocks.block:snap03 - INFO - adc - Chip 6, Lane 6:    XXXXXXXXXXXXXXXXXXXXXXXXXXXXXXXX---|----XXXXXXXXXXXXXXXXXXXXXXXX\n",
      "2021-09-24 21:36:56,160 - lwa_f.blocks.block:snap03 - INFO - adc - Chip 6, Lane 7:    XXXXXXXXXXXXXXXXXXXXXXXXXXXXXXXX---|----XXXXXXXXXXXXXXXXXXXXXXXX\n",
      "2021-09-24 21:36:56,160 - lwa_f.blocks.block:snap03 - INFO - adc - Chip 7, Lane 0:    XXXXXXXXXXXXXXXXXXXXXXXXXXXXXXXXX----|----XXXXXXXXXXXXXXXXXXXXXX\n",
      "2021-09-24 21:36:56,161 - lwa_f.blocks.block:snap03 - INFO - adc - Chip 7, Lane 1:    XXXXXXXXXXXXXXXXXXXXXXXXXXXXXXXXX----|----XXXXXXXXXXXXXXXXXXXXXX\n",
      "2021-09-24 21:36:56,162 - lwa_f.blocks.block:snap03 - INFO - adc - Chip 7, Lane 2:    XXXXXXXXXXXXXXXXXXXXXXXXXXXXXXXXX----|----XXXXXXXXXXXXXXXXXXXXXX\n",
      "2021-09-24 21:36:56,162 - lwa_f.blocks.block:snap03 - INFO - adc - Chip 7, Lane 3:    XXXXXXXXXXXXXXXXXXXXXXXXXXXXXXXXX----|----XXXXXXXXXXXXXXXXXXXXXX\n",
      "2021-09-24 21:36:56,163 - lwa_f.blocks.block:snap03 - INFO - adc - Chip 7, Lane 4:    XXXXXXXXXXXXXXXXXXXXXXXXXXXXXXXXX----|----XXXXXXXXXXXXXXXXXXXXXX\n",
      "2021-09-24 21:36:56,163 - lwa_f.blocks.block:snap03 - INFO - adc - Chip 7, Lane 5:    XXXXXXXXXXXXXXXXXXXXXXXXXXXXXXXXXXX---|---XXXXXXXXXXXXXXXXXXXXXX\n",
      "2021-09-24 21:36:56,164 - lwa_f.blocks.block:snap03 - INFO - adc - Chip 7, Lane 6:    XXXXXXXXXXXXXXXXXXXXXXXXXXXXXXXXXXX---|---XXXXXXXXXXXXXXXXXXXXXX\n",
      "2021-09-24 21:36:56,164 - lwa_f.blocks.block:snap03 - INFO - adc - Chip 7, Lane 7:    XXXXXXXXXXXXXXXXXXXXXXXXXXXXXXXXX---|----XXXXXXXXXXXXXXXXXXXXXXX\n",
      "2021-09-24 21:36:59,122 - lwa_f.blocks.block:snap03 - INFO - adc - FMC 1 Scanning data delays\n"
     ]
    },
    {
     "name": "stderr",
     "output_type": "stream",
     "text": [
      "100% |########################################################################|\r"
     ]
    },
    {
     "name": "stdout",
     "output_type": "stream",
     "text": [
      "2021-09-24 21:37:07,692 - lwa_f.blocks.block:snap03 - INFO - adc - FMC 1 data lane delays:\n",
      "[[264, 264, 264, 272, 264, 256, 256, 272], [272, 264, 256, 272, 264, 280, 272, 264], [256, 256, 256, 272, 256, 264, 256, 248], [264, 280, 264, 264, 264, 272, 264, 264], [288, 288, 296, 304, 296, 288, 288, 288], [232, 232, 232, 232, 240, 232, 240, 232], [264, 248, 248, 264, 248, 248, 248, 248], [272, 272, 280, 272, 272, 272, 272, 272]]\n",
      "2021-09-24 21:37:07,693 - lwa_f.blocks.block:snap03 - INFO - adc - FMC 1 data lane slacks:\n",
      "[[40, 40, 40, 40, 40, 40, 40, 40], [40, 32, 40, 40, 32, 32, 40, 32], [32, 32, 32, 32, 32, 32, 40, 32], [40, 40, 40, 32, 32, 40, 40, 40], [40, 40, 40, 32, 40, 40, 40, 40], [32, 32, 32, 32, 32, 32, 32, 32], [32, 40, 40, 40, 40, 40, 40, 40], [40, 40, 40, 40, 40, 40, 40, 40]]\n",
      "2021-09-24 21:37:07,694 - lwa_f.blocks.block:snap03 - INFO - adc - Chip 0, Lane 0:    XXXXXXXXXXXXXXXXXXXXXXXXXXXXX----|----XXXXXXXXXXXXXXXXXXXXXXXXXX\n",
      "2021-09-24 21:37:07,695 - lwa_f.blocks.block:snap03 - INFO - adc - Chip 0, Lane 1:    XXXXXXXXXXXXXXXXXXXXXXXXXXXXX----|----XXXXXXXXXXXXXXXXXXXXXXXXXX\n",
      "2021-09-24 21:37:07,696 - lwa_f.blocks.block:snap03 - INFO - adc - Chip 0, Lane 2:    XXXXXXXXXXXXXXXXXXXXXXXXXXXXX----|----XXXXXXXXXXXXXXXXXXXXXXXXXX\n",
      "2021-09-24 21:37:07,697 - lwa_f.blocks.block:snap03 - INFO - adc - Chip 0, Lane 3:    XXXXXXXXXXXXXXXXXXXXXXXXXXXXXX----|----XXXXXXXXXXXXXXXXXXXXXXXXX\n",
      "2021-09-24 21:37:07,698 - lwa_f.blocks.block:snap03 - INFO - adc - Chip 0, Lane 4:    XXXXXXXXXXXXXXXXXXXXXXXXXXXXX----|----XXXXXXXXXXXXXXXXXXXXXXXXXX\n",
      "2021-09-24 21:37:07,699 - lwa_f.blocks.block:snap03 - INFO - adc - Chip 0, Lane 5:    XXXXXXXXXXXXXXXXXXXXXXXXXXXX----|-----XXXXXXXXXXXXXXXXXXXXXXXXXX\n",
      "2021-09-24 21:37:07,700 - lwa_f.blocks.block:snap03 - INFO - adc - Chip 0, Lane 6:    XXXXXXXXXXXXXXXXXXXXXXXXXXXX----|----XXXXXXXXXXXXXXXXXXXXXXXXXXX\n",
      "2021-09-24 21:37:07,701 - lwa_f.blocks.block:snap03 - INFO - adc - Chip 0, Lane 7:    XXXXXXXXXXXXXXXXXXXXXXXXXXXXXX----|----XXXXXXXXXXXXXXXXXXXXXXXXX\n",
      "2021-09-24 21:37:07,702 - lwa_f.blocks.block:snap03 - INFO - adc - Chip 1, Lane 0:    XXXXXXXXXXXXXXXXXXXXXXXXXXXXXX----|----XXXXXXXXXXXXXXXXXXXXXXXXX\n",
      "2021-09-24 21:37:07,703 - lwa_f.blocks.block:snap03 - INFO - adc - Chip 1, Lane 1:    XXXXXXXXXXXXXXXXXXXXXXXXXXXXXX---|----XXXXXXXXXXXXXXXXXXXXXXXXXX\n",
      "2021-09-24 21:37:07,704 - lwa_f.blocks.block:snap03 - INFO - adc - Chip 1, Lane 2:    XXXXXXXXXXXXXXXXXXXXXXXXXXXX----|-----XXXXXXXXXXXXXXXXXXXXXXXXXX\n",
      "2021-09-24 21:37:07,705 - lwa_f.blocks.block:snap03 - INFO - adc - Chip 1, Lane 3:    XXXXXXXXXXXXXXXXXXXXXXXXXXXXXX----|----XXXXXXXXXXXXXXXXXXXXXXXXX\n",
      "2021-09-24 21:37:07,706 - lwa_f.blocks.block:snap03 - INFO - adc - Chip 1, Lane 4:    XXXXXXXXXXXXXXXXXXXXXXXXXXXXXX---|----XXXXXXXXXXXXXXXXXXXXXXXXXX\n",
      "2021-09-24 21:37:07,706 - lwa_f.blocks.block:snap03 - INFO - adc - Chip 1, Lane 5:    XXXXXXXXXXXXXXXXXXXXXXXXXXXXXXXX---|----XXXXXXXXXXXXXXXXXXXXXXXX\n",
      "2021-09-24 21:37:07,707 - lwa_f.blocks.block:snap03 - INFO - adc - Chip 1, Lane 6:    XXXXXXXXXXXXXXXXXXXXXXXXXXXXXX----|----XXXXXXXXXXXXXXXXXXXXXXXXX\n",
      "2021-09-24 21:37:07,708 - lwa_f.blocks.block:snap03 - INFO - adc - Chip 1, Lane 7:    XXXXXXXXXXXXXXXXXXXXXXXXXXXXXX---|----XXXXXXXXXXXXXXXXXXXXXXXXXX\n",
      "2021-09-24 21:37:07,709 - lwa_f.blocks.block:snap03 - INFO - adc - Chip 2, Lane 0:    XXXXXXXXXXXXXXXXXXXXXXXXXXXXX---|----XXXXXXXXXXXXXXXXXXXXXXXXXXX\n",
      "2021-09-24 21:37:07,710 - lwa_f.blocks.block:snap03 - INFO - adc - Chip 2, Lane 1:    XXXXXXXXXXXXXXXXXXXXXXXXXXXXX---|----XXXXXXXXXXXXXXXXXXXXXXXXXXX\n",
      "2021-09-24 21:37:07,710 - lwa_f.blocks.block:snap03 - INFO - adc - Chip 2, Lane 2:    XXXXXXXXXXXXXXXXXXXXXXXXXXXXX---|----XXXXXXXXXXXXXXXXXXXXXXXXXXX\n",
      "2021-09-24 21:37:07,711 - lwa_f.blocks.block:snap03 - INFO - adc - Chip 2, Lane 3:    XXXXXXXXXXXXXXXXXXXXXXXXXXXXXXX---|---XXXXXXXXXXXXXXXXXXXXXXXXXX\n",
      "2021-09-24 21:37:07,712 - lwa_f.blocks.block:snap03 - INFO - adc - Chip 2, Lane 4:    XXXXXXXXXXXXXXXXXXXXXXXXXXXXX---|----XXXXXXXXXXXXXXXXXXXXXXXXXXX\n",
      "2021-09-24 21:37:07,712 - lwa_f.blocks.block:snap03 - INFO - adc - Chip 2, Lane 5:    XXXXXXXXXXXXXXXXXXXXXXXXXXXXXX---|----XXXXXXXXXXXXXXXXXXXXXXXXXX\n",
      "2021-09-24 21:37:07,716 - lwa_f.blocks.block:snap03 - INFO - adc - Chip 2, Lane 6:    XXXXXXXXXXXXXXXXXXXXXXXXXXXX----|----XXXXXXXXXXXXXXXXXXXXXXXXXXX\n",
      "2021-09-24 21:37:07,716 - lwa_f.blocks.block:snap03 - INFO - adc - Chip 2, Lane 7:    XXXXXXXXXXXXXXXXXXXXXXXXXXXX---|----XXXXXXXXXXXXXXXXXXXXXXXXXXXX\n",
      "2021-09-24 21:37:07,717 - lwa_f.blocks.block:snap03 - INFO - adc - Chip 3, Lane 0:    XXXXXXXXXXXXXXXXXXXXXXXXXXXXX----|----XXXXXXXXXXXXXXXXXXXXXXXXXX\n",
      "2021-09-24 21:37:07,718 - lwa_f.blocks.block:snap03 - INFO - adc - Chip 3, Lane 1:    XXXXXXXXXXXXXXXXXXXXXXXXXXXXXXX----|----XXXXXXXXXXXXXXXXXXXXXXXX\n",
      "2021-09-24 21:37:07,718 - lwa_f.blocks.block:snap03 - INFO - adc - Chip 3, Lane 2:    XXXXXXXXXXXXXXXXXXXXXXXXXXXXX----|----XXXXXXXXXXXXXXXXXXXXXXXXXX\n",
      "2021-09-24 21:37:07,719 - lwa_f.blocks.block:snap03 - INFO - adc - Chip 3, Lane 3:    XXXXXXXXXXXXXXXXXXXXXXXXXXXXXX---|----XXXXXXXXXXXXXXXXXXXXXXXXXX\n",
      "2021-09-24 21:37:07,720 - lwa_f.blocks.block:snap03 - INFO - adc - Chip 3, Lane 4:    XXXXXXXXXXXXXXXXXXXXXXXXXXXXXX---|----XXXXXXXXXXXXXXXXXXXXXXXXXX\n",
      "2021-09-24 21:37:07,721 - lwa_f.blocks.block:snap03 - INFO - adc - Chip 3, Lane 5:    XXXXXXXXXXXXXXXXXXXXXXXXXXXXXX----|----XXXXXXXXXXXXXXXXXXXXXXXXX\n",
      "2021-09-24 21:37:07,722 - lwa_f.blocks.block:snap03 - INFO - adc - Chip 3, Lane 6:    XXXXXXXXXXXXXXXXXXXXXXXXXXXXX----|----XXXXXXXXXXXXXXXXXXXXXXXXXX\n",
      "2021-09-24 21:37:07,722 - lwa_f.blocks.block:snap03 - INFO - adc - Chip 3, Lane 7:    XXXXXXXXXXXXXXXXXXXXXXXXXXXXX----|----XXXXXXXXXXXXXXXXXXXXXXXXXX\n",
      "2021-09-24 21:37:07,723 - lwa_f.blocks.block:snap03 - INFO - adc - Chip 4, Lane 0:    XXXXXXXXXXXXXXXXXXXXXXXXXXXXXXXX----|-----XXXXXXXXXXXXXXXXXXXXXX\n",
      "2021-09-24 21:37:07,724 - lwa_f.blocks.block:snap03 - INFO - adc - Chip 4, Lane 1:    XXXXXXXXXXXXXXXXXXXXXXXXXXXXXXXX----|-----XXXXXXXXXXXXXXXXXXXXXX\n",
      "2021-09-24 21:37:07,725 - lwa_f.blocks.block:snap03 - INFO - adc - Chip 4, Lane 2:    XXXXXXXXXXXXXXXXXXXXXXXXXXXXXXXXX----|----XXXXXXXXXXXXXXXXXXXXXX\n",
      "2021-09-24 21:37:07,726 - lwa_f.blocks.block:snap03 - INFO - adc - Chip 4, Lane 3:    XXXXXXXXXXXXXXXXXXXXXXXXXXXXXXXXXXX---|----XXXXXXXXXXXXXXXXXXXXX\n",
      "2021-09-24 21:37:07,729 - lwa_f.blocks.block:snap03 - INFO - adc - Chip 4, Lane 4:    XXXXXXXXXXXXXXXXXXXXXXXXXXXXXXXXX----|-----XXXXXXXXXXXXXXXXXXXXX\n",
      "2021-09-24 21:37:07,730 - lwa_f.blocks.block:snap03 - INFO - adc - Chip 4, Lane 5:    XXXXXXXXXXXXXXXXXXXXXXXXXXXXXXXX----|-----XXXXXXXXXXXXXXXXXXXXXX\n",
      "2021-09-24 21:37:07,731 - lwa_f.blocks.block:snap03 - INFO - adc - Chip 4, Lane 6:    XXXXXXXXXXXXXXXXXXXXXXXXXXXXXXXX----|----XXXXXXXXXXXXXXXXXXXXXXX\n"
     ]
    },
    {
     "name": "stderr",
     "output_type": "stream",
     "text": [
      "\n"
     ]
    },
    {
     "name": "stdout",
     "output_type": "stream",
     "text": [
      "2021-09-24 21:37:07,732 - lwa_f.blocks.block:snap03 - INFO - adc - Chip 4, Lane 7:    XXXXXXXXXXXXXXXXXXXXXXXXXXXXXXXX----|-----XXXXXXXXXXXXXXXXXXXXXX\n",
      "2021-09-24 21:37:07,733 - lwa_f.blocks.block:snap03 - INFO - adc - Chip 5, Lane 0:    XXXXXXXXXXXXXXXXXXXXXXXXXX---|----XXXXXXXXXXXXXXXXXXXXXXXXXXXXXX\n",
      "2021-09-24 21:37:07,734 - lwa_f.blocks.block:snap03 - INFO - adc - Chip 5, Lane 1:    XXXXXXXXXXXXXXXXXXXXXXXXXX---|----XXXXXXXXXXXXXXXXXXXXXXXXXXXXXX\n",
      "2021-09-24 21:37:07,735 - lwa_f.blocks.block:snap03 - INFO - adc - Chip 5, Lane 2:    XXXXXXXXXXXXXXXXXXXXXXXXXX---|----XXXXXXXXXXXXXXXXXXXXXXXXXXXXXX\n",
      "2021-09-24 21:37:07,736 - lwa_f.blocks.block:snap03 - INFO - adc - Chip 5, Lane 3:    XXXXXXXXXXXXXXXXXXXXXXXXXX---|----XXXXXXXXXXXXXXXXXXXXXXXXXXXXXX\n",
      "2021-09-24 21:37:07,737 - lwa_f.blocks.block:snap03 - INFO - adc - Chip 5, Lane 4:    XXXXXXXXXXXXXXXXXXXXXXXXXXX---|---XXXXXXXXXXXXXXXXXXXXXXXXXXXXXX\n",
      "2021-09-24 21:37:07,738 - lwa_f.blocks.block:snap03 - INFO - adc - Chip 5, Lane 5:    XXXXXXXXXXXXXXXXXXXXXXXXXX---|----XXXXXXXXXXXXXXXXXXXXXXXXXXXXXX\n",
      "2021-09-24 21:37:07,739 - lwa_f.blocks.block:snap03 - INFO - adc - Chip 5, Lane 6:    XXXXXXXXXXXXXXXXXXXXXXXXXXX---|----XXXXXXXXXXXXXXXXXXXXXXXXXXXXX\n",
      "2021-09-24 21:37:07,740 - lwa_f.blocks.block:snap03 - INFO - adc - Chip 5, Lane 7:    XXXXXXXXXXXXXXXXXXXXXXXXXX---|----XXXXXXXXXXXXXXXXXXXXXXXXXXXXXX\n",
      "2021-09-24 21:37:07,740 - lwa_f.blocks.block:snap03 - INFO - adc - Chip 6, Lane 0:    XXXXXXXXXXXXXXXXXXXXXXXXXXXXXX---|----XXXXXXXXXXXXXXXXXXXXXXXXXX\n",
      "2021-09-24 21:37:07,741 - lwa_f.blocks.block:snap03 - INFO - adc - Chip 6, Lane 1:    XXXXXXXXXXXXXXXXXXXXXXXXXXX----|----XXXXXXXXXXXXXXXXXXXXXXXXXXXX\n",
      "2021-09-24 21:37:07,742 - lwa_f.blocks.block:snap03 - INFO - adc - Chip 6, Lane 2:    XXXXXXXXXXXXXXXXXXXXXXXXXXX----|----XXXXXXXXXXXXXXXXXXXXXXXXXXXX\n",
      "2021-09-24 21:37:07,743 - lwa_f.blocks.block:snap03 - INFO - adc - Chip 6, Lane 3:    XXXXXXXXXXXXXXXXXXXXXXXXXXXXX----|----XXXXXXXXXXXXXXXXXXXXXXXXXX\n",
      "2021-09-24 21:37:07,743 - lwa_f.blocks.block:snap03 - INFO - adc - Chip 6, Lane 4:    XXXXXXXXXXXXXXXXXXXXXXXXXXX----|----XXXXXXXXXXXXXXXXXXXXXXXXXXXX\n",
      "2021-09-24 21:37:07,744 - lwa_f.blocks.block:snap03 - INFO - adc - Chip 6, Lane 5:    XXXXXXXXXXXXXXXXXXXXXXXXXXX----|----XXXXXXXXXXXXXXXXXXXXXXXXXXXX\n",
      "2021-09-24 21:37:07,745 - lwa_f.blocks.block:snap03 - INFO - adc - Chip 6, Lane 6:    XXXXXXXXXXXXXXXXXXXXXXXXXXX----|----XXXXXXXXXXXXXXXXXXXXXXXXXXXX\n",
      "2021-09-24 21:37:07,745 - lwa_f.blocks.block:snap03 - INFO - adc - Chip 6, Lane 7:    XXXXXXXXXXXXXXXXXXXXXXXXXXX----|-----XXXXXXXXXXXXXXXXXXXXXXXXXXX\n",
      "2021-09-24 21:37:07,746 - lwa_f.blocks.block:snap03 - INFO - adc - Chip 7, Lane 0:    XXXXXXXXXXXXXXXXXXXXXXXXXXXXXX----|----XXXXXXXXXXXXXXXXXXXXXXXXX\n",
      "2021-09-24 21:37:07,746 - lwa_f.blocks.block:snap03 - INFO - adc - Chip 7, Lane 1:    XXXXXXXXXXXXXXXXXXXXXXXXXXXXXX----|-----XXXXXXXXXXXXXXXXXXXXXXXX\n",
      "2021-09-24 21:37:07,747 - lwa_f.blocks.block:snap03 - INFO - adc - Chip 7, Lane 2:    XXXXXXXXXXXXXXXXXXXXXXXXXXXXXXX----|----XXXXXXXXXXXXXXXXXXXXXXXX\n",
      "2021-09-24 21:37:07,747 - lwa_f.blocks.block:snap03 - INFO - adc - Chip 7, Lane 3:    XXXXXXXXXXXXXXXXXXXXXXXXXXXXXX----|----XXXXXXXXXXXXXXXXXXXXXXXXX\n",
      "2021-09-24 21:37:07,748 - lwa_f.blocks.block:snap03 - INFO - adc - Chip 7, Lane 4:    XXXXXXXXXXXXXXXXXXXXXXXXXXXXXX----|----XXXXXXXXXXXXXXXXXXXXXXXXX\n",
      "2021-09-24 21:37:07,749 - lwa_f.blocks.block:snap03 - INFO - adc - Chip 7, Lane 5:    XXXXXXXXXXXXXXXXXXXXXXXXXXXXXX----|----XXXXXXXXXXXXXXXXXXXXXXXXX\n",
      "2021-09-24 21:37:07,749 - lwa_f.blocks.block:snap03 - INFO - adc - Chip 7, Lane 6:    XXXXXXXXXXXXXXXXXXXXXXXXXXXXXX----|----XXXXXXXXXXXXXXXXXXXXXXXXX\n",
      "2021-09-24 21:37:07,750 - lwa_f.blocks.block:snap03 - INFO - adc - Chip 7, Lane 7:    XXXXXXXXXXXXXXXXXXXXXXXXXXXXXX----|----XXXXXXXXXXXXXXXXXXXXXXXXX\n",
      "2021-09-24 21:37:11,891 - lwa_f.snap2_fengine:snap03 - INFO - Initializing block (writable): sync\n",
      "2021-09-24 21:37:11,904 - lwa_f.snap2_fengine:snap03 - INFO - Initializing block (writable): noise\n",
      "2021-09-24 21:37:11,910 - lwa_f.snap2_fengine:snap03 - INFO - Initializing block (writable): input\n",
      "2021-09-24 21:37:12,099 - lwa_f.snap2_fengine:snap03 - INFO - Initializing block (writable): delay\n",
      "2021-09-24 21:37:12,612 - lwa_f.snap2_fengine:snap03 - INFO - Initializing block (writable): pfb\n",
      "2021-09-24 21:37:12,627 - lwa_f.snap2_fengine:snap03 - INFO - Initializing block (writable): eq\n",
      "2021-09-24 21:37:13,001 - lwa_f.snap2_fengine:snap03 - INFO - Initializing block (writable): eqtvg\n",
      "2021-09-24 21:37:14,051 - lwa_f.snap2_fengine:snap03 - INFO - Initializing block (writable): reorder\n",
      "2021-09-24 21:37:14,068 - lwa_f.snap2_fengine:snap03 - INFO - Initializing block (writable): packetizer\n",
      "2021-09-24 21:37:14,069 - lwa_f.snap2_fengine:snap03 - INFO - Initializing block (writable): eth\n",
      "2021-09-24 21:37:14,079 - lwa_f.snap2_fengine:snap03 - INFO - Initializing block (writable): autocorr\n",
      "2021-09-24 21:37:14,082 - lwa_f.snap2_fengine:snap03 - INFO - Initializing block (writable): corr\n",
      "2021-09-24 21:37:14,085 - lwa_f.snap2_fengine:snap03 - INFO - Initializing block (writable): powermon\n",
      "2021-09-24 21:37:14,338 - lwa_f.snap2_fengine:snap03 - INFO - Performing software global reset\n"
     ]
    }
   ],
   "source": [
    "#load firmware and initialize etc\n",
    "brd=snap2_fengine.Snap2Fengine(brdname)\n",
    "brd.program(fpgfile)\n",
    "brd.initialize(read_only=False)\n",
    "brd.sync.arm_sync()\n",
    "brd.sync.sw_sync()"
   ]
  },
  {
   "cell_type": "code",
   "execution_count": 9,
   "metadata": {},
   "outputs": [],
   "source": [
    "casperbrd = casperfpga.CasperFpga(brdname, transport=casperfpga.TapcpTransport)"
   ]
  },
  {
   "cell_type": "markdown",
   "metadata": {},
   "source": [
    "## Work on reading and interpreting shared bram\n",
    "First, I do a test similar to how I simulated the threshold excess counters.  I keep the thresholds at zero and make the data a constant for each antenna.  All antennas except 0 should exceed threshold on every clock cycle and antenna 0 should never exceed threshold.  Thus, all counts should be 2^28 because that is the number of clock cycles between reset pulses."
   ]
  },
  {
   "cell_type": "code",
   "execution_count": 11,
   "metadata": {},
   "outputs": [
    {
     "name": "stdout",
     "output_type": "stream",
     "text": [
      "Data source set to constant\n"
     ]
    }
   ],
   "source": [
    "setup_data_source(casperbrd,\"constant\")"
   ]
  },
  {
   "cell_type": "markdown",
   "metadata": {},
   "source": [
    "The shared BRAMS I want to read are:\n",
    "    \n",
    "'cosmic_ray_veto_thresh_rate1'\n",
    "\n",
    "'cosmic_ray_veto_thresh_rate3'  This should be 2 not 3, but I made a typo and in the firmware it's called 3.\n",
    "\n",
    "'cosmic_ray_thresh_rate1'\n",
    "\n",
    "'cosmic_ray_thresh_rate2'\n",
    "\n",
    "'cosmic_ray_core_ant_veto_rate'   This should be cosmic_ray_core_and_veto_rate."
   ]
  },
  {
   "cell_type": "code",
   "execution_count": 10,
   "metadata": {},
   "outputs": [
    {
     "data": {
      "text/plain": [
       "['aaa_onegbe_one_GbE',\n",
       " 'adc_sync',\n",
       " 'ads5296_controller0_0',\n",
       " 'ads5296_controller0_1',\n",
       " 'ads5296_controller1_0',\n",
       " 'ads5296_controller1_1',\n",
       " 'ads5296_hardware_rst0',\n",
       " 'ads5296_hardware_rst1',\n",
       " 'ads5296_spi_controller0',\n",
       " 'ads5296_spi_controller1',\n",
       " 'ads5296_wb_ram0_0_0',\n",
       " 'ads5296_wb_ram0_0_1',\n",
       " 'ads5296_wb_ram0_0_2',\n",
       " 'ads5296_wb_ram0_0_3',\n",
       " 'ads5296_wb_ram0_1_0',\n",
       " 'ads5296_wb_ram0_1_1',\n",
       " 'ads5296_wb_ram0_1_2',\n",
       " 'ads5296_wb_ram0_1_3',\n",
       " 'ads5296_wb_ram1_0_0',\n",
       " 'ads5296_wb_ram1_0_1',\n",
       " 'ads5296_wb_ram1_0_2',\n",
       " 'ads5296_wb_ram1_0_3',\n",
       " 'ads5296_wb_ram1_1_0',\n",
       " 'ads5296_wb_ram1_1_1',\n",
       " 'ads5296_wb_ram1_1_2',\n",
       " 'ads5296_wb_ram1_1_3',\n",
       " 'autocorr_acc_cnt',\n",
       " 'autocorr_acc_len',\n",
       " 'autocorr_common_dout0_bram',\n",
       " 'autocorr_common_dout1_bram',\n",
       " 'autocorr_common_dout2_bram',\n",
       " 'autocorr_common_dout3_bram',\n",
       " 'autocorr_common_dout4_bram',\n",
       " 'autocorr_common_dout5_bram',\n",
       " 'autocorr_common_dout6_bram',\n",
       " 'autocorr_common_dout7_bram',\n",
       " 'autocorr_mux_sel',\n",
       " 'autocorr_trig',\n",
       " 'chan_reorder_dynamic_map1',\n",
       " 'corr_0_acc_cnt',\n",
       " 'corr_0_acc_len',\n",
       " 'corr_0_dout',\n",
       " 'corr_0_input_sel',\n",
       " 'cosmic_ray_core_ant_veto_rate',\n",
       " 'cosmic_ray_cr_dest_ip',\n",
       " 'cosmic_ray_cr_forty_gbe',\n",
       " 'cosmic_ray_cr_forty_gbe_txctr',\n",
       " 'cosmic_ray_cr_forty_gbe_txfullctr',\n",
       " 'cosmic_ray_cr_forty_gbe_txofctr',\n",
       " 'cosmic_ray_cr_forty_gbe_txs0_ss_bram',\n",
       " 'cosmic_ray_cr_forty_gbe_txs0_ss_ctrl',\n",
       " 'cosmic_ray_cr_forty_gbe_txs0_ss_status',\n",
       " 'cosmic_ray_cr_forty_gbe_txs1_ss_bram',\n",
       " 'cosmic_ray_cr_forty_gbe_txs1_ss_ctrl',\n",
       " 'cosmic_ray_cr_forty_gbe_txs1_ss_status',\n",
       " 'cosmic_ray_cr_forty_gbe_txs2_ss_bram',\n",
       " 'cosmic_ray_cr_forty_gbe_txs2_ss_ctrl',\n",
       " 'cosmic_ray_cr_forty_gbe_txs2_ss_status',\n",
       " 'cosmic_ray_cr_forty_gbe_txvldctr',\n",
       " 'cosmic_ray_cr_trigger_power_thresh',\n",
       " 'cosmic_ray_cr_veto_power_thresh',\n",
       " 'cosmic_ray_eth_control',\n",
       " 'cosmic_ray_forty_g_tx_afull',\n",
       " 'cosmic_ray_forty_g_tx_of',\n",
       " 'cosmic_ray_forty_g_up',\n",
       " 'cosmic_ray_quora',\n",
       " 'cosmic_ray_readout_state_timer1',\n",
       " 'cosmic_ray_readout_state_value',\n",
       " 'cosmic_ray_snapshot_counter',\n",
       " 'cosmic_ray_thresh_rate1',\n",
       " 'cosmic_ray_thresh_rate2',\n",
       " 'cosmic_ray_trig_debug_timer',\n",
       " 'cosmic_ray_trig_debug_trig_rec_count',\n",
       " 'cosmic_ray_trigger_antennas1',\n",
       " 'cosmic_ray_trigger_antennas2',\n",
       " 'cosmic_ray_triggercontrol',\n",
       " 'cosmic_ray_tx_count_eof_and_valid',\n",
       " 'cosmic_ray_tx_eof_counter',\n",
       " 'cosmic_ray_version_version',\n",
       " 'cosmic_ray_veto_antennas1',\n",
       " 'cosmic_ray_veto_antennas2',\n",
       " 'cosmic_ray_veto_thresh_rate1',\n",
       " 'cosmic_ray_veto_thresh_rate3',\n",
       " 'cosmic_ray_wait_between_packets',\n",
       " 'cosmic_ray_windows',\n",
       " 'delay_delay0',\n",
       " 'delay_delay1',\n",
       " 'delay_delay_en0',\n",
       " 'delay_delay_en1',\n",
       " 'delay_delay_store0_readout',\n",
       " 'delay_delay_store0_sel',\n",
       " 'delay_delay_store1_readout',\n",
       " 'delay_delay_store1_sel',\n",
       " 'delay_max_delay',\n",
       " 'eq_core0_clip_cnt',\n",
       " 'eq_core0_coeffs',\n",
       " 'eq_core1_clip_cnt',\n",
       " 'eq_core1_coeffs',\n",
       " 'eq_core2_clip_cnt',\n",
       " 'eq_core2_coeffs',\n",
       " 'eq_core3_clip_cnt',\n",
       " 'eq_core3_coeffs',\n",
       " 'eth_ctrl',\n",
       " 'eth_forty_gbe',\n",
       " 'eth_forty_gbe_txctr',\n",
       " 'eth_forty_gbe_txfullctr',\n",
       " 'eth_forty_gbe_txofctr',\n",
       " 'eth_forty_gbe_txvldctr',\n",
       " 'input_bit_stats_histogram_output',\n",
       " 'input_bit_stats_input_sel',\n",
       " 'input_rms_enable',\n",
       " 'input_rms_levels',\n",
       " 'input_source_sel0',\n",
       " 'input_source_sel1',\n",
       " 'input_source_sel2',\n",
       " 'input_source_sel3',\n",
       " 'noise_octal_mux0_sel',\n",
       " 'noise_octal_mux1_sel',\n",
       " 'noise_octal_mux2_sel',\n",
       " 'noise_octal_mux3_sel',\n",
       " 'noise_octal_mux4_sel',\n",
       " 'noise_octal_mux5_sel',\n",
       " 'noise_octal_mux6_sel',\n",
       " 'noise_octal_mux7_sel',\n",
       " 'noise_seeds0',\n",
       " 'packetizer_ants',\n",
       " 'packetizer_chans',\n",
       " 'packetizer_flags',\n",
       " 'packetizer_ips',\n",
       " 'packetizer_n_chans',\n",
       " 'packetizer_n_pols',\n",
       " 'packetizer_ports',\n",
       " 'pfb_ctrl',\n",
       " 'pfb_pfb16x_0_status',\n",
       " 'pfb_pfb16x_1_status',\n",
       " 'pfb_pfb16x_2_status',\n",
       " 'pfb_pfb16x_3_status',\n",
       " 'post_eq_tvg_core0_tv',\n",
       " 'post_eq_tvg_core1_tv',\n",
       " 'post_eq_tvg_core2_tv',\n",
       " 'post_eq_tvg_core3_tv',\n",
       " 'post_eq_tvg_tvg_en',\n",
       " 'powermon_i2c_interface',\n",
       " 'sync_adc_sync_time_lsb',\n",
       " 'sync_adc_sync_time_msb',\n",
       " 'sync_ctrl',\n",
       " 'sync_ext_period_variations',\n",
       " 'sync_ext_pps_period',\n",
       " 'sync_ext_pps_period_variations',\n",
       " 'sync_ext_sync_count',\n",
       " 'sync_ext_sync_period',\n",
       " 'sync_ext_sync_tt_lsb',\n",
       " 'sync_ext_sync_tt_msb',\n",
       " 'sync_int_sync_count',\n",
       " 'sync_int_tt_load_lsb',\n",
       " 'sync_int_tt_load_msb',\n",
       " 'sync_latency',\n",
       " 'sync_latency_variations',\n",
       " 'sync_sync_in_delay_ctrl',\n",
       " 'sync_sync_out_gpio_delay_ctrl',\n",
       " 'sync_tt_load_lsb',\n",
       " 'sync_tt_load_msb',\n",
       " 'sync_tt_lsb',\n",
       " 'sync_tt_mask',\n",
       " 'sync_tt_msb',\n",
       " 'sync_uptime_msb',\n",
       " 'sys_block',\n",
       " 'sys_board_id',\n",
       " 'sys_clkcounter',\n",
       " 'sys_rev',\n",
       " 'sys_rev_rcs',\n",
       " 'sys_scratchpad',\n",
       " 'sysmon',\n",
       " 'version_timestamp',\n",
       " 'version_version']"
      ]
     },
     "execution_count": 10,
     "metadata": {},
     "output_type": "execute_result"
    }
   ],
   "source": [
    "casperbrd.listdev()"
   ]
  },
  {
   "cell_type": "code",
   "execution_count": 69,
   "metadata": {},
   "outputs": [],
   "source": [
    "data = casperbrd.read(\"cosmic_ray_thresh_rate2\",259)\n"
   ]
  },
  {
   "cell_type": "markdown",
   "metadata": {},
   "source": [
    "I expected to only be able to read 4*32 = 128 bytes from this register, but I can read up to 259 wihout getting an error message. Although the length of the bytes object is 256.\n",
    "\n",
    "Checking the simulink design, I made the address width 6 when it should have been 5.  So there should be 256 bytes, the last half of which are empty."
   ]
  },
  {
   "cell_type": "code",
   "execution_count": 70,
   "metadata": {},
   "outputs": [
    {
     "data": {
      "text/plain": [
       "[<matplotlib.lines.Line2D at 0x7f234c180e50>]"
      ]
     },
     "execution_count": 70,
     "metadata": {},
     "output_type": "execute_result"
    },
    {
     "data": {
      "image/png": "[encoded data removed]",
      "text/plain": [
       "<Figure size 432x288 with 1 Axes>"
      ]
     },
     "metadata": {
      "needs_background": "light"
     },
     "output_type": "display_data"
    }
   ],
   "source": [
    "values=struct.unpack('>64l',casperbrd.read(\"cosmic_ray_thresh_rate2\",64*4,0))\n",
    "plt.plot(values)"
   ]
  },
  {
   "cell_type": "code",
   "execution_count": 67,
   "metadata": {},
   "outputs": [],
   "source": [
    "#the following also works for unpacking\n",
    "#data = casperbrd.read(\"cosmic_ray_thresh_rate2\",259)\n",
    "#byteslength=256\n",
    "#values=np.ones(int(byteslength/4))\n",
    "#for i in range(int(byteslength/4)):\n",
    "#    values[i] = int.from_bytes(data[4*i:(4*i)+4],'big')"
   ]
  },
  {
   "cell_type": "code",
   "execution_count": 72,
   "metadata": {},
   "outputs": [
    {
     "name": "stdout",
     "output_type": "stream",
     "text": [
      "268435455\n",
      "268435455\n",
      "268435455\n",
      "0\n"
     ]
    }
   ],
   "source": [
    "print(values[0])\n",
    "print(values[30])\n",
    "print(values[31])\n",
    "print(values[32])"
   ]
  },
  {
   "cell_type": "code",
   "execution_count": 74,
   "metadata": {},
   "outputs": [
    {
     "data": {
      "text/plain": [
       "[<matplotlib.lines.Line2D at 0x7f23499b90d0>]"
      ]
     },
     "execution_count": 74,
     "metadata": {},
     "output_type": "execute_result"
    },
    {
     "data": {
      "image/png": "[encoded data removed]",
      "text/plain": [
       "<Figure size 432x288 with 1 Axes>"
      ]
     },
     "metadata": {
      "needs_background": "light"
     },
     "output_type": "display_data"
    }
   ],
   "source": [
    "values=struct.unpack('>64l',casperbrd.read(\"cosmic_ray_thresh_rate1\",64*4,0))\n",
    "plt.plot(values)"
   ]
  },
  {
   "cell_type": "code",
   "execution_count": 83,
   "metadata": {},
   "outputs": [
    {
     "name": "stdout",
     "output_type": "stream",
     "text": [
      "268435455\n",
      "0\n",
      "268435455\n",
      "268435455\n",
      "268435455\n",
      "268435455\n",
      "0\n"
     ]
    },
    {
     "data": {
      "image/png": "[encoded data removed]",
      "text/plain": [
       "<Figure size 432x288 with 1 Axes>"
      ]
     },
     "metadata": {
      "needs_background": "light"
     },
     "output_type": "display_data"
    }
   ],
   "source": [
    "values=struct.unpack('>64l',casperbrd.read(\"cosmic_ray_veto_thresh_rate1\",64*4,0))\n",
    "plt.plot(values)\n",
    "print(values[0])\n",
    "print(values[1])\n",
    "print(values[2])\n",
    "print(values[3])\n",
    "print(values[30])\n",
    "print(values[31])\n",
    "print(values[32])"
   ]
  },
  {
   "cell_type": "code",
   "execution_count": 86,
   "metadata": {},
   "outputs": [
    {
     "data": {
      "text/plain": [
       "[<matplotlib.lines.Line2D at 0x7f23496e5650>]"
      ]
     },
     "execution_count": 86,
     "metadata": {},
     "output_type": "execute_result"
    },
    {
     "data": {
      "image/png": "[encoded data removed]",
      "text/plain": [
       "<Figure size 432x288 with 1 Axes>"
      ]
     },
     "metadata": {
      "needs_background": "light"
     },
     "output_type": "display_data"
    }
   ],
   "source": [
    "values=struct.unpack('>64l',casperbrd.read(\"cosmic_ray_veto_thresh_rate3\",64*4,0))\n",
    "plt.plot(values)"
   ]
  },
  {
   "cell_type": "markdown",
   "metadata": {},
   "source": [
    "The two pairs of BRAMs each have only one antenna with 0 counts (others are 268435455=2^28 -1). This is good but it's weird that the zero is what I read as antenna 1 not antenna 0."
   ]
  },
  {
   "cell_type": "code",
   "execution_count": 92,
   "metadata": {},
   "outputs": [],
   "source": [
    "def read_threshold_rates(casperbrd):\n",
    "    #Reads the shared BRAMs that hold the number of times the individual antennas exceed thresholds in the last 2^28 clock cycles\n",
    "    #Returns an array of length 64 for the rate each antenna exceeds the core threshold and another for the rate exceeding veto threshold\n",
    "    #casperbrd is a casperfpga CasperFpga object\n",
    "    core = np.zeros(64)\n",
    "    veto = np.zeros(64)\n",
    "    core[:32]= struct.unpack('>32l',casperbrd.read(\"cosmic_ray_thresh_rate1\",32*4,0))\n",
    "    core[32:]= struct.unpack('>32l',casperbrd.read(\"cosmic_ray_thresh_rate2\",32*4,0))\n",
    "    veto[:32]= struct.unpack('>32l',casperbrd.read(\"cosmic_ray_veto_thresh_rate1\",32*4,0))\n",
    "    veto[32:]= struct.unpack('>32l',casperbrd.read(\"cosmic_ray_veto_thresh_rate3\",32*4,0))\n",
    "    return core, veto"
   ]
  },
  {
   "cell_type": "code",
   "execution_count": 96,
   "metadata": {},
   "outputs": [
    {
     "data": {
      "text/plain": [
       "[<matplotlib.lines.Line2D at 0x7f234958da90>]"
      ]
     },
     "execution_count": 96,
     "metadata": {},
     "output_type": "execute_result"
    },
    {
     "data": {
      "image/png": "[encoded data removed]",
      "text/plain": [
       "<Figure size 432x288 with 2 Axes>"
      ]
     },
     "metadata": {
      "needs_background": "light"
     },
     "output_type": "display_data"
    }
   ],
   "source": [
    "core,veto = read_threshold_rates(casperbrd)\n",
    "plt.subplot(121)\n",
    "plt.plot(core)\n",
    "plt.subplot(122)\n",
    "plt.plot(veto)"
   ]
  },
  {
   "cell_type": "markdown",
   "metadata": {},
   "source": [
    "## Check antenna mapping\n",
    "With the test signal as a constant for each antenna, I set different thresholds to confirm antenna ordering in the SBRAMs.  For example, if the threshold is 25=5^2 then antennas less than and equal to 5 should never exceed the threshold.  The ordering is as desired except that it seems to be off by one in each BRAM, such that the 64 numbers in the array correspond to antennas [31,0,1,2,...30,63,32,33,34,...62]."
   ]
  },
  {
   "cell_type": "code",
   "execution_count": 124,
   "metadata": {},
   "outputs": [
    {
     "data": {
      "text/plain": [
       "[<matplotlib.lines.Line2D at 0x7f2348f5ab50>]"
      ]
     },
     "execution_count": 124,
     "metadata": {},
     "output_type": "execute_result"
    },
    {
     "data": {
      "image/png": "[encoded data removed]",
      "text/plain": [
       "<Figure size 432x288 with 2 Axes>"
      ]
     },
     "metadata": {
      "needs_background": "light"
     },
     "output_type": "display_data"
    }
   ],
   "source": [
    "setvalue(casperbrd,\"trigger_power_thresh\",\"cr_registers.xlsx\",33**2)\n",
    "setvalue(casperbrd,\"veto_power_thresh\",\"cr_registers.xlsx\",33**2)\n",
    "\n",
    "getvalue(casperbrd,\"trigger_power_thresh\",\"cr_registers.xlsx\")\n",
    "time.sleep(2)  #have to wait for it to update\n",
    "core,veto = read_threshold_rates(casperbrd)\n",
    "plt.subplot(121)\n",
    "plt.plot(core)\n",
    "plt.subplot(122)\n",
    "plt.plot(veto)\n"
   ]
  },
  {
   "cell_type": "code",
   "execution_count": null,
   "metadata": {},
   "outputs": [],
   "source": [
    "+\n",
    "-++++++++++++++++++++++++++++++++++-++++++++++++++++++++++++++++++-------------------------------------------------**--*+-----------\n",
    "\n",
    "9-\n",
    "\n",
    "-++++++++++++++++\n",
    "9++++++++++++++++++\n",
    "\n",
    "\n",
    "\n",
    "\n",
    "-\n",
    "++++++++++++++++++++++++++++++++++++++++++++\n",
    "9+++++++++++++++++++++++++++++++++++++++++---*-*-+--**--9----*-----*------------------***----------------------------------------*--+--**-*--------------------------------9*----***--*/oo-------9-9-----------------*//9//***-9//88k9/k9/98*+++++++++++++++\n",
    "\n",
    "\n",
    "\n",
    "\n",
    "9699\n",
    "9666969\n",
    "\n",
    "\n",
    "\n",
    "\n",
    "\n",
    "\n",
    "\n",
    "\n",
    "\n",
    "696\n",
    "696636\n",
    "\n",
    "\n",
    "\n",
    "\n",
    "\n",
    "\n",
    "6\n",
    "\n",
    "\n",
    "\n",
    "\n",
    "\n",
    "\n",
    "\n",
    "\n",
    "\n",
    "\n",
    "+\n",
    "\n",
    "\n",
    "\n",
    "\n",
    "\n",
    "\n",
    "\n",
    "\n",
    "\n",
    "\n",
    "\n",
    "\n",
    "\n",
    "\n",
    "\n",
    "\n",
    "\n",
    "\n",
    "\n",
    "\n",
    "\n",
    "\n",
    "\n",
    "\n",
    "6\n",
    "\n",
    "\n",
    "\n",
    "\n",
    "\n",
    "\n",
    "\n",
    "\n"
   ]
  }
 ],
 "metadata": {
  "kernelspec": {
   "display_name": "Python 3",
   "language": "python",
   "name": "python3"
  },
  "language_info": {
   "codemirror_mode": {
    "name": "ipython",
    "version": 3
   },
   "file_extension": ".py",
   "mimetype": "text/x-python",
   "name": "python",
   "nbconvert_exporter": "python",
   "pygments_lexer": "ipython3",
   "version": "3.7.6"
  }
 },
 "nbformat": 4,
 "nbformat_minor": 4
}
