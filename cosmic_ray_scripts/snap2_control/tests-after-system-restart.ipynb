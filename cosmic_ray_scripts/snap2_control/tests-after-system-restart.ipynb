{
 "cells": [
  {
   "cell_type": "markdown",
   "metadata": {},
   "source": [
    "# Tests after system restart\n",
    "This notebook contains simple tests to re-start using the system 2-7-2022.  Everything had been powered off with the AC broken, and on top of that I had been working on something else lately and so I hadn't used lwacr since it was last reprovisioned.\n",
    "\n",
    "Goals:\n",
    "\n",
    "1. Send a snapshot and plot it.\n",
    "\n",
    "2. Run a short threshold scan.\n",
    "\n",
    "Most of this code is adapted from threshold scan notebook.\n"
   ]
  },
  {
   "cell_type": "code",
   "execution_count": 1,
   "metadata": {},
   "outputs": [],
   "source": [
    "import matplotlib.pyplot as plt\n",
    "import numpy as np\n",
    "import casperfpga\n",
    "import time\n",
    "from lwa_f import snap2_fengine\n",
    "#from lwautils import lwa_arx \n",
    "import pandas as pd\n",
    "from cr_functions import *\n",
    "import struct\n",
    "import math\n",
    "from scipy import special as sp\n",
    "from scipy import optimize as oz\n",
    "from scipy import stats as st"
   ]
  },
  {
   "cell_type": "code",
   "execution_count": 2,
   "metadata": {
    "scrolled": true
   },
   "outputs": [
    {
     "name": "stdout",
     "output_type": "stream",
     "text": [
      "2022-02-09 21:48:46,601 - lwa_f.blocks.block:snap01 - WARNING -  - hostname (10.40.0.157) couldn't be turned into integer serial\n",
      "2022-02-09 21:48:46,822 - lwa_f.blocks.block:snap01 - INFO - adc - Detected FMC ADC board on port 0\n",
      "2022-02-09 21:48:47,043 - lwa_f.blocks.block:snap01 - INFO - adc - Detected FMC ADC board on port 1\n",
      "2022-02-09 21:48:47,056 - lwa_f.snap2_fengine:snap01 - INFO - Loading firmware /home/ubuntu/kp/caltech-lwa/snap2_f_200msps_64i_4096c/outputs/snap2_f_200msps_64i_4096c_2021-10-04_1837.fpg to snap01\n",
      "2022-02-09 21:49:08,417 - lwa_f.blocks.block:snap01 - WARNING -  - hostname (10.40.0.157) couldn't be turned into integer serial\n",
      "2022-02-09 21:49:08,639 - lwa_f.blocks.block:snap01 - INFO - adc - Detected FMC ADC board on port 0\n",
      "2022-02-09 21:49:08,852 - lwa_f.blocks.block:snap01 - INFO - adc - Detected FMC ADC board on port 1\n"
     ]
    }
   ],
   "source": [
    "fpgfile=\"/home/ubuntu/kp/caltech-lwa/snap2_f_200msps_64i_4096c/outputs/snap2_f_200msps_64i_4096c_2021-10-04_1837.fpg\"\n",
    "brdname='snap01'\n",
    "#load firmware and initialize etc\n",
    "brd=snap2_fengine.Snap2Fengine(brdname)\n",
    "brd.program(fpgfile)\n",
    "\n",
    "casperbrd = casperfpga.CasperFpga(brdname, transport=casperfpga.TapcpTransport)"
   ]
  },
  {
   "cell_type": "markdown",
   "metadata": {},
   "source": [
    "## Check which boards are connected"
   ]
  },
  {
   "cell_type": "code",
   "execution_count": 3,
   "metadata": {},
   "outputs": [
    {
     "name": "stdout",
     "output_type": "stream",
     "text": [
      "snap01\n",
      "['aaa_onegbe_one_GbE', 'adc_sync', 'ads5296_controller0_0', 'ads5296_controller0_1', 'ads5296_controller1_0', 'ads5296_controller1_1', 'ads5296_hardware_rst0', 'ads5296_hardware_rst1', 'ads5296_spi_controller0', 'ads5296_spi_controller1', 'ads5296_wb_ram0_0_0', 'ads5296_wb_ram0_0_1', 'ads5296_wb_ram0_0_2', 'ads5296_wb_ram0_0_3', 'ads5296_wb_ram0_1_0', 'ads5296_wb_ram0_1_1', 'ads5296_wb_ram0_1_2', 'ads5296_wb_ram0_1_3', 'ads5296_wb_ram1_0_0', 'ads5296_wb_ram1_0_1', 'ads5296_wb_ram1_0_2', 'ads5296_wb_ram1_0_3', 'ads5296_wb_ram1_1_0', 'ads5296_wb_ram1_1_1', 'ads5296_wb_ram1_1_2', 'ads5296_wb_ram1_1_3', 'autocorr_acc_cnt', 'autocorr_acc_len', 'autocorr_common_dout0_bram', 'autocorr_common_dout1_bram', 'autocorr_common_dout2_bram', 'autocorr_common_dout3_bram', 'autocorr_common_dout4_bram', 'autocorr_common_dout5_bram', 'autocorr_common_dout6_bram', 'autocorr_common_dout7_bram', 'autocorr_mux_sel', 'autocorr_trig', 'chan_reorder_dynamic_map1', 'corr_0_acc_cnt', 'corr_0_acc_len', 'corr_0_dout', 'corr_0_input_sel', 'cosmic_ray_core_and_veto_rate', 'cosmic_ray_cr_dest_ip', 'cosmic_ray_cr_forty_gbe', 'cosmic_ray_cr_forty_gbe_txctr', 'cosmic_ray_cr_forty_gbe_txfullctr', 'cosmic_ray_cr_forty_gbe_txofctr', 'cosmic_ray_cr_forty_gbe_txs0_ss_bram', 'cosmic_ray_cr_forty_gbe_txs0_ss_ctrl', 'cosmic_ray_cr_forty_gbe_txs0_ss_status', 'cosmic_ray_cr_forty_gbe_txs1_ss_bram', 'cosmic_ray_cr_forty_gbe_txs1_ss_ctrl', 'cosmic_ray_cr_forty_gbe_txs1_ss_status', 'cosmic_ray_cr_forty_gbe_txs2_ss_bram', 'cosmic_ray_cr_forty_gbe_txs2_ss_ctrl', 'cosmic_ray_cr_forty_gbe_txs2_ss_status', 'cosmic_ray_cr_forty_gbe_txvldctr', 'cosmic_ray_cr_trigger_power_thresh', 'cosmic_ray_cr_veto_power_thresh', 'cosmic_ray_eth_control', 'cosmic_ray_forty_g_tx_afull', 'cosmic_ray_forty_g_tx_of', 'cosmic_ray_forty_g_up', 'cosmic_ray_quora', 'cosmic_ray_readout_state_timer1', 'cosmic_ray_readout_state_value', 'cosmic_ray_snapshot_counter', 'cosmic_ray_thresh_rate1', 'cosmic_ray_thresh_rate2', 'cosmic_ray_trig_debug_timer', 'cosmic_ray_trig_debug_trig_rec_count', 'cosmic_ray_trigger_antennas1', 'cosmic_ray_trigger_antennas2', 'cosmic_ray_triggercontrol', 'cosmic_ray_tx_count_eof_and_valid', 'cosmic_ray_tx_eof_counter', 'cosmic_ray_version_version', 'cosmic_ray_veto_antennas1', 'cosmic_ray_veto_antennas2', 'cosmic_ray_veto_thresh_rate1', 'cosmic_ray_veto_thresh_rate2', 'cosmic_ray_wait_between_packets', 'cosmic_ray_windows', 'delay_delay0', 'delay_delay1', 'delay_delay_en0', 'delay_delay_en1', 'delay_delay_store0_readout', 'delay_delay_store0_sel', 'delay_delay_store1_readout', 'delay_delay_store1_sel', 'delay_max_delay', 'eq_core0_clip_cnt', 'eq_core0_coeffs', 'eq_core1_clip_cnt', 'eq_core1_coeffs', 'eq_core2_clip_cnt', 'eq_core2_coeffs', 'eq_core3_clip_cnt', 'eq_core3_coeffs', 'eth_ctrl', 'eth_forty_gbe', 'eth_forty_gbe_txctr', 'eth_forty_gbe_txfullctr', 'eth_forty_gbe_txofctr', 'eth_forty_gbe_txvldctr', 'input_bit_stats_histogram_output', 'input_bit_stats_input_sel', 'input_rms_enable', 'input_rms_levels', 'input_source_sel0', 'input_source_sel1', 'input_source_sel2', 'input_source_sel3', 'noise_octal_mux0_sel', 'noise_octal_mux1_sel', 'noise_octal_mux2_sel', 'noise_octal_mux3_sel', 'noise_octal_mux4_sel', 'noise_octal_mux5_sel', 'noise_octal_mux6_sel', 'noise_octal_mux7_sel', 'noise_seeds0', 'packetizer_ants', 'packetizer_chans', 'packetizer_flags', 'packetizer_ips', 'packetizer_n_chans', 'packetizer_n_pols', 'packetizer_ports', 'pfb_ctrl', 'pfb_pfb16x_0_status', 'pfb_pfb16x_1_status', 'pfb_pfb16x_2_status', 'pfb_pfb16x_3_status', 'post_eq_tvg_core0_tv', 'post_eq_tvg_core1_tv', 'post_eq_tvg_core2_tv', 'post_eq_tvg_core3_tv', 'post_eq_tvg_tvg_en', 'powermon_i2c_interface', 'sync_adc_sync_time_lsb', 'sync_adc_sync_time_msb', 'sync_ctrl', 'sync_ext_period_variations', 'sync_ext_pps_period', 'sync_ext_pps_period_variations', 'sync_ext_sync_count', 'sync_ext_sync_period', 'sync_ext_sync_tt_lsb', 'sync_ext_sync_tt_msb', 'sync_int_sync_count', 'sync_int_tt_load_lsb', 'sync_int_tt_load_msb', 'sync_latency', 'sync_latency_variations', 'sync_sync_in_delay_ctrl', 'sync_sync_out_gpio_delay_ctrl', 'sync_tt_load_lsb', 'sync_tt_load_msb', 'sync_tt_lsb', 'sync_tt_mask', 'sync_tt_msb', 'sync_uptime_msb', 'sys_block', 'sys_board_id', 'sys_clkcounter', 'sys_rev', 'sys_rev_rcs', 'sys_scratchpad', 'sysmon', 'version_timestamp', 'version_version']\n",
      "True\n",
      "snap02\n",
      "['aaa_onegbe_one_GbE', 'adc_sync', 'ads5296_controller0_0', 'ads5296_controller0_1', 'ads5296_controller1_0', 'ads5296_controller1_1', 'ads5296_hardware_rst0', 'ads5296_hardware_rst1', 'ads5296_spi_controller0', 'ads5296_spi_controller1', 'ads5296_wb_ram0_0_0', 'ads5296_wb_ram0_0_1', 'ads5296_wb_ram0_0_2', 'ads5296_wb_ram0_0_3', 'ads5296_wb_ram0_1_0', 'ads5296_wb_ram0_1_1', 'ads5296_wb_ram0_1_2', 'ads5296_wb_ram0_1_3', 'ads5296_wb_ram1_0_0', 'ads5296_wb_ram1_0_1', 'ads5296_wb_ram1_0_2', 'ads5296_wb_ram1_0_3', 'ads5296_wb_ram1_1_0', 'ads5296_wb_ram1_1_1', 'ads5296_wb_ram1_1_2', 'ads5296_wb_ram1_1_3', 'autocorr_acc_cnt', 'autocorr_acc_len', 'autocorr_common_dout0_bram', 'autocorr_common_dout1_bram', 'autocorr_common_dout2_bram', 'autocorr_common_dout3_bram', 'autocorr_common_dout4_bram', 'autocorr_common_dout5_bram', 'autocorr_common_dout6_bram', 'autocorr_common_dout7_bram', 'autocorr_mux_sel', 'autocorr_trig', 'chan_reorder_dynamic_map1', 'corr_0_acc_cnt', 'corr_0_acc_len', 'corr_0_dout', 'corr_0_input_sel', 'cosmic_ray_core_trigger_timestamps', 'cosmic_ray_cr_dest_ip', 'cosmic_ray_cr_forty_gbe', 'cosmic_ray_cr_forty_gbe_txctr', 'cosmic_ray_cr_forty_gbe_txfullctr', 'cosmic_ray_cr_forty_gbe_txofctr', 'cosmic_ray_cr_forty_gbe_txs0_ss_bram', 'cosmic_ray_cr_forty_gbe_txs0_ss_ctrl', 'cosmic_ray_cr_forty_gbe_txs0_ss_status', 'cosmic_ray_cr_forty_gbe_txs1_ss_bram', 'cosmic_ray_cr_forty_gbe_txs1_ss_ctrl', 'cosmic_ray_cr_forty_gbe_txs1_ss_status', 'cosmic_ray_cr_forty_gbe_txs2_ss_bram', 'cosmic_ray_cr_forty_gbe_txs2_ss_ctrl', 'cosmic_ray_cr_forty_gbe_txs2_ss_status', 'cosmic_ray_cr_forty_gbe_txvldctr', 'cosmic_ray_cr_trigger_power_thresh', 'cosmic_ray_cr_veto_power_thresh', 'cosmic_ray_eth_control', 'cosmic_ray_forty_g_tx_afull', 'cosmic_ray_forty_g_tx_of', 'cosmic_ray_forty_g_up', 'cosmic_ray_quora', 'cosmic_ray_readout_state_timer1', 'cosmic_ray_readout_state_value', 'cosmic_ray_snapshot_counter', 'cosmic_ray_trig_debug_timer', 'cosmic_ray_trig_debug_trig_rec_count', 'cosmic_ray_trigger_antennas1', 'cosmic_ray_trigger_antennas2', 'cosmic_ray_triggercontrol', 'cosmic_ray_tx_count_eof_and_valid', 'cosmic_ray_tx_eof_counter', 'cosmic_ray_veto_antennas1', 'cosmic_ray_veto_antennas2', 'cosmic_ray_veto_timestamps', 'cosmic_ray_wait_between_packets', 'cosmic_ray_windows', 'delay_delay0', 'delay_delay1', 'delay_delay_en0', 'delay_delay_en1', 'delay_delay_store0_readout', 'delay_delay_store0_sel', 'delay_delay_store1_readout', 'delay_delay_store1_sel', 'delay_max_delay', 'eq_core0_clip_cnt', 'eq_core0_coeffs', 'eq_core1_clip_cnt', 'eq_core1_coeffs', 'eq_core2_clip_cnt', 'eq_core2_coeffs', 'eq_core3_clip_cnt', 'eq_core3_coeffs', 'eth_ctrl', 'eth_forty_gbe', 'eth_forty_gbe_txctr', 'eth_forty_gbe_txfullctr', 'eth_forty_gbe_txofctr', 'eth_forty_gbe_txvldctr', 'input_bit_stats_histogram_output', 'input_bit_stats_input_sel', 'input_rms_enable', 'input_rms_levels', 'input_source_sel0', 'input_source_sel1', 'input_source_sel2', 'input_source_sel3', 'noise_octal_mux0_sel', 'noise_octal_mux1_sel', 'noise_octal_mux2_sel', 'noise_octal_mux3_sel', 'noise_octal_mux4_sel', 'noise_octal_mux5_sel', 'noise_octal_mux6_sel', 'noise_octal_mux7_sel', 'noise_seeds0', 'packetizer_ants', 'packetizer_chans', 'packetizer_flags', 'packetizer_ips', 'packetizer_n_chans', 'packetizer_n_pols', 'packetizer_ports', 'pfb_ctrl', 'pfb_pfb16x_0_status', 'pfb_pfb16x_1_status', 'pfb_pfb16x_2_status', 'pfb_pfb16x_3_status', 'post_eq_tvg_core0_tv', 'post_eq_tvg_core1_tv', 'post_eq_tvg_core2_tv', 'post_eq_tvg_core3_tv', 'post_eq_tvg_tvg_en', 'powermon_i2c_interface', 'sync_adc_sync_time_lsb', 'sync_adc_sync_time_msb', 'sync_ctrl', 'sync_ext_period_variations', 'sync_ext_pps_period', 'sync_ext_pps_period_variations', 'sync_ext_sync_count', 'sync_ext_sync_period', 'sync_ext_sync_tt_lsb', 'sync_ext_sync_tt_msb', 'sync_int_sync_count', 'sync_int_tt_load_lsb', 'sync_int_tt_load_msb', 'sync_latency', 'sync_latency_variations', 'sync_sync_in_delay_ctrl', 'sync_sync_out_gpio_delay_ctrl', 'sync_tt_load_lsb', 'sync_tt_load_msb', 'sync_tt_lsb', 'sync_tt_mask', 'sync_tt_msb', 'sync_uptime_msb', 'sys_block', 'sys_board_id', 'sys_clkcounter', 'sys_rev', 'sys_rev_rcs', 'sys_scratchpad', 'sysmon', 'version_timestamp', 'version_version']\n",
      "True\n",
      "snap03\n",
      "['aaa_onegbe_one_GbE', 'adc_sync', 'ads5296_controller0_0', 'ads5296_controller0_1', 'ads5296_controller1_0', 'ads5296_controller1_1', 'ads5296_hardware_rst0', 'ads5296_hardware_rst1', 'ads5296_spi_controller0', 'ads5296_spi_controller1', 'ads5296_wb_ram0_0_0', 'ads5296_wb_ram0_0_1', 'ads5296_wb_ram0_0_2', 'ads5296_wb_ram0_0_3', 'ads5296_wb_ram0_1_0', 'ads5296_wb_ram0_1_1', 'ads5296_wb_ram0_1_2', 'ads5296_wb_ram0_1_3', 'ads5296_wb_ram1_0_0', 'ads5296_wb_ram1_0_1', 'ads5296_wb_ram1_0_2', 'ads5296_wb_ram1_0_3', 'ads5296_wb_ram1_1_0', 'ads5296_wb_ram1_1_1', 'ads5296_wb_ram1_1_2', 'ads5296_wb_ram1_1_3', 'autocorr_acc_cnt', 'autocorr_acc_len', 'autocorr_common_dout0_bram', 'autocorr_common_dout1_bram', 'autocorr_common_dout2_bram', 'autocorr_common_dout3_bram', 'autocorr_common_dout4_bram', 'autocorr_common_dout5_bram', 'autocorr_common_dout6_bram', 'autocorr_common_dout7_bram', 'autocorr_mux_sel', 'autocorr_trig', 'chan_reorder_dynamic_map1', 'corr_0_acc_cnt', 'corr_0_acc_len', 'corr_0_dout', 'corr_0_input_sel', 'cosmic_ray_core_trigger_timestamps', 'cosmic_ray_cr_dest_ip', 'cosmic_ray_cr_forty_gbe', 'cosmic_ray_cr_forty_gbe_txctr', 'cosmic_ray_cr_forty_gbe_txfullctr', 'cosmic_ray_cr_forty_gbe_txofctr', 'cosmic_ray_cr_forty_gbe_txs0_ss_bram', 'cosmic_ray_cr_forty_gbe_txs0_ss_ctrl', 'cosmic_ray_cr_forty_gbe_txs0_ss_status', 'cosmic_ray_cr_forty_gbe_txs1_ss_bram', 'cosmic_ray_cr_forty_gbe_txs1_ss_ctrl', 'cosmic_ray_cr_forty_gbe_txs1_ss_status', 'cosmic_ray_cr_forty_gbe_txs2_ss_bram', 'cosmic_ray_cr_forty_gbe_txs2_ss_ctrl', 'cosmic_ray_cr_forty_gbe_txs2_ss_status', 'cosmic_ray_cr_forty_gbe_txvldctr', 'cosmic_ray_cr_trigger_power_thresh', 'cosmic_ray_cr_veto_power_thresh', 'cosmic_ray_eth_control', 'cosmic_ray_forty_g_tx_afull', 'cosmic_ray_forty_g_tx_of', 'cosmic_ray_forty_g_up', 'cosmic_ray_quora', 'cosmic_ray_readout_state_timer1', 'cosmic_ray_readout_state_value', 'cosmic_ray_snapshot_counter', 'cosmic_ray_trig_debug_timer', 'cosmic_ray_trig_debug_trig_rec_count', 'cosmic_ray_trigger_antennas1', 'cosmic_ray_trigger_antennas2', 'cosmic_ray_triggercontrol', 'cosmic_ray_tx_count_eof_and_valid', 'cosmic_ray_tx_eof_counter', 'cosmic_ray_veto_antennas1', 'cosmic_ray_veto_antennas2', 'cosmic_ray_veto_timestamps', 'cosmic_ray_wait_between_packets', 'cosmic_ray_windows', 'delay_delay0', 'delay_delay1', 'delay_delay_en0', 'delay_delay_en1', 'delay_delay_store0_readout', 'delay_delay_store0_sel', 'delay_delay_store1_readout', 'delay_delay_store1_sel', 'delay_max_delay', 'eq_core0_clip_cnt', 'eq_core0_coeffs', 'eq_core1_clip_cnt', 'eq_core1_coeffs', 'eq_core2_clip_cnt', 'eq_core2_coeffs', 'eq_core3_clip_cnt', 'eq_core3_coeffs', 'eth_ctrl', 'eth_forty_gbe', 'eth_forty_gbe_txctr', 'eth_forty_gbe_txfullctr', 'eth_forty_gbe_txofctr', 'eth_forty_gbe_txvldctr', 'input_bit_stats_histogram_output', 'input_bit_stats_input_sel', 'input_rms_enable', 'input_rms_levels', 'input_source_sel0', 'input_source_sel1', 'input_source_sel2', 'input_source_sel3', 'noise_octal_mux0_sel', 'noise_octal_mux1_sel', 'noise_octal_mux2_sel', 'noise_octal_mux3_sel', 'noise_octal_mux4_sel', 'noise_octal_mux5_sel', 'noise_octal_mux6_sel', 'noise_octal_mux7_sel', 'noise_seeds0', 'packetizer_ants', 'packetizer_chans', 'packetizer_flags', 'packetizer_ips', 'packetizer_n_chans', 'packetizer_n_pols', 'packetizer_ports', 'pfb_ctrl', 'pfb_pfb16x_0_status', 'pfb_pfb16x_1_status', 'pfb_pfb16x_2_status', 'pfb_pfb16x_3_status', 'post_eq_tvg_core0_tv', 'post_eq_tvg_core1_tv', 'post_eq_tvg_core2_tv', 'post_eq_tvg_core3_tv', 'post_eq_tvg_tvg_en', 'powermon_i2c_interface', 'sync_adc_sync_time_lsb', 'sync_adc_sync_time_msb', 'sync_ctrl', 'sync_ext_period_variations', 'sync_ext_pps_period', 'sync_ext_pps_period_variations', 'sync_ext_sync_count', 'sync_ext_sync_period', 'sync_ext_sync_tt_lsb', 'sync_ext_sync_tt_msb', 'sync_int_sync_count', 'sync_int_tt_load_lsb', 'sync_int_tt_load_msb', 'sync_latency', 'sync_latency_variations', 'sync_sync_in_delay_ctrl', 'sync_sync_out_gpio_delay_ctrl', 'sync_tt_load_lsb', 'sync_tt_load_msb', 'sync_tt_lsb', 'sync_tt_mask', 'sync_tt_msb', 'sync_uptime_msb', 'sys_block', 'sys_board_id', 'sys_clkcounter', 'sys_rev', 'sys_rev_rcs', 'sys_scratchpad', 'sysmon', 'version_timestamp', 'version_version']\n",
      "True\n",
      "snap04\n",
      "['aaa_onegbe_one_GbE', 'adc_sync', 'ads5296_controller0_0', 'ads5296_controller0_1', 'ads5296_controller1_0', 'ads5296_controller1_1', 'ads5296_hardware_rst0', 'ads5296_hardware_rst1', 'ads5296_spi_controller0', 'ads5296_spi_controller1', 'ads5296_wb_ram0_0_0', 'ads5296_wb_ram0_0_1', 'ads5296_wb_ram0_0_2', 'ads5296_wb_ram0_0_3', 'ads5296_wb_ram0_1_0', 'ads5296_wb_ram0_1_1', 'ads5296_wb_ram0_1_2', 'ads5296_wb_ram0_1_3', 'ads5296_wb_ram1_0_0', 'ads5296_wb_ram1_0_1', 'ads5296_wb_ram1_0_2', 'ads5296_wb_ram1_0_3', 'ads5296_wb_ram1_1_0', 'ads5296_wb_ram1_1_1', 'ads5296_wb_ram1_1_2', 'ads5296_wb_ram1_1_3', 'autocorr_acc_cnt', 'autocorr_acc_len', 'autocorr_common_dout0_bram', 'autocorr_common_dout1_bram', 'autocorr_common_dout2_bram', 'autocorr_common_dout3_bram', 'autocorr_common_dout4_bram', 'autocorr_common_dout5_bram', 'autocorr_common_dout6_bram', 'autocorr_common_dout7_bram', 'autocorr_mux_sel', 'autocorr_trig', 'chan_reorder_dynamic_map1', 'corr_0_acc_cnt', 'corr_0_acc_len', 'corr_0_dout', 'corr_0_input_sel', 'cosmic_ray_core_trigger_timestamps', 'cosmic_ray_cr_dest_ip', 'cosmic_ray_cr_forty_gbe', 'cosmic_ray_cr_forty_gbe_txctr', 'cosmic_ray_cr_forty_gbe_txfullctr', 'cosmic_ray_cr_forty_gbe_txofctr', 'cosmic_ray_cr_forty_gbe_txs0_ss_bram', 'cosmic_ray_cr_forty_gbe_txs0_ss_ctrl', 'cosmic_ray_cr_forty_gbe_txs0_ss_status', 'cosmic_ray_cr_forty_gbe_txs1_ss_bram', 'cosmic_ray_cr_forty_gbe_txs1_ss_ctrl', 'cosmic_ray_cr_forty_gbe_txs1_ss_status', 'cosmic_ray_cr_forty_gbe_txs2_ss_bram', 'cosmic_ray_cr_forty_gbe_txs2_ss_ctrl', 'cosmic_ray_cr_forty_gbe_txs2_ss_status', 'cosmic_ray_cr_forty_gbe_txvldctr', 'cosmic_ray_cr_trigger_power_thresh', 'cosmic_ray_cr_veto_power_thresh', 'cosmic_ray_eth_control', 'cosmic_ray_forty_g_tx_afull', 'cosmic_ray_forty_g_tx_of', 'cosmic_ray_forty_g_up', 'cosmic_ray_quora', 'cosmic_ray_readout_state_timer1', 'cosmic_ray_readout_state_value', 'cosmic_ray_snapshot_counter', 'cosmic_ray_trig_debug_timer', 'cosmic_ray_trig_debug_trig_rec_count', 'cosmic_ray_trigger_antennas1', 'cosmic_ray_trigger_antennas2', 'cosmic_ray_triggercontrol', 'cosmic_ray_tx_count_eof_and_valid', 'cosmic_ray_tx_eof_counter', 'cosmic_ray_veto_antennas1', 'cosmic_ray_veto_antennas2', 'cosmic_ray_veto_timestamps', 'cosmic_ray_wait_between_packets', 'cosmic_ray_windows', 'delay_delay0', 'delay_delay1', 'delay_delay_en0', 'delay_delay_en1', 'delay_delay_store0_readout', 'delay_delay_store0_sel', 'delay_delay_store1_readout', 'delay_delay_store1_sel', 'delay_max_delay', 'eq_core0_clip_cnt', 'eq_core0_coeffs', 'eq_core1_clip_cnt', 'eq_core1_coeffs', 'eq_core2_clip_cnt', 'eq_core2_coeffs', 'eq_core3_clip_cnt', 'eq_core3_coeffs', 'eth_ctrl', 'eth_forty_gbe', 'eth_forty_gbe_txctr', 'eth_forty_gbe_txfullctr', 'eth_forty_gbe_txofctr', 'eth_forty_gbe_txvldctr', 'input_bit_stats_histogram_output', 'input_bit_stats_input_sel', 'input_rms_enable', 'input_rms_levels', 'input_source_sel0', 'input_source_sel1', 'input_source_sel2', 'input_source_sel3', 'noise_octal_mux0_sel', 'noise_octal_mux1_sel', 'noise_octal_mux2_sel', 'noise_octal_mux3_sel', 'noise_octal_mux4_sel', 'noise_octal_mux5_sel', 'noise_octal_mux6_sel', 'noise_octal_mux7_sel', 'noise_seeds0', 'packetizer_ants', 'packetizer_chans', 'packetizer_flags', 'packetizer_ips', 'packetizer_n_chans', 'packetizer_n_pols', 'packetizer_ports', 'pfb_ctrl', 'pfb_pfb16x_0_status', 'pfb_pfb16x_1_status', 'pfb_pfb16x_2_status', 'pfb_pfb16x_3_status', 'post_eq_tvg_core0_tv', 'post_eq_tvg_core1_tv', 'post_eq_tvg_core2_tv', 'post_eq_tvg_core3_tv', 'post_eq_tvg_tvg_en', 'powermon_i2c_interface', 'sync_adc_sync_time_lsb', 'sync_adc_sync_time_msb', 'sync_ctrl', 'sync_ext_period_variations', 'sync_ext_pps_period', 'sync_ext_pps_period_variations', 'sync_ext_sync_count', 'sync_ext_sync_period', 'sync_ext_sync_tt_lsb', 'sync_ext_sync_tt_msb', 'sync_int_sync_count', 'sync_int_tt_load_lsb', 'sync_int_tt_load_msb', 'sync_latency', 'sync_latency_variations', 'sync_sync_in_delay_ctrl', 'sync_sync_out_gpio_delay_ctrl', 'sync_tt_load_lsb', 'sync_tt_load_msb', 'sync_tt_lsb', 'sync_tt_mask', 'sync_tt_msb', 'sync_uptime_msb', 'sys_block', 'sys_board_id', 'sys_clkcounter', 'sys_rev', 'sys_rev_rcs', 'sys_scratchpad', 'sysmon', 'version_timestamp', 'version_version']\n",
      "True\n",
      "snap05\n",
      "['aaa_onegbe_one_GbE', 'adc_sync', 'ads5296_controller0_0', 'ads5296_controller0_1', 'ads5296_controller1_0', 'ads5296_controller1_1', 'ads5296_hardware_rst0', 'ads5296_hardware_rst1', 'ads5296_spi_controller0', 'ads5296_spi_controller1', 'ads5296_wb_ram0_0_0', 'ads5296_wb_ram0_0_1', 'ads5296_wb_ram0_0_2', 'ads5296_wb_ram0_0_3', 'ads5296_wb_ram0_1_0', 'ads5296_wb_ram0_1_1', 'ads5296_wb_ram0_1_2', 'ads5296_wb_ram0_1_3', 'ads5296_wb_ram1_0_0', 'ads5296_wb_ram1_0_1', 'ads5296_wb_ram1_0_2', 'ads5296_wb_ram1_0_3', 'ads5296_wb_ram1_1_0', 'ads5296_wb_ram1_1_1', 'ads5296_wb_ram1_1_2', 'ads5296_wb_ram1_1_3', 'autocorr_acc_cnt', 'autocorr_acc_len', 'autocorr_common_dout0_bram', 'autocorr_common_dout1_bram', 'autocorr_common_dout2_bram', 'autocorr_common_dout3_bram', 'autocorr_common_dout4_bram', 'autocorr_common_dout5_bram', 'autocorr_common_dout6_bram', 'autocorr_common_dout7_bram', 'autocorr_mux_sel', 'autocorr_trig', 'chan_reorder_dynamic_map1', 'corr_0_acc_cnt', 'corr_0_acc_len', 'corr_0_dout', 'corr_0_input_sel', 'cosmic_ray_core_trigger_timestamps', 'cosmic_ray_cr_dest_ip', 'cosmic_ray_cr_forty_gbe', 'cosmic_ray_cr_forty_gbe_txctr', 'cosmic_ray_cr_forty_gbe_txfullctr', 'cosmic_ray_cr_forty_gbe_txofctr', 'cosmic_ray_cr_forty_gbe_txs0_ss_bram', 'cosmic_ray_cr_forty_gbe_txs0_ss_ctrl', 'cosmic_ray_cr_forty_gbe_txs0_ss_status', 'cosmic_ray_cr_forty_gbe_txs1_ss_bram', 'cosmic_ray_cr_forty_gbe_txs1_ss_ctrl', 'cosmic_ray_cr_forty_gbe_txs1_ss_status', 'cosmic_ray_cr_forty_gbe_txs2_ss_bram', 'cosmic_ray_cr_forty_gbe_txs2_ss_ctrl', 'cosmic_ray_cr_forty_gbe_txs2_ss_status', 'cosmic_ray_cr_forty_gbe_txvldctr', 'cosmic_ray_cr_trigger_power_thresh', 'cosmic_ray_cr_veto_power_thresh', 'cosmic_ray_eth_control', 'cosmic_ray_forty_g_tx_afull', 'cosmic_ray_forty_g_tx_of', 'cosmic_ray_forty_g_up', 'cosmic_ray_quora', 'cosmic_ray_readout_state_timer1', 'cosmic_ray_readout_state_value', 'cosmic_ray_snapshot_counter', 'cosmic_ray_trig_debug_timer', 'cosmic_ray_trig_debug_trig_rec_count', 'cosmic_ray_trigger_antennas1', 'cosmic_ray_trigger_antennas2', 'cosmic_ray_triggercontrol', 'cosmic_ray_tx_count_eof_and_valid', 'cosmic_ray_tx_eof_counter', 'cosmic_ray_veto_antennas1', 'cosmic_ray_veto_antennas2', 'cosmic_ray_veto_timestamps', 'cosmic_ray_wait_between_packets', 'cosmic_ray_windows', 'delay_delay0', 'delay_delay1', 'delay_delay_en0', 'delay_delay_en1', 'delay_delay_store0_readout', 'delay_delay_store0_sel', 'delay_delay_store1_readout', 'delay_delay_store1_sel', 'delay_max_delay', 'eq_core0_clip_cnt', 'eq_core0_coeffs', 'eq_core1_clip_cnt', 'eq_core1_coeffs', 'eq_core2_clip_cnt', 'eq_core2_coeffs', 'eq_core3_clip_cnt', 'eq_core3_coeffs', 'eth_ctrl', 'eth_forty_gbe', 'eth_forty_gbe_txctr', 'eth_forty_gbe_txfullctr', 'eth_forty_gbe_txofctr', 'eth_forty_gbe_txvldctr', 'input_bit_stats_histogram_output', 'input_bit_stats_input_sel', 'input_rms_enable', 'input_rms_levels', 'input_source_sel0', 'input_source_sel1', 'input_source_sel2', 'input_source_sel3', 'noise_octal_mux0_sel', 'noise_octal_mux1_sel', 'noise_octal_mux2_sel', 'noise_octal_mux3_sel', 'noise_octal_mux4_sel', 'noise_octal_mux5_sel', 'noise_octal_mux6_sel', 'noise_octal_mux7_sel', 'noise_seeds0', 'packetizer_ants', 'packetizer_chans', 'packetizer_flags', 'packetizer_ips', 'packetizer_n_chans', 'packetizer_n_pols', 'packetizer_ports', 'pfb_ctrl', 'pfb_pfb16x_0_status', 'pfb_pfb16x_1_status', 'pfb_pfb16x_2_status', 'pfb_pfb16x_3_status', 'post_eq_tvg_core0_tv', 'post_eq_tvg_core1_tv', 'post_eq_tvg_core2_tv', 'post_eq_tvg_core3_tv', 'post_eq_tvg_tvg_en', 'powermon_i2c_interface', 'sync_adc_sync_time_lsb', 'sync_adc_sync_time_msb', 'sync_ctrl', 'sync_ext_period_variations', 'sync_ext_pps_period', 'sync_ext_pps_period_variations', 'sync_ext_sync_count', 'sync_ext_sync_period', 'sync_ext_sync_tt_lsb', 'sync_ext_sync_tt_msb', 'sync_int_sync_count', 'sync_int_tt_load_lsb', 'sync_int_tt_load_msb', 'sync_latency', 'sync_latency_variations', 'sync_sync_in_delay_ctrl', 'sync_sync_out_gpio_delay_ctrl', 'sync_tt_load_lsb', 'sync_tt_load_msb', 'sync_tt_lsb', 'sync_tt_mask', 'sync_tt_msb', 'sync_uptime_msb', 'sys_block', 'sys_board_id', 'sys_clkcounter', 'sys_rev', 'sys_rev_rcs', 'sys_scratchpad', 'sysmon', 'version_timestamp', 'version_version']\n",
      "True\n",
      "snap06\n",
      "['aaa_onegbe_one_GbE', 'adc_sync', 'ads5296_controller0_0', 'ads5296_controller0_1', 'ads5296_controller1_0', 'ads5296_controller1_1', 'ads5296_hardware_rst0', 'ads5296_hardware_rst1', 'ads5296_spi_controller0', 'ads5296_spi_controller1', 'ads5296_wb_ram0_0_0', 'ads5296_wb_ram0_0_1', 'ads5296_wb_ram0_0_2', 'ads5296_wb_ram0_0_3', 'ads5296_wb_ram0_1_0', 'ads5296_wb_ram0_1_1', 'ads5296_wb_ram0_1_2', 'ads5296_wb_ram0_1_3', 'ads5296_wb_ram1_0_0', 'ads5296_wb_ram1_0_1', 'ads5296_wb_ram1_0_2', 'ads5296_wb_ram1_0_3', 'ads5296_wb_ram1_1_0', 'ads5296_wb_ram1_1_1', 'ads5296_wb_ram1_1_2', 'ads5296_wb_ram1_1_3', 'autocorr_acc_cnt', 'autocorr_acc_len', 'autocorr_common_dout0_bram', 'autocorr_common_dout1_bram', 'autocorr_common_dout2_bram', 'autocorr_common_dout3_bram', 'autocorr_common_dout4_bram', 'autocorr_common_dout5_bram', 'autocorr_common_dout6_bram', 'autocorr_common_dout7_bram', 'autocorr_mux_sel', 'autocorr_trig', 'chan_reorder_dynamic_map1', 'corr_0_acc_cnt', 'corr_0_acc_len', 'corr_0_dout', 'corr_0_input_sel', 'cosmic_ray_core_trigger_timestamps', 'cosmic_ray_cr_dest_ip', 'cosmic_ray_cr_forty_gbe', 'cosmic_ray_cr_forty_gbe_txctr', 'cosmic_ray_cr_forty_gbe_txfullctr', 'cosmic_ray_cr_forty_gbe_txofctr', 'cosmic_ray_cr_forty_gbe_txs0_ss_bram', 'cosmic_ray_cr_forty_gbe_txs0_ss_ctrl', 'cosmic_ray_cr_forty_gbe_txs0_ss_status', 'cosmic_ray_cr_forty_gbe_txs1_ss_bram', 'cosmic_ray_cr_forty_gbe_txs1_ss_ctrl', 'cosmic_ray_cr_forty_gbe_txs1_ss_status', 'cosmic_ray_cr_forty_gbe_txs2_ss_bram', 'cosmic_ray_cr_forty_gbe_txs2_ss_ctrl', 'cosmic_ray_cr_forty_gbe_txs2_ss_status', 'cosmic_ray_cr_forty_gbe_txvldctr', 'cosmic_ray_cr_trigger_power_thresh', 'cosmic_ray_cr_veto_power_thresh', 'cosmic_ray_eth_control', 'cosmic_ray_forty_g_tx_afull', 'cosmic_ray_forty_g_tx_of', 'cosmic_ray_forty_g_up', 'cosmic_ray_quora', 'cosmic_ray_readout_state_timer1', 'cosmic_ray_readout_state_value', 'cosmic_ray_snapshot_counter', 'cosmic_ray_trig_debug_timer', 'cosmic_ray_trig_debug_trig_rec_count', 'cosmic_ray_trigger_antennas1', 'cosmic_ray_trigger_antennas2', 'cosmic_ray_triggercontrol', 'cosmic_ray_tx_count_eof_and_valid', 'cosmic_ray_tx_eof_counter', 'cosmic_ray_veto_antennas1', 'cosmic_ray_veto_antennas2', 'cosmic_ray_veto_timestamps', 'cosmic_ray_wait_between_packets', 'cosmic_ray_windows', 'delay_delay0', 'delay_delay1', 'delay_delay_en0', 'delay_delay_en1', 'delay_delay_store0_readout', 'delay_delay_store0_sel', 'delay_delay_store1_readout', 'delay_delay_store1_sel', 'delay_max_delay', 'eq_core0_clip_cnt', 'eq_core0_coeffs', 'eq_core1_clip_cnt', 'eq_core1_coeffs', 'eq_core2_clip_cnt', 'eq_core2_coeffs', 'eq_core3_clip_cnt', 'eq_core3_coeffs', 'eth_ctrl', 'eth_forty_gbe', 'eth_forty_gbe_txctr', 'eth_forty_gbe_txfullctr', 'eth_forty_gbe_txofctr', 'eth_forty_gbe_txvldctr', 'input_bit_stats_histogram_output', 'input_bit_stats_input_sel', 'input_rms_enable', 'input_rms_levels', 'input_source_sel0', 'input_source_sel1', 'input_source_sel2', 'input_source_sel3', 'noise_octal_mux0_sel', 'noise_octal_mux1_sel', 'noise_octal_mux2_sel', 'noise_octal_mux3_sel', 'noise_octal_mux4_sel', 'noise_octal_mux5_sel', 'noise_octal_mux6_sel', 'noise_octal_mux7_sel', 'noise_seeds0', 'packetizer_ants', 'packetizer_chans', 'packetizer_flags', 'packetizer_ips', 'packetizer_n_chans', 'packetizer_n_pols', 'packetizer_ports', 'pfb_ctrl', 'pfb_pfb16x_0_status', 'pfb_pfb16x_1_status', 'pfb_pfb16x_2_status', 'pfb_pfb16x_3_status', 'post_eq_tvg_core0_tv', 'post_eq_tvg_core1_tv', 'post_eq_tvg_core2_tv', 'post_eq_tvg_core3_tv', 'post_eq_tvg_tvg_en', 'powermon_i2c_interface', 'sync_adc_sync_time_lsb', 'sync_adc_sync_time_msb', 'sync_ctrl', 'sync_ext_period_variations', 'sync_ext_pps_period', 'sync_ext_pps_period_variations', 'sync_ext_sync_count', 'sync_ext_sync_period', 'sync_ext_sync_tt_lsb', 'sync_ext_sync_tt_msb', 'sync_int_sync_count', 'sync_int_tt_load_lsb', 'sync_int_tt_load_msb', 'sync_latency', 'sync_latency_variations', 'sync_sync_in_delay_ctrl', 'sync_sync_out_gpio_delay_ctrl', 'sync_tt_load_lsb', 'sync_tt_load_msb', 'sync_tt_lsb', 'sync_tt_mask', 'sync_tt_msb', 'sync_uptime_msb', 'sys_block', 'sys_board_id', 'sys_clkcounter', 'sys_rev', 'sys_rev_rcs', 'sys_scratchpad', 'sysmon', 'version_timestamp', 'version_version']\n",
      "True\n",
      "snap08\n",
      "['aaa_onegbe_one_GbE', 'adc_sync', 'ads5296_controller0_0', 'ads5296_controller0_1', 'ads5296_controller1_0', 'ads5296_controller1_1', 'ads5296_hardware_rst0', 'ads5296_hardware_rst1', 'ads5296_spi_controller0', 'ads5296_spi_controller1', 'ads5296_wb_ram0_0_0', 'ads5296_wb_ram0_0_1', 'ads5296_wb_ram0_0_2', 'ads5296_wb_ram0_0_3', 'ads5296_wb_ram0_1_0', 'ads5296_wb_ram0_1_1', 'ads5296_wb_ram0_1_2', 'ads5296_wb_ram0_1_3', 'ads5296_wb_ram1_0_0', 'ads5296_wb_ram1_0_1', 'ads5296_wb_ram1_0_2', 'ads5296_wb_ram1_0_3', 'ads5296_wb_ram1_1_0', 'ads5296_wb_ram1_1_1', 'ads5296_wb_ram1_1_2', 'ads5296_wb_ram1_1_3', 'autocorr_acc_cnt', 'autocorr_acc_len', 'autocorr_common_dout0_bram', 'autocorr_common_dout1_bram', 'autocorr_common_dout2_bram', 'autocorr_common_dout3_bram', 'autocorr_common_dout4_bram', 'autocorr_common_dout5_bram', 'autocorr_common_dout6_bram', 'autocorr_common_dout7_bram', 'autocorr_mux_sel', 'autocorr_trig', 'chan_reorder_dynamic_map1', 'corr_0_acc_cnt', 'corr_0_acc_len', 'corr_0_dout', 'corr_0_input_sel', 'cosmic_ray_core_trigger_timestamps', 'cosmic_ray_cr_dest_ip', 'cosmic_ray_cr_forty_gbe', 'cosmic_ray_cr_forty_gbe_txctr', 'cosmic_ray_cr_forty_gbe_txfullctr', 'cosmic_ray_cr_forty_gbe_txofctr', 'cosmic_ray_cr_forty_gbe_txs0_ss_bram', 'cosmic_ray_cr_forty_gbe_txs0_ss_ctrl', 'cosmic_ray_cr_forty_gbe_txs0_ss_status', 'cosmic_ray_cr_forty_gbe_txs1_ss_bram', 'cosmic_ray_cr_forty_gbe_txs1_ss_ctrl', 'cosmic_ray_cr_forty_gbe_txs1_ss_status', 'cosmic_ray_cr_forty_gbe_txs2_ss_bram', 'cosmic_ray_cr_forty_gbe_txs2_ss_ctrl', 'cosmic_ray_cr_forty_gbe_txs2_ss_status', 'cosmic_ray_cr_forty_gbe_txvldctr', 'cosmic_ray_cr_trigger_power_thresh', 'cosmic_ray_cr_veto_power_thresh', 'cosmic_ray_eth_control', 'cosmic_ray_forty_g_tx_afull', 'cosmic_ray_forty_g_tx_of', 'cosmic_ray_forty_g_up', 'cosmic_ray_quora', 'cosmic_ray_readout_state_timer1', 'cosmic_ray_readout_state_value', 'cosmic_ray_snapshot_counter', 'cosmic_ray_trig_debug_timer', 'cosmic_ray_trig_debug_trig_rec_count', 'cosmic_ray_trigger_antennas1', 'cosmic_ray_trigger_antennas2', 'cosmic_ray_triggercontrol', 'cosmic_ray_tx_count_eof_and_valid', 'cosmic_ray_tx_eof_counter', 'cosmic_ray_veto_antennas1', 'cosmic_ray_veto_antennas2', 'cosmic_ray_veto_timestamps', 'cosmic_ray_wait_between_packets', 'cosmic_ray_windows', 'delay_delay0', 'delay_delay1', 'delay_delay_en0', 'delay_delay_en1', 'delay_delay_store0_readout', 'delay_delay_store0_sel', 'delay_delay_store1_readout', 'delay_delay_store1_sel', 'delay_max_delay', 'eq_core0_clip_cnt', 'eq_core0_coeffs', 'eq_core1_clip_cnt', 'eq_core1_coeffs', 'eq_core2_clip_cnt', 'eq_core2_coeffs', 'eq_core3_clip_cnt', 'eq_core3_coeffs', 'eth_ctrl', 'eth_forty_gbe', 'eth_forty_gbe_txctr', 'eth_forty_gbe_txfullctr', 'eth_forty_gbe_txofctr', 'eth_forty_gbe_txvldctr', 'input_bit_stats_histogram_output', 'input_bit_stats_input_sel', 'input_rms_enable', 'input_rms_levels', 'input_source_sel0', 'input_source_sel1', 'input_source_sel2', 'input_source_sel3', 'noise_octal_mux0_sel', 'noise_octal_mux1_sel', 'noise_octal_mux2_sel', 'noise_octal_mux3_sel', 'noise_octal_mux4_sel', 'noise_octal_mux5_sel', 'noise_octal_mux6_sel', 'noise_octal_mux7_sel', 'noise_seeds0', 'packetizer_ants', 'packetizer_chans', 'packetizer_flags', 'packetizer_ips', 'packetizer_n_chans', 'packetizer_n_pols', 'packetizer_ports', 'pfb_ctrl', 'pfb_pfb16x_0_status', 'pfb_pfb16x_1_status', 'pfb_pfb16x_2_status', 'pfb_pfb16x_3_status', 'post_eq_tvg_core0_tv', 'post_eq_tvg_core1_tv', 'post_eq_tvg_core2_tv', 'post_eq_tvg_core3_tv', 'post_eq_tvg_tvg_en', 'powermon_i2c_interface', 'sync_adc_sync_time_lsb', 'sync_adc_sync_time_msb', 'sync_ctrl', 'sync_ext_period_variations', 'sync_ext_pps_period', 'sync_ext_pps_period_variations', 'sync_ext_sync_count', 'sync_ext_sync_period', 'sync_ext_sync_tt_lsb', 'sync_ext_sync_tt_msb', 'sync_int_sync_count', 'sync_int_tt_load_lsb', 'sync_int_tt_load_msb', 'sync_latency', 'sync_latency_variations', 'sync_sync_in_delay_ctrl', 'sync_sync_out_gpio_delay_ctrl', 'sync_tt_load_lsb', 'sync_tt_load_msb', 'sync_tt_lsb', 'sync_tt_mask', 'sync_tt_msb', 'sync_uptime_msb', 'sys_block', 'sys_board_id', 'sys_clkcounter', 'sys_rev', 'sys_rev_rcs', 'sys_scratchpad', 'sysmon', 'version_timestamp', 'version_version']\n",
      "True\n",
      "snap09\n",
      "['aaa_onegbe_one_GbE', 'adc_sync', 'ads5296_controller0_0', 'ads5296_controller0_1', 'ads5296_controller1_0', 'ads5296_controller1_1', 'ads5296_hardware_rst0', 'ads5296_hardware_rst1', 'ads5296_spi_controller0', 'ads5296_spi_controller1', 'ads5296_wb_ram0_0_0', 'ads5296_wb_ram0_0_1', 'ads5296_wb_ram0_0_2', 'ads5296_wb_ram0_0_3', 'ads5296_wb_ram0_1_0', 'ads5296_wb_ram0_1_1', 'ads5296_wb_ram0_1_2', 'ads5296_wb_ram0_1_3', 'ads5296_wb_ram1_0_0', 'ads5296_wb_ram1_0_1', 'ads5296_wb_ram1_0_2', 'ads5296_wb_ram1_0_3', 'ads5296_wb_ram1_1_0', 'ads5296_wb_ram1_1_1', 'ads5296_wb_ram1_1_2', 'ads5296_wb_ram1_1_3', 'autocorr_acc_cnt', 'autocorr_acc_len', 'autocorr_common_dout0_bram', 'autocorr_common_dout1_bram', 'autocorr_common_dout2_bram', 'autocorr_common_dout3_bram', 'autocorr_common_dout4_bram', 'autocorr_common_dout5_bram', 'autocorr_common_dout6_bram', 'autocorr_common_dout7_bram', 'autocorr_mux_sel', 'autocorr_trig', 'chan_reorder_dynamic_map1', 'corr_0_acc_cnt', 'corr_0_acc_len', 'corr_0_dout', 'corr_0_input_sel', 'cosmic_ray_core_trigger_timestamps', 'cosmic_ray_cr_dest_ip', 'cosmic_ray_cr_forty_gbe', 'cosmic_ray_cr_forty_gbe_txctr', 'cosmic_ray_cr_forty_gbe_txfullctr', 'cosmic_ray_cr_forty_gbe_txofctr', 'cosmic_ray_cr_forty_gbe_txs0_ss_bram', 'cosmic_ray_cr_forty_gbe_txs0_ss_ctrl', 'cosmic_ray_cr_forty_gbe_txs0_ss_status', 'cosmic_ray_cr_forty_gbe_txs1_ss_bram', 'cosmic_ray_cr_forty_gbe_txs1_ss_ctrl', 'cosmic_ray_cr_forty_gbe_txs1_ss_status', 'cosmic_ray_cr_forty_gbe_txs2_ss_bram', 'cosmic_ray_cr_forty_gbe_txs2_ss_ctrl', 'cosmic_ray_cr_forty_gbe_txs2_ss_status', 'cosmic_ray_cr_forty_gbe_txvldctr', 'cosmic_ray_cr_trigger_power_thresh', 'cosmic_ray_cr_veto_power_thresh', 'cosmic_ray_eth_control', 'cosmic_ray_forty_g_tx_afull', 'cosmic_ray_forty_g_tx_of', 'cosmic_ray_forty_g_up', 'cosmic_ray_quora', 'cosmic_ray_readout_state_timer1', 'cosmic_ray_readout_state_value', 'cosmic_ray_snapshot_counter', 'cosmic_ray_trig_debug_timer', 'cosmic_ray_trig_debug_trig_rec_count', 'cosmic_ray_trigger_antennas1', 'cosmic_ray_trigger_antennas2', 'cosmic_ray_triggercontrol', 'cosmic_ray_tx_count_eof_and_valid', 'cosmic_ray_tx_eof_counter', 'cosmic_ray_veto_antennas1', 'cosmic_ray_veto_antennas2', 'cosmic_ray_veto_timestamps', 'cosmic_ray_wait_between_packets', 'cosmic_ray_windows', 'delay_delay0', 'delay_delay1', 'delay_delay_en0', 'delay_delay_en1', 'delay_delay_store0_readout', 'delay_delay_store0_sel', 'delay_delay_store1_readout', 'delay_delay_store1_sel', 'delay_max_delay', 'eq_core0_clip_cnt', 'eq_core0_coeffs', 'eq_core1_clip_cnt', 'eq_core1_coeffs', 'eq_core2_clip_cnt', 'eq_core2_coeffs', 'eq_core3_clip_cnt', 'eq_core3_coeffs', 'eth_ctrl', 'eth_forty_gbe', 'eth_forty_gbe_txctr', 'eth_forty_gbe_txfullctr', 'eth_forty_gbe_txofctr', 'eth_forty_gbe_txvldctr', 'input_bit_stats_histogram_output', 'input_bit_stats_input_sel', 'input_rms_enable', 'input_rms_levels', 'input_source_sel0', 'input_source_sel1', 'input_source_sel2', 'input_source_sel3', 'noise_octal_mux0_sel', 'noise_octal_mux1_sel', 'noise_octal_mux2_sel', 'noise_octal_mux3_sel', 'noise_octal_mux4_sel', 'noise_octal_mux5_sel', 'noise_octal_mux6_sel', 'noise_octal_mux7_sel', 'noise_seeds0', 'packetizer_ants', 'packetizer_chans', 'packetizer_flags', 'packetizer_ips', 'packetizer_n_chans', 'packetizer_n_pols', 'packetizer_ports', 'pfb_ctrl', 'pfb_pfb16x_0_status', 'pfb_pfb16x_1_status', 'pfb_pfb16x_2_status', 'pfb_pfb16x_3_status', 'post_eq_tvg_core0_tv', 'post_eq_tvg_core1_tv', 'post_eq_tvg_core2_tv', 'post_eq_tvg_core3_tv', 'post_eq_tvg_tvg_en', 'powermon_i2c_interface', 'sync_adc_sync_time_lsb', 'sync_adc_sync_time_msb', 'sync_ctrl', 'sync_ext_period_variations', 'sync_ext_pps_period', 'sync_ext_pps_period_variations', 'sync_ext_sync_count', 'sync_ext_sync_period', 'sync_ext_sync_tt_lsb', 'sync_ext_sync_tt_msb', 'sync_int_sync_count', 'sync_int_tt_load_lsb', 'sync_int_tt_load_msb', 'sync_latency', 'sync_latency_variations', 'sync_sync_in_delay_ctrl', 'sync_sync_out_gpio_delay_ctrl', 'sync_tt_load_lsb', 'sync_tt_load_msb', 'sync_tt_lsb', 'sync_tt_mask', 'sync_tt_msb', 'sync_uptime_msb', 'sys_block', 'sys_board_id', 'sys_clkcounter', 'sys_rev', 'sys_rev_rcs', 'sys_scratchpad', 'sysmon', 'version_timestamp', 'version_version']\n",
      "True\n",
      "snap10\n",
      "['aaa_onegbe_one_GbE', 'adc_sync', 'ads5296_controller0_0', 'ads5296_controller0_1', 'ads5296_controller1_0', 'ads5296_controller1_1', 'ads5296_hardware_rst0', 'ads5296_hardware_rst1', 'ads5296_spi_controller0', 'ads5296_spi_controller1', 'ads5296_wb_ram0_0_0', 'ads5296_wb_ram0_0_1', 'ads5296_wb_ram0_0_2', 'ads5296_wb_ram0_0_3', 'ads5296_wb_ram0_1_0', 'ads5296_wb_ram0_1_1', 'ads5296_wb_ram0_1_2', 'ads5296_wb_ram0_1_3', 'ads5296_wb_ram1_0_0', 'ads5296_wb_ram1_0_1', 'ads5296_wb_ram1_0_2', 'ads5296_wb_ram1_0_3', 'ads5296_wb_ram1_1_0', 'ads5296_wb_ram1_1_1', 'ads5296_wb_ram1_1_2', 'ads5296_wb_ram1_1_3', 'autocorr_acc_cnt', 'autocorr_acc_len', 'autocorr_common_dout0_bram', 'autocorr_common_dout1_bram', 'autocorr_common_dout2_bram', 'autocorr_common_dout3_bram', 'autocorr_common_dout4_bram', 'autocorr_common_dout5_bram', 'autocorr_common_dout6_bram', 'autocorr_common_dout7_bram', 'autocorr_mux_sel', 'autocorr_trig', 'chan_reorder_dynamic_map1', 'corr_0_acc_cnt', 'corr_0_acc_len', 'corr_0_dout', 'corr_0_input_sel', 'cosmic_ray_core_trigger_timestamps', 'cosmic_ray_cr_dest_ip', 'cosmic_ray_cr_forty_gbe', 'cosmic_ray_cr_forty_gbe_txctr', 'cosmic_ray_cr_forty_gbe_txfullctr', 'cosmic_ray_cr_forty_gbe_txofctr', 'cosmic_ray_cr_forty_gbe_txs0_ss_bram', 'cosmic_ray_cr_forty_gbe_txs0_ss_ctrl', 'cosmic_ray_cr_forty_gbe_txs0_ss_status', 'cosmic_ray_cr_forty_gbe_txs1_ss_bram', 'cosmic_ray_cr_forty_gbe_txs1_ss_ctrl', 'cosmic_ray_cr_forty_gbe_txs1_ss_status', 'cosmic_ray_cr_forty_gbe_txs2_ss_bram', 'cosmic_ray_cr_forty_gbe_txs2_ss_ctrl', 'cosmic_ray_cr_forty_gbe_txs2_ss_status', 'cosmic_ray_cr_forty_gbe_txvldctr', 'cosmic_ray_cr_trigger_power_thresh', 'cosmic_ray_cr_veto_power_thresh', 'cosmic_ray_eth_control', 'cosmic_ray_forty_g_tx_afull', 'cosmic_ray_forty_g_tx_of', 'cosmic_ray_forty_g_up', 'cosmic_ray_quora', 'cosmic_ray_readout_state_timer1', 'cosmic_ray_readout_state_value', 'cosmic_ray_snapshot_counter', 'cosmic_ray_trig_debug_timer', 'cosmic_ray_trig_debug_trig_rec_count', 'cosmic_ray_trigger_antennas1', 'cosmic_ray_trigger_antennas2', 'cosmic_ray_triggercontrol', 'cosmic_ray_tx_count_eof_and_valid', 'cosmic_ray_tx_eof_counter', 'cosmic_ray_veto_antennas1', 'cosmic_ray_veto_antennas2', 'cosmic_ray_veto_timestamps', 'cosmic_ray_wait_between_packets', 'cosmic_ray_windows', 'delay_delay0', 'delay_delay1', 'delay_delay_en0', 'delay_delay_en1', 'delay_delay_store0_readout', 'delay_delay_store0_sel', 'delay_delay_store1_readout', 'delay_delay_store1_sel', 'delay_max_delay', 'eq_core0_clip_cnt', 'eq_core0_coeffs', 'eq_core1_clip_cnt', 'eq_core1_coeffs', 'eq_core2_clip_cnt', 'eq_core2_coeffs', 'eq_core3_clip_cnt', 'eq_core3_coeffs', 'eth_ctrl', 'eth_forty_gbe', 'eth_forty_gbe_txctr', 'eth_forty_gbe_txfullctr', 'eth_forty_gbe_txofctr', 'eth_forty_gbe_txvldctr', 'input_bit_stats_histogram_output', 'input_bit_stats_input_sel', 'input_rms_enable', 'input_rms_levels', 'input_source_sel0', 'input_source_sel1', 'input_source_sel2', 'input_source_sel3', 'noise_octal_mux0_sel', 'noise_octal_mux1_sel', 'noise_octal_mux2_sel', 'noise_octal_mux3_sel', 'noise_octal_mux4_sel', 'noise_octal_mux5_sel', 'noise_octal_mux6_sel', 'noise_octal_mux7_sel', 'noise_seeds0', 'packetizer_ants', 'packetizer_chans', 'packetizer_flags', 'packetizer_ips', 'packetizer_n_chans', 'packetizer_n_pols', 'packetizer_ports', 'pfb_ctrl', 'pfb_pfb16x_0_status', 'pfb_pfb16x_1_status', 'pfb_pfb16x_2_status', 'pfb_pfb16x_3_status', 'post_eq_tvg_core0_tv', 'post_eq_tvg_core1_tv', 'post_eq_tvg_core2_tv', 'post_eq_tvg_core3_tv', 'post_eq_tvg_tvg_en', 'powermon_i2c_interface', 'sync_adc_sync_time_lsb', 'sync_adc_sync_time_msb', 'sync_ctrl', 'sync_ext_period_variations', 'sync_ext_pps_period', 'sync_ext_pps_period_variations', 'sync_ext_sync_count', 'sync_ext_sync_period', 'sync_ext_sync_tt_lsb', 'sync_ext_sync_tt_msb', 'sync_int_sync_count', 'sync_int_tt_load_lsb', 'sync_int_tt_load_msb', 'sync_latency', 'sync_latency_variations', 'sync_sync_in_delay_ctrl', 'sync_sync_out_gpio_delay_ctrl', 'sync_tt_load_lsb', 'sync_tt_load_msb', 'sync_tt_lsb', 'sync_tt_mask', 'sync_tt_msb', 'sync_uptime_msb', 'sys_block', 'sys_board_id', 'sys_clkcounter', 'sys_rev', 'sys_rev_rcs', 'sys_scratchpad', 'sysmon', 'version_timestamp', 'version_version']\n",
      "True\n"
     ]
    }
   ],
   "source": [
    "#Check that I can connect to any board (not trying snap07 because I know it's down)\n",
    "for name in [\"snap01\", \"snap02\",\"snap03\",\"snap04\",\"snap05\",\"snap06\",\"snap08\",\"snap09\",\"snap10\"]:\n",
    "    print( name)\n",
    "    bd=casperfpga.CasperFpga(name, transport=casperfpga.TapcpTransport)\n",
    "    print(bd.listdev())\n",
    "    print(bd.is_running())"
   ]
  },
  {
   "cell_type": "code",
   "execution_count": null,
   "metadata": {},
   "outputs": [],
   "source": []
  },
  {
   "cell_type": "markdown",
   "metadata": {},
   "source": [
    "## Initialize and Set up data source"
   ]
  },
  {
   "cell_type": "code",
   "execution_count": 3,
   "metadata": {},
   "outputs": [
    {
     "name": "stdout",
     "output_type": "stream",
     "text": [
      "Data source set to adc\n",
      "2022-02-09 21:49:30,796 - lwa_f.snap2_fengine:snap01 - INFO - Initializing block (writable): fpga\n",
      "2022-02-09 21:49:30,797 - lwa_f.snap2_fengine:snap01 - INFO - Initializing block (writable): adc\n",
      "2022-02-09 21:49:30,801 - lwa_f.blocks.block:snap01 - INFO - adc - FMC 0 board 0: Setting clock source to 1\n",
      "2022-02-09 21:49:30,808 - lwa_f.blocks.block:snap01 - INFO - adc - FMC 0 board 1: Setting clock source to 1\n",
      "2022-02-09 21:49:30,813 - lwa_f.blocks.block:snap01 - INFO - adc - FMC 1 board 0: Setting clock source to 1\n",
      "2022-02-09 21:49:30,819 - lwa_f.blocks.block:snap01 - INFO - adc - FMC 1 board 1: Setting clock source to 1\n",
      "2022-02-09 21:49:40,004 - lwa_f.blocks.block:snap01 - INFO - adc - FMC 0 board 0 clock rates: [490656980, 98184645, 98233573, 0, 0]\n",
      "2022-02-09 21:49:40,005 - lwa_f.blocks.block:snap01 - INFO - adc - FMC 0 board 0: MMCM locked\n",
      "2022-02-09 21:49:41,016 - lwa_f.blocks.block:snap01 - INFO - adc - FMC 0 board 1 clock rates: [490580917, 98145445, 98216924, 98228437, 0]\n",
      "2022-02-09 21:49:42,027 - lwa_f.blocks.block:snap01 - INFO - adc - FMC 1 board 0 clock rates: [7994, 800, 739, 0, 0]\n",
      "2022-02-09 21:49:42,028 - lwa_f.blocks.block:snap01 - INFO - adc - FMC 1 board 0: MMCM locked\n",
      "2022-02-09 21:49:43,038 - lwa_f.blocks.block:snap01 - INFO - adc - FMC 1 board 1 clock rates: [490656203, 98136040, 98176815, 98201278, 0]\n",
      "2022-02-09 21:49:44,382 - lwa_f.blocks.block:snap01 - INFO - adc - FMC 0 Scanning data delays\n"
     ]
    },
    {
     "name": "stderr",
     "output_type": "stream",
     "text": [
      "100% (64 of 64) |########################| Elapsed Time: 0:00:07 Time:  0:00:07\n"
     ]
    },
    {
     "name": "stdout",
     "output_type": "stream",
     "text": [
      "2022-02-09 21:49:51,815 - lwa_f.blocks.block:snap01 - INFO - adc - FMC 0 data lane delays:\n",
      "[[408, 400, 408, 392, 392, 392, 392, 392], [376, 360, 360, 352, 360, 360, 352, 352], [344, 344, 336, 336, 344, 344, 344, 352], [376, 392, 376, 368, 376, 376, 376, 376], [360, 352, 352, 360, 360, 352, 352, 360], [328, 328, 336, 328, 328, 320, 320, 328], [344, 328, 328, 328, 336, 336, 328, 328], [368, 368, 368, 368, 368, 376, 384, 360]]\n",
      "2022-02-09 21:49:51,816 - lwa_f.blocks.block:snap01 - INFO - adc - FMC 0 data lane slacks:\n",
      "[[40, 40, 40, 40, 32, 32, 40, 32], [40, 40, 40, 40, 48, 40, 40, 40], [40, 40, 40, 40, 40, 40, 40, 32], [40, 40, 40, 40, 40, 40, 40, 40], [40, 40, 40, 40, 40, 40, 40, 40], [40, 40, 40, 40, 40, 40, 40, 40], [40, 40, 40, 40, 40, 32, 40, 40], [40, 40, 40, 40, 40, 40, 40, 40]]\n",
      "2022-02-09 21:49:51,817 - lwa_f.blocks.block:snap01 - INFO - adc - Chip 0, Lane 0:    XXXXXXXXXXXXXXXXXXXXXXXXXXXXXXXXXXXXXXXXXXXXXXX----|----XXXXXXXX\n",
      "2022-02-09 21:49:51,817 - lwa_f.blocks.block:snap01 - INFO - adc - Chip 0, Lane 1:    XXXXXXXXXXXXXXXXXXXXXXXXXXXXXXXXXXXXXXXXXXXXXX----|----XXXXXXXXX\n",
      "2022-02-09 21:49:51,818 - lwa_f.blocks.block:snap01 - INFO - adc - Chip 0, Lane 2:    XXXXXXXXXXXXXXXXXXXXXXXXXXXXXXXXXXXXXXXXXXXXXXX----|-----XXXXXXX\n",
      "2022-02-09 21:49:51,819 - lwa_f.blocks.block:snap01 - INFO - adc - Chip 0, Lane 3:    XXXXXXXXXXXXXXXXXXXXXXXXXXXXXXXXXXXXXXXXXXXXX----|----XXXXXXXXXX\n",
      "2022-02-09 21:49:51,820 - lwa_f.blocks.block:snap01 - INFO - adc - Chip 0, Lane 4:    XXXXXXXXXXXXXXXXXXXXXXXXXXXXXXXXXXXXXXXXXXXXXX---|----XXXXXXXXXX\n",
      "2022-02-09 21:49:51,821 - lwa_f.blocks.block:snap01 - INFO - adc - Chip 0, Lane 5:    XXXXXXXXXXXXXXXXXXXXXXXXXXXXXXXXXXXXXXXXXXXXXX---|----XXXXXXXXXX\n",
      "2022-02-09 21:49:51,822 - lwa_f.blocks.block:snap01 - INFO - adc - Chip 0, Lane 6:    XXXXXXXXXXXXXXXXXXXXXXXXXXXXXXXXXXXXXXXXXXXXX----|----XXXXXXXXXX\n",
      "2022-02-09 21:49:51,823 - lwa_f.blocks.block:snap01 - INFO - adc - Chip 0, Lane 7:    XXXXXXXXXXXXXXXXXXXXXXXXXXXXXXXXXXXXXXXXXXXXXX---|----XXXXXXXXXX\n",
      "2022-02-09 21:49:51,825 - lwa_f.blocks.block:snap01 - INFO - adc - Chip 1, Lane 0:    XXXXXXXXXXXXXXXXXXXXXXXXXXXXXXXXXXXXXXXXXXX----|----XXXXXXXXXXXX\n",
      "2022-02-09 21:49:51,826 - lwa_f.blocks.block:snap01 - INFO - adc - Chip 1, Lane 1:    XXXXXXXXXXXXXXXXXXXXXXXXXXXXXXXXXXXXXXXXX----|-----XXXXXXXXXXXXX\n",
      "2022-02-09 21:49:51,827 - lwa_f.blocks.block:snap01 - INFO - adc - Chip 1, Lane 2:    XXXXXXXXXXXXXXXXXXXXXXXXXXXXXXXXXXXXXXXXX----|-----XXXXXXXXXXXXX\n",
      "2022-02-09 21:49:51,827 - lwa_f.blocks.block:snap01 - INFO - adc - Chip 1, Lane 3:    XXXXXXXXXXXXXXXXXXXXXXXXXXXXXXXXXXXXXXXX----|-----XXXXXXXXXXXXXX\n",
      "2022-02-09 21:49:51,828 - lwa_f.blocks.block:snap01 - INFO - adc - Chip 1, Lane 4:    XXXXXXXXXXXXXXXXXXXXXXXXXXXXXXXXXXXXXXXX-----|-----XXXXXXXXXXXXX\n",
      "2022-02-09 21:49:51,829 - lwa_f.blocks.block:snap01 - INFO - adc - Chip 1, Lane 5:    XXXXXXXXXXXXXXXXXXXXXXXXXXXXXXXXXXXXXXXXX----|----XXXXXXXXXXXXXX\n",
      "2022-02-09 21:49:51,830 - lwa_f.blocks.block:snap01 - INFO - adc - Chip 1, Lane 6:    XXXXXXXXXXXXXXXXXXXXXXXXXXXXXXXXXXXXXXXX----|----XXXXXXXXXXXXXXX\n",
      "2022-02-09 21:49:51,830 - lwa_f.blocks.block:snap01 - INFO - adc - Chip 1, Lane 7:    XXXXXXXXXXXXXXXXXXXXXXXXXXXXXXXXXXXXXXXX----|-----XXXXXXXXXXXXXX\n",
      "2022-02-09 21:49:51,833 - lwa_f.blocks.block:snap01 - INFO - adc - Chip 2, Lane 0:    XXXXXXXXXXXXXXXXXXXXXXXXXXXXXXXXXXXXXXX----|-----XXXXXXXXXXXXXXX\n",
      "2022-02-09 21:49:51,834 - lwa_f.blocks.block:snap01 - INFO - adc - Chip 2, Lane 1:    XXXXXXXXXXXXXXXXXXXXXXXXXXXXXXXXXXXXXXX----|-----XXXXXXXXXXXXXXX\n",
      "2022-02-09 21:49:51,835 - lwa_f.blocks.block:snap01 - INFO - adc - Chip 2, Lane 2:    XXXXXXXXXXXXXXXXXXXXXXXXXXXXXXXXXXXXXX----|-----XXXXXXXXXXXXXXXX\n",
      "2022-02-09 21:49:51,836 - lwa_f.blocks.block:snap01 - INFO - adc - Chip 2, Lane 3:    XXXXXXXXXXXXXXXXXXXXXXXXXXXXXXXXXXXXXX----|-----XXXXXXXXXXXXXXXX\n",
      "2022-02-09 21:49:51,837 - lwa_f.blocks.block:snap01 - INFO - adc - Chip 2, Lane 4:    XXXXXXXXXXXXXXXXXXXXXXXXXXXXXXXXXXXXXXX----|-----XXXXXXXXXXXXXXX\n",
      "2022-02-09 21:49:51,837 - lwa_f.blocks.block:snap01 - INFO - adc - Chip 2, Lane 5:    XXXXXXXXXXXXXXXXXXXXXXXXXXXXXXXXXXXXXXX----|----XXXXXXXXXXXXXXXX\n",
      "2022-02-09 21:49:51,838 - lwa_f.blocks.block:snap01 - INFO - adc - Chip 2, Lane 6:    XXXXXXXXXXXXXXXXXXXXXXXXXXXXXXXXXXXXXXX----|-----XXXXXXXXXXXXXXX\n",
      "2022-02-09 21:49:51,839 - lwa_f.blocks.block:snap01 - INFO - adc - Chip 2, Lane 7:    XXXXXXXXXXXXXXXXXXXXXXXXXXXXXXXXXXXXXXXXX---|----XXXXXXXXXXXXXXX\n",
      "2022-02-09 21:49:51,839 - lwa_f.blocks.block:snap01 - INFO - adc - Chip 3, Lane 0:    XXXXXXXXXXXXXXXXXXXXXXXXXXXXXXXXXXXXXXXXXXX----|----XXXXXXXXXXXX\n",
      "2022-02-09 21:49:51,840 - lwa_f.blocks.block:snap01 - INFO - adc - Chip 3, Lane 1:    XXXXXXXXXXXXXXXXXXXXXXXXXXXXXXXXXXXXXXXXXXXXX----|----XXXXXXXXXX\n",
      "2022-02-09 21:49:51,841 - lwa_f.blocks.block:snap01 - INFO - adc - Chip 3, Lane 2:    XXXXXXXXXXXXXXXXXXXXXXXXXXXXXXXXXXXXXXXXXXX----|----XXXXXXXXXXXX\n",
      "2022-02-09 21:49:51,842 - lwa_f.blocks.block:snap01 - INFO - adc - Chip 3, Lane 3:    XXXXXXXXXXXXXXXXXXXXXXXXXXXXXXXXXXXXXXXXXX----|-----XXXXXXXXXXXX\n",
      "2022-02-09 21:49:51,842 - lwa_f.blocks.block:snap01 - INFO - adc - Chip 3, Lane 4:    XXXXXXXXXXXXXXXXXXXXXXXXXXXXXXXXXXXXXXXXXXX----|----XXXXXXXXXXXX\n",
      "2022-02-09 21:49:51,843 - lwa_f.blocks.block:snap01 - INFO - adc - Chip 3, Lane 5:    XXXXXXXXXXXXXXXXXXXXXXXXXXXXXXXXXXXXXXXXXXX----|----XXXXXXXXXXXX\n",
      "2022-02-09 21:49:51,844 - lwa_f.blocks.block:snap01 - INFO - adc - Chip 3, Lane 6:    XXXXXXXXXXXXXXXXXXXXXXXXXXXXXXXXXXXXXXXXXXX----|----XXXXXXXXXXXX\n",
      "2022-02-09 21:49:51,844 - lwa_f.blocks.block:snap01 - INFO - adc - Chip 3, Lane 7:    XXXXXXXXXXXXXXXXXXXXXXXXXXXXXXXXXXXXXXXXXXX----|----XXXXXXXXXXXX\n",
      "2022-02-09 21:49:51,845 - lwa_f.blocks.block:snap01 - INFO - adc - Chip 4, Lane 0:    XXXXXXXXXXXXXXXXXXXXXXXXXXXXXXXXXXXXXXXXX----|----XXXXXXXXXXXXXX\n",
      "2022-02-09 21:49:51,846 - lwa_f.blocks.block:snap01 - INFO - adc - Chip 4, Lane 1:    XXXXXXXXXXXXXXXXXXXXXXXXXXXXXXXXXXXXXXXX----|-----XXXXXXXXXXXXXX\n",
      "2022-02-09 21:49:51,846 - lwa_f.blocks.block:snap01 - INFO - adc - Chip 4, Lane 2:    XXXXXXXXXXXXXXXXXXXXXXXXXXXXXXXXXXXXXXXX----|-----XXXXXXXXXXXXXX\n",
      "2022-02-09 21:49:51,847 - lwa_f.blocks.block:snap01 - INFO - adc - Chip 4, Lane 3:    XXXXXXXXXXXXXXXXXXXXXXXXXXXXXXXXXXXXXXXXX----|-----XXXXXXXXXXXXX\n",
      "2022-02-09 21:49:51,848 - lwa_f.blocks.block:snap01 - INFO - adc - Chip 4, Lane 4:    XXXXXXXXXXXXXXXXXXXXXXXXXXXXXXXXXXXXXXXXX----|----XXXXXXXXXXXXXX\n",
      "2022-02-09 21:49:51,848 - lwa_f.blocks.block:snap01 - INFO - adc - Chip 4, Lane 5:    XXXXXXXXXXXXXXXXXXXXXXXXXXXXXXXXXXXXXXXX----|-----XXXXXXXXXXXXXX\n",
      "2022-02-09 21:49:51,849 - lwa_f.blocks.block:snap01 - INFO - adc - Chip 4, Lane 6:    XXXXXXXXXXXXXXXXXXXXXXXXXXXXXXXXXXXXXXXX----|-----XXXXXXXXXXXXXX\n",
      "2022-02-09 21:49:51,849 - lwa_f.blocks.block:snap01 - INFO - adc - Chip 4, Lane 7:    XXXXXXXXXXXXXXXXXXXXXXXXXXXXXXXXXXXXXXXXX----|----XXXXXXXXXXXXXX\n",
      "2022-02-09 21:49:51,850 - lwa_f.blocks.block:snap01 - INFO - adc - Chip 5, Lane 0:    XXXXXXXXXXXXXXXXXXXXXXXXXXXXXXXXXXXXX----|-----XXXXXXXXXXXXXXXXX\n",
      "2022-02-09 21:49:51,851 - lwa_f.blocks.block:snap01 - INFO - adc - Chip 5, Lane 1:    XXXXXXXXXXXXXXXXXXXXXXXXXXXXXXXXXXXXX----|-----XXXXXXXXXXXXXXXXX\n",
      "2022-02-09 21:49:51,851 - lwa_f.blocks.block:snap01 - INFO - adc - Chip 5, Lane 2:    XXXXXXXXXXXXXXXXXXXXXXXXXXXXXXXXXXXXXX----|-----XXXXXXXXXXXXXXXX\n",
      "2022-02-09 21:49:51,852 - lwa_f.blocks.block:snap01 - INFO - adc - Chip 5, Lane 3:    XXXXXXXXXXXXXXXXXXXXXXXXXXXXXXXXXXXXX----|-----XXXXXXXXXXXXXXXXX\n",
      "2022-02-09 21:49:51,853 - lwa_f.blocks.block:snap01 - INFO - adc - Chip 5, Lane 4:    XXXXXXXXXXXXXXXXXXXXXXXXXXXXXXXXXXXXX----|-----XXXXXXXXXXXXXXXXX\n",
      "2022-02-09 21:49:51,853 - lwa_f.blocks.block:snap01 - INFO - adc - Chip 5, Lane 5:    XXXXXXXXXXXXXXXXXXXXXXXXXXXXXXXXXXXX----|-----XXXXXXXXXXXXXXXXXX\n",
      "2022-02-09 21:49:51,854 - lwa_f.blocks.block:snap01 - INFO - adc - Chip 5, Lane 6:    XXXXXXXXXXXXXXXXXXXXXXXXXXXXXXXXXXXX----|-----XXXXXXXXXXXXXXXXXX\n",
      "2022-02-09 21:49:51,855 - lwa_f.blocks.block:snap01 - INFO - adc - Chip 5, Lane 7:    XXXXXXXXXXXXXXXXXXXXXXXXXXXXXXXXXXXXX----|----XXXXXXXXXXXXXXXXXX\n",
      "2022-02-09 21:49:51,855 - lwa_f.blocks.block:snap01 - INFO - adc - Chip 6, Lane 0:    XXXXXXXXXXXXXXXXXXXXXXXXXXXXXXXXXXXXXXX----|-----XXXXXXXXXXXXXXX\n",
      "2022-02-09 21:49:51,856 - lwa_f.blocks.block:snap01 - INFO - adc - Chip 6, Lane 1:    XXXXXXXXXXXXXXXXXXXXXXXXXXXXXXXXXXXXX----|----XXXXXXXXXXXXXXXXXX\n"
     ]
    },
    {
     "name": "stdout",
     "output_type": "stream",
     "text": [
      "2022-02-09 21:49:51,857 - lwa_f.blocks.block:snap01 - INFO - adc - Chip 6, Lane 2:    XXXXXXXXXXXXXXXXXXXXXXXXXXXXXXXXXXXXX----|-----XXXXXXXXXXXXXXXXX\n",
      "2022-02-09 21:49:51,857 - lwa_f.blocks.block:snap01 - INFO - adc - Chip 6, Lane 3:    XXXXXXXXXXXXXXXXXXXXXXXXXXXXXXXXXXXXX----|-----XXXXXXXXXXXXXXXXX\n",
      "2022-02-09 21:49:51,858 - lwa_f.blocks.block:snap01 - INFO - adc - Chip 6, Lane 4:    XXXXXXXXXXXXXXXXXXXXXXXXXXXXXXXXXXXXXX----|----XXXXXXXXXXXXXXXXX\n",
      "2022-02-09 21:49:51,859 - lwa_f.blocks.block:snap01 - INFO - adc - Chip 6, Lane 5:    XXXXXXXXXXXXXXXXXXXXXXXXXXXXXXXXXXXXXXX---|----XXXXXXXXXXXXXXXXX\n",
      "2022-02-09 21:49:51,859 - lwa_f.blocks.block:snap01 - INFO - adc - Chip 6, Lane 6:    XXXXXXXXXXXXXXXXXXXXXXXXXXXXXXXXXXXXX----|----XXXXXXXXXXXXXXXXXX\n",
      "2022-02-09 21:49:51,860 - lwa_f.blocks.block:snap01 - INFO - adc - Chip 6, Lane 7:    XXXXXXXXXXXXXXXXXXXXXXXXXXXXXXXXXXXXX----|-----XXXXXXXXXXXXXXXXX\n",
      "2022-02-09 21:49:51,861 - lwa_f.blocks.block:snap01 - INFO - adc - Chip 7, Lane 0:    XXXXXXXXXXXXXXXXXXXXXXXXXXXXXXXXXXXXXXXXXX----|-----XXXXXXXXXXXX\n",
      "2022-02-09 21:49:51,861 - lwa_f.blocks.block:snap01 - INFO - adc - Chip 7, Lane 1:    XXXXXXXXXXXXXXXXXXXXXXXXXXXXXXXXXXXXXXXXXX----|----XXXXXXXXXXXXX\n",
      "2022-02-09 21:49:51,862 - lwa_f.blocks.block:snap01 - INFO - adc - Chip 7, Lane 2:    XXXXXXXXXXXXXXXXXXXXXXXXXXXXXXXXXXXXXXXXXX----|----XXXXXXXXXXXXX\n",
      "2022-02-09 21:49:51,863 - lwa_f.blocks.block:snap01 - INFO - adc - Chip 7, Lane 3:    XXXXXXXXXXXXXXXXXXXXXXXXXXXXXXXXXXXXXXXXXX----|----XXXXXXXXXXXXX\n",
      "2022-02-09 21:49:51,863 - lwa_f.blocks.block:snap01 - INFO - adc - Chip 7, Lane 4:    XXXXXXXXXXXXXXXXXXXXXXXXXXXXXXXXXXXXXXXXXX----|----XXXXXXXXXXXXX\n",
      "2022-02-09 21:49:51,864 - lwa_f.blocks.block:snap01 - INFO - adc - Chip 7, Lane 5:    XXXXXXXXXXXXXXXXXXXXXXXXXXXXXXXXXXXXXXXXXXX----|----XXXXXXXXXXXX\n",
      "2022-02-09 21:49:51,865 - lwa_f.blocks.block:snap01 - INFO - adc - Chip 7, Lane 6:    XXXXXXXXXXXXXXXXXXXXXXXXXXXXXXXXXXXXXXXXXXXX----|----XXXXXXXXXXX\n",
      "2022-02-09 21:49:51,865 - lwa_f.blocks.block:snap01 - INFO - adc - Chip 7, Lane 7:    XXXXXXXXXXXXXXXXXXXXXXXXXXXXXXXXXXXXXXXXX----|----XXXXXXXXXXXXXX\n",
      "2022-02-09 21:49:54,149 - lwa_f.blocks.block:snap01 - INFO - adc - FMC 1 Scanning data delays\n"
     ]
    },
    {
     "name": "stderr",
     "output_type": "stream",
     "text": [
      "100% (64 of 64) |########################| Elapsed Time: 0:00:07 Time:  0:00:07\n"
     ]
    },
    {
     "name": "stdout",
     "output_type": "stream",
     "text": [
      "2022-02-09 21:50:01,485 - lwa_f.blocks.block:snap01 - INFO - adc - Bitslipping board 0 because everywhere was bad\n",
      "2022-02-09 21:50:03,837 - lwa_f.blocks.block:snap01 - INFO - adc - FMC 1 Scanning data delays\n"
     ]
    },
    {
     "name": "stderr",
     "output_type": "stream",
     "text": [
      "100% (64 of 64) |########################| Elapsed Time: 0:00:14 Time:  0:00:14\n"
     ]
    },
    {
     "name": "stdout",
     "output_type": "stream",
     "text": [
      "2022-02-09 21:50:17,886 - lwa_f.blocks.block:snap01 - INFO - adc - Bitslipping board 0 because everywhere was bad\n",
      "2022-02-09 21:50:18,816 - lwa_f.blocks.block:snap01 - INFO - adc - FMC 1 Scanning data delays\n"
     ]
    },
    {
     "name": "stderr",
     "output_type": "stream",
     "text": [
      "100% (64 of 64) |########################| Elapsed Time: 0:00:17 Time:  0:00:17\n"
     ]
    },
    {
     "name": "stdout",
     "output_type": "stream",
     "text": [
      "2022-02-09 21:50:36,190 - lwa_f.blocks.block:snap01 - INFO - adc - Bitslipping board 0 chip 0 because nowhere was good\n",
      "2022-02-09 21:50:36,202 - lwa_f.blocks.block:snap01 - INFO - adc - Bitslipping board 0 chip 1 because nowhere was good\n",
      "2022-02-09 21:50:36,215 - lwa_f.blocks.block:snap01 - INFO - adc - Bitslipping board 0 chip 2 because nowhere was good\n",
      "2022-02-09 21:50:36,434 - lwa_f.blocks.block:snap01 - INFO - adc - Bitslipping board 0 chip 3 because nowhere was good\n",
      "2022-02-09 21:50:43,987 - lwa_f.blocks.block:snap01 - INFO - adc - FMC 1 Scanning data delays\n"
     ]
    },
    {
     "name": "stderr",
     "output_type": "stream",
     "text": [
      "100% (64 of 64) |########################| Elapsed Time: 0:00:07 Time:  0:00:07\n"
     ]
    },
    {
     "name": "stdout",
     "output_type": "stream",
     "text": [
      "2022-02-09 21:50:51,283 - lwa_f.blocks.block:snap01 - INFO - adc - Bitslipping board 0 chip 0 because nowhere was good\n",
      "2022-02-09 21:50:51,295 - lwa_f.blocks.block:snap01 - INFO - adc - Bitslipping board 0 chip 1 because nowhere was good\n",
      "2022-02-09 21:50:51,308 - lwa_f.blocks.block:snap01 - INFO - adc - Bitslipping board 0 chip 2 because nowhere was good\n",
      "2022-02-09 21:50:51,321 - lwa_f.blocks.block:snap01 - INFO - adc - Bitslipping board 0 chip 3 because nowhere was good\n",
      "2022-02-09 21:50:52,450 - lwa_f.blocks.block:snap01 - INFO - adc - FMC 1 Scanning data delays\n"
     ]
    },
    {
     "name": "stderr",
     "output_type": "stream",
     "text": [
      "100% (64 of 64) |########################| Elapsed Time: 0:00:07 Time:  0:00:07\n"
     ]
    },
    {
     "name": "stdout",
     "output_type": "stream",
     "text": [
      "2022-02-09 21:50:59,818 - lwa_f.blocks.block:snap01 - INFO - adc - Bitslipping board 0 chip 0 because nowhere was good\n",
      "2022-02-09 21:50:59,830 - lwa_f.blocks.block:snap01 - INFO - adc - Bitslipping board 0 chip 1 because nowhere was good\n",
      "2022-02-09 21:50:59,841 - lwa_f.blocks.block:snap01 - INFO - adc - Bitslipping board 0 chip 2 because nowhere was good\n",
      "2022-02-09 21:50:59,853 - lwa_f.blocks.block:snap01 - INFO - adc - Bitslipping board 0 chip 3 because nowhere was good\n",
      "2022-02-09 21:51:00,770 - lwa_f.blocks.block:snap01 - INFO - adc - FMC 1 Scanning data delays\n"
     ]
    },
    {
     "name": "stderr",
     "output_type": "stream",
     "text": [
      "100% (64 of 64) |########################| Elapsed Time: 0:00:07 Time:  0:00:07\n"
     ]
    },
    {
     "name": "stdout",
     "output_type": "stream",
     "text": [
      "2022-02-09 21:51:08,073 - lwa_f.blocks.block:snap01 - INFO - adc - Bitslipping board 0 chip 0 because nowhere was good\n",
      "2022-02-09 21:51:08,084 - lwa_f.blocks.block:snap01 - INFO - adc - Bitslipping board 0 chip 1 because nowhere was good\n",
      "2022-02-09 21:51:08,097 - lwa_f.blocks.block:snap01 - INFO - adc - Bitslipping board 0 chip 2 because nowhere was good\n",
      "2022-02-09 21:51:08,110 - lwa_f.blocks.block:snap01 - INFO - adc - Bitslipping board 0 chip 3 because nowhere was good\n",
      "2022-02-09 21:51:09,241 - lwa_f.blocks.block:snap01 - INFO - adc - FMC 1 Scanning data delays\n"
     ]
    },
    {
     "name": "stderr",
     "output_type": "stream",
     "text": [
      "100% (64 of 64) |########################| Elapsed Time: 0:00:07 Time:  0:00:07\n"
     ]
    },
    {
     "name": "stdout",
     "output_type": "stream",
     "text": [
      "2022-02-09 21:51:17,019 - lwa_f.blocks.block:snap01 - INFO - adc - Bitslipping board 0 chip 0 because nowhere was good\n",
      "2022-02-09 21:51:17,031 - lwa_f.blocks.block:snap01 - INFO - adc - Bitslipping board 0 chip 1 because nowhere was good\n",
      "2022-02-09 21:51:17,041 - lwa_f.blocks.block:snap01 - INFO - adc - Bitslipping board 0 chip 2 because nowhere was good\n",
      "2022-02-09 21:51:17,053 - lwa_f.blocks.block:snap01 - INFO - adc - Bitslipping board 0 chip 3 because nowhere was good\n",
      "2022-02-09 21:51:17,963 - lwa_f.blocks.block:snap01 - INFO - adc - FMC 1 Scanning data delays\n"
     ]
    },
    {
     "name": "stderr",
     "output_type": "stream",
     "text": [
      "100% (64 of 64) |########################| Elapsed Time: 0:00:07 Time:  0:00:07\n"
     ]
    },
    {
     "name": "stdout",
     "output_type": "stream",
     "text": [
      "2022-02-09 21:51:25,045 - lwa_f.blocks.block:snap01 - INFO - adc - FMC 1 data lane delays:\n",
      "[[0, 0, 0, 0, 0, 0, 0, 0], [0, 0, 0, 0, 0, 0, 0, 0], [0, 0, 0, 0, 0, 0, 0, 0], [0, 0, 0, 0, 0, 0, 0, 0], [280, 280, 280, 296, 280, 280, 280, 280], [216, 216, 216, 216, 216, 216, 224, 216], [272, 256, 264, 280, 264, 264, 264, 264], [304, 304, 304, 296, 296, 296, 296, 296]]\n",
      "2022-02-09 21:51:25,046 - lwa_f.blocks.block:snap01 - INFO - adc - FMC 1 data lane slacks:\n",
      "[[0, 0, 0, 0, 0, 0, 0, 0], [0, 0, 0, 0, 0, 0, 0, 0], [0, 0, 0, 0, 0, 0, 0, 0], [0, 0, 0, 0, 0, 0, 0, 0], [40, 40, 40, 40, 40, 40, 40, 40], [32, 32, 32, 32, 32, 32, 40, 32], [40, 32, 40, 40, 32, 40, 40, 32], [40, 40, 40, 40, 40, 40, 40, 40]]\n",
      "2022-02-09 21:51:25,047 - lwa_f.blocks.block:snap01 - WARNING - adc - Delay solutions have small slack\n",
      "2022-02-09 21:51:25,048 - lwa_f.blocks.block:snap01 - INFO - adc - Chip 0, Lane 0:    |XXXXXXXXXXXXXXXXXXXXXXXXXXXXXXXXXXXXXXXXXXXXXXXXXXXXXXXXXXXXXXX\n",
      "2022-02-09 21:51:25,048 - lwa_f.blocks.block:snap01 - INFO - adc - Chip 0, Lane 1:    |XXXXXXXXXXXXXXXXXXXXXXXXXXXXXXXXXXXXXXXXXXXXXXXXXXXXXXXXXXXXXXX\n",
      "2022-02-09 21:51:25,049 - lwa_f.blocks.block:snap01 - INFO - adc - Chip 0, Lane 2:    |XXXXXXXXXXXXXXXXXXXXXXXXXXXXXXXXXXXXXXXXXXXXXXXXXXXXXXXXXXXXXXX\n",
      "2022-02-09 21:51:25,049 - lwa_f.blocks.block:snap01 - INFO - adc - Chip 0, Lane 3:    |XXXXXXXXXXXXXXXXXXXXXXXXXXXXXXXXXXXXXXXXXXXXXXXXXXXXXXXXXXXXXXX\n",
      "2022-02-09 21:51:25,050 - lwa_f.blocks.block:snap01 - INFO - adc - Chip 0, Lane 4:    |XXXXXXXXXXXXXXXXXXXXXXXXXXXXXXXXXXXXXXXXXXXXXXXXXXXXXXXXXXXXXXX\n",
      "2022-02-09 21:51:25,051 - lwa_f.blocks.block:snap01 - INFO - adc - Chip 0, Lane 5:    |XXXXXXXXXXXXXXXXXXXXXXXXXXXXXXXXXXXXXXXXXXXXXXXXXXXXXXXXXXXXXXX\n",
      "2022-02-09 21:51:25,051 - lwa_f.blocks.block:snap01 - INFO - adc - Chip 0, Lane 6:    |XXXXXXXXXXXXXXXXXXXXXXXXXXXXXXXXXXXXXXXXXXXXXXXXXXXXXXXXXXXXXXX\n",
      "2022-02-09 21:51:25,052 - lwa_f.blocks.block:snap01 - INFO - adc - Chip 0, Lane 7:    |XXXXXXXXXXXXXXXXXXXXXXXXXXXXXXXXXXXXXXXXXXXXXXXXXXXXXXXXXXXXXXX\n",
      "2022-02-09 21:51:25,053 - lwa_f.blocks.block:snap01 - INFO - adc - Chip 1, Lane 0:    |XXXXXXXXXXXXXXXXXXXXXXXXXXXXXXXXXXXXXXXXXXXXXXXXXXXXXXXXXXXXXXX\n",
      "2022-02-09 21:51:25,053 - lwa_f.blocks.block:snap01 - INFO - adc - Chip 1, Lane 1:    |XXXXXXXXXXXXXXXXXXXXXXXXXXXXXXXXXXXXXXXXXXXXXXXXXXXXXXXXXXXXXXX\n",
      "2022-02-09 21:51:25,054 - lwa_f.blocks.block:snap01 - INFO - adc - Chip 1, Lane 2:    |XXXXXXXXXXXXXXXXXXXXXXXXXXXXXXXXXXXXXXXXXXXXXXXXXXXXXXXXXXXXXXX\n",
      "2022-02-09 21:51:25,055 - lwa_f.blocks.block:snap01 - INFO - adc - Chip 1, Lane 3:    |XXXXXXXXXXXXXXXXXXXXXXXXXXXXXXXXXXXXXXXXXXXXXXXXXXXXXXXXXXXXXXX\n",
      "2022-02-09 21:51:25,056 - lwa_f.blocks.block:snap01 - INFO - adc - Chip 1, Lane 4:    |XXXXXXXXXXXXXXXXXXXXXXXXXXXXXXXXXXXXXXXXXXXXXXXXXXXXXXXXXXXXXXX\n",
      "2022-02-09 21:51:25,056 - lwa_f.blocks.block:snap01 - INFO - adc - Chip 1, Lane 5:    |XXXXXXXXXXXXXXXXXXXXXXXXXXXXXXXXXXXXXXXXXXXXXXXXXXXXXXXXXXXXXXX\n",
      "2022-02-09 21:51:25,057 - lwa_f.blocks.block:snap01 - INFO - adc - Chip 1, Lane 6:    |XXXXXXXXXXXXXXXXXXXXXXXXXXXXXXXXXXXXXXXXXXXXXXXXXXXXXXXXXXXXXXX\n",
      "2022-02-09 21:51:25,057 - lwa_f.blocks.block:snap01 - INFO - adc - Chip 1, Lane 7:    |XXXXXXXXXXXXXXXXXXXXXXXXXXXXXXXXXXXXXXXXXXXXXXXXXXXXXXXXXXXXXXX\n",
      "2022-02-09 21:51:25,058 - lwa_f.blocks.block:snap01 - INFO - adc - Chip 2, Lane 0:    |XXXXXXXXXXXXXXXXXXXXXXXXXXXXXXXXXXXXXXXXXXXXXXXXXXXXXXXXXXXXXXX\n",
      "2022-02-09 21:51:25,058 - lwa_f.blocks.block:snap01 - INFO - adc - Chip 2, Lane 1:    |XXXXXXXXXXXXXXXXXXXXXXXXXXXXXXXXXXXXXXXXXXXXXXXXXXXXXXXXXXXXXXX\n",
      "2022-02-09 21:51:25,059 - lwa_f.blocks.block:snap01 - INFO - adc - Chip 2, Lane 2:    |XXXXXXXXXXXXXXXXXXXXXXXXXXXXXXXXXXXXXXXXXXXXXXXXXXXXXXXXXXXXXXX\n",
      "2022-02-09 21:51:25,059 - lwa_f.blocks.block:snap01 - INFO - adc - Chip 2, Lane 3:    |XXXXXXXXXXXXXXXXXXXXXXXXXXXXXXXXXXXXXXXXXXXXXXXXXXXXXXXXXXXXXXX\n",
      "2022-02-09 21:51:25,060 - lwa_f.blocks.block:snap01 - INFO - adc - Chip 2, Lane 4:    |XXXXXXXXXXXXXXXXXXXXXXXXXXXXXXXXXXXXXXXXXXXXXXXXXXXXXXXXXXXXXXX\n",
      "2022-02-09 21:51:25,060 - lwa_f.blocks.block:snap01 - INFO - adc - Chip 2, Lane 5:    |XXXXXXXXXXXXXXXXXXXXXXXXXXXXXXXXXXXXXXXXXXXXXXXXXXXXXXXXXXXXXXX\n",
      "2022-02-09 21:51:25,061 - lwa_f.blocks.block:snap01 - INFO - adc - Chip 2, Lane 6:    |XXXXXXXXXXXXXXXXXXXXXXXXXXXXXXXXXXXXXXXXXXXXXXXXXXXXXXXXXXXXXXX\n",
      "2022-02-09 21:51:25,062 - lwa_f.blocks.block:snap01 - INFO - adc - Chip 2, Lane 7:    |XXXXXXXXXXXXXXXXXXXXXXXXXXXXXXXXXXXXXXXXXXXXXXXXXXXXXXXXXXXXXXX\n",
      "2022-02-09 21:51:25,062 - lwa_f.blocks.block:snap01 - INFO - adc - Chip 3, Lane 0:    |XXXXXXXXXXXXXXXXXXXXXXXXXXXXXXXXXXXXXXXXXXXXXXXXXXXXXXXXXXXXXXX\n",
      "2022-02-09 21:51:25,063 - lwa_f.blocks.block:snap01 - INFO - adc - Chip 3, Lane 1:    |XXXXXXXXXXXXXXXXXXXXXXXXXXXXXXXXXXXXXXXXXXXXXXXXXXXXXXXXXXXXXXX\n",
      "2022-02-09 21:51:25,063 - lwa_f.blocks.block:snap01 - INFO - adc - Chip 3, Lane 2:    |XXXXXXXXXXXXXXXXXXXXXXXXXXXXXXXXXXXXXXXXXXXXXXXXXXXXXXXXXXXXXXX\n",
      "2022-02-09 21:51:25,064 - lwa_f.blocks.block:snap01 - INFO - adc - Chip 3, Lane 3:    |XXXXXXXXXXXXXXXXXXXXXXXXXXXXXXXXXXXXXXXXXXXXXXXXXXXXXXXXXXXXXXX\n",
      "2022-02-09 21:51:25,064 - lwa_f.blocks.block:snap01 - INFO - adc - Chip 3, Lane 4:    |XXXXXXXXXXXXXXXXXXXXXXXXXXXXXXXXXXXXXXXXXXXXXXXXXXXXXXXXXXXXXXX\n",
      "2022-02-09 21:51:25,065 - lwa_f.blocks.block:snap01 - INFO - adc - Chip 3, Lane 5:    |XXXXXXXXXXXXXXXXXXXXXXXXXXXXXXXXXXXXXXXXXXXXXXXXXXXXXXXXXXXXXXX\n",
      "2022-02-09 21:51:25,065 - lwa_f.blocks.block:snap01 - INFO - adc - Chip 3, Lane 6:    |XXXXXXXXXXXXXXXXXXXXXXXXXXXXXXXXXXXXXXXXXXXXXXXXXXXXXXXXXXXXXXX\n",
      "2022-02-09 21:51:25,066 - lwa_f.blocks.block:snap01 - INFO - adc - Chip 3, Lane 7:    |XXXXXXXXXXXXXXXXXXXXXXXXXXXXXXXXXXXXXXXXXXXXXXXXXXXXXXXXXXXXXXX\n",
      "2022-02-09 21:51:25,066 - lwa_f.blocks.block:snap01 - INFO - adc - Chip 4, Lane 0:    XXXXXXXXXXXXXXXXXXXXXXXXXXXXXXX----|-----XXXXXXXXXXXXXXXXXXXXXXX\n",
      "2022-02-09 21:51:25,067 - lwa_f.blocks.block:snap01 - INFO - adc - Chip 4, Lane 1:    XXXXXXXXXXXXXXXXXXXXXXXXXXXXXXX----|-----XXXXXXXXXXXXXXXXXXXXXXX\n",
      "2022-02-09 21:51:25,067 - lwa_f.blocks.block:snap01 - INFO - adc - Chip 4, Lane 2:    XXXXXXXXXXXXXXXXXXXXXXXXXXXXXXX----|-----XXXXXXXXXXXXXXXXXXXXXXX\n",
      "2022-02-09 21:51:25,068 - lwa_f.blocks.block:snap01 - INFO - adc - Chip 4, Lane 3:    XXXXXXXXXXXXXXXXXXXXXXXXXXXXXXXXX----|----XXXXXXXXXXXXXXXXXXXXXX\n",
      "2022-02-09 21:51:25,068 - lwa_f.blocks.block:snap01 - INFO - adc - Chip 4, Lane 4:    XXXXXXXXXXXXXXXXXXXXXXXXXXXXXXX----|-----XXXXXXXXXXXXXXXXXXXXXXX\n",
      "2022-02-09 21:51:25,069 - lwa_f.blocks.block:snap01 - INFO - adc - Chip 4, Lane 5:    XXXXXXXXXXXXXXXXXXXXXXXXXXXXXXX----|-----XXXXXXXXXXXXXXXXXXXXXXX\n",
      "2022-02-09 21:51:25,069 - lwa_f.blocks.block:snap01 - INFO - adc - Chip 4, Lane 6:    XXXXXXXXXXXXXXXXXXXXXXXXXXXXXXX----|----XXXXXXXXXXXXXXXXXXXXXXXX\n",
      "2022-02-09 21:51:25,070 - lwa_f.blocks.block:snap01 - INFO - adc - Chip 4, Lane 7:    XXXXXXXXXXXXXXXXXXXXXXXXXXXXXXX----|-----XXXXXXXXXXXXXXXXXXXXXXX\n",
      "2022-02-09 21:51:25,071 - lwa_f.blocks.block:snap01 - INFO - adc - Chip 5, Lane 0:    XXXXXXXXXXXXXXXXXXXXXXXX---|----XXXXXXXXXXXXXXXXXXXXXXXXXXXXXXXX\n",
      "2022-02-09 21:51:25,071 - lwa_f.blocks.block:snap01 - INFO - adc - Chip 5, Lane 1:    XXXXXXXXXXXXXXXXXXXXXXXX---|----XXXXXXXXXXXXXXXXXXXXXXXXXXXXXXXX\n",
      "2022-02-09 21:51:25,072 - lwa_f.blocks.block:snap01 - INFO - adc - Chip 5, Lane 2:    XXXXXXXXXXXXXXXXXXXXXXXX---|----XXXXXXXXXXXXXXXXXXXXXXXXXXXXXXXX\n",
      "2022-02-09 21:51:25,072 - lwa_f.blocks.block:snap01 - INFO - adc - Chip 5, Lane 3:    XXXXXXXXXXXXXXXXXXXXXXXX---|----XXXXXXXXXXXXXXXXXXXXXXXXXXXXXXXX\n",
      "2022-02-09 21:51:25,073 - lwa_f.blocks.block:snap01 - INFO - adc - Chip 5, Lane 4:    XXXXXXXXXXXXXXXXXXXXXXXX---|----XXXXXXXXXXXXXXXXXXXXXXXXXXXXXXXX\n",
      "2022-02-09 21:51:25,073 - lwa_f.blocks.block:snap01 - INFO - adc - Chip 5, Lane 5:    XXXXXXXXXXXXXXXXXXXXXXXX---|----XXXXXXXXXXXXXXXXXXXXXXXXXXXXXXXX\n",
      "2022-02-09 21:51:25,074 - lwa_f.blocks.block:snap01 - INFO - adc - Chip 5, Lane 6:    XXXXXXXXXXXXXXXXXXXXXXXX----|----XXXXXXXXXXXXXXXXXXXXXXXXXXXXXXX\n",
      "2022-02-09 21:51:25,074 - lwa_f.blocks.block:snap01 - INFO - adc - Chip 5, Lane 7:    XXXXXXXXXXXXXXXXXXXXXXXX---|----XXXXXXXXXXXXXXXXXXXXXXXXXXXXXXXX\n",
      "2022-02-09 21:51:25,075 - lwa_f.blocks.block:snap01 - INFO - adc - Chip 6, Lane 0:    XXXXXXXXXXXXXXXXXXXXXXXXXXXXXX----|----XXXXXXXXXXXXXXXXXXXXXXXXX\n"
     ]
    },
    {
     "name": "stdout",
     "output_type": "stream",
     "text": [
      "2022-02-09 21:51:25,075 - lwa_f.blocks.block:snap01 - INFO - adc - Chip 6, Lane 1:    XXXXXXXXXXXXXXXXXXXXXXXXXXXXX---|----XXXXXXXXXXXXXXXXXXXXXXXXXXX\n",
      "2022-02-09 21:51:25,076 - lwa_f.blocks.block:snap01 - INFO - adc - Chip 6, Lane 2:    XXXXXXXXXXXXXXXXXXXXXXXXXXXXX----|----XXXXXXXXXXXXXXXXXXXXXXXXXX\n",
      "2022-02-09 21:51:25,076 - lwa_f.blocks.block:snap01 - INFO - adc - Chip 6, Lane 3:    XXXXXXXXXXXXXXXXXXXXXXXXXXXXXXX----|----XXXXXXXXXXXXXXXXXXXXXXXX\n",
      "2022-02-09 21:51:25,077 - lwa_f.blocks.block:snap01 - INFO - adc - Chip 6, Lane 4:    XXXXXXXXXXXXXXXXXXXXXXXXXXXXXX---|----XXXXXXXXXXXXXXXXXXXXXXXXXX\n",
      "2022-02-09 21:51:25,077 - lwa_f.blocks.block:snap01 - INFO - adc - Chip 6, Lane 5:    XXXXXXXXXXXXXXXXXXXXXXXXXXXXX----|----XXXXXXXXXXXXXXXXXXXXXXXXXX\n",
      "2022-02-09 21:51:25,078 - lwa_f.blocks.block:snap01 - INFO - adc - Chip 6, Lane 6:    XXXXXXXXXXXXXXXXXXXXXXXXXXXXX----|----XXXXXXXXXXXXXXXXXXXXXXXXXX\n",
      "2022-02-09 21:51:25,079 - lwa_f.blocks.block:snap01 - INFO - adc - Chip 6, Lane 7:    XXXXXXXXXXXXXXXXXXXXXXXXXXXXXX---|----XXXXXXXXXXXXXXXXXXXXXXXXXX\n",
      "2022-02-09 21:51:25,079 - lwa_f.blocks.block:snap01 - INFO - adc - Chip 7, Lane 0:    XXXXXXXXXXXXXXXXXXXXXXXXXXXXXXXXXX----|----XXXXXXXXXXXXXXXXXXXXX\n",
      "2022-02-09 21:51:25,080 - lwa_f.blocks.block:snap01 - INFO - adc - Chip 7, Lane 1:    XXXXXXXXXXXXXXXXXXXXXXXXXXXXXXXXXX----|----XXXXXXXXXXXXXXXXXXXXX\n",
      "2022-02-09 21:51:25,080 - lwa_f.blocks.block:snap01 - INFO - adc - Chip 7, Lane 2:    XXXXXXXXXXXXXXXXXXXXXXXXXXXXXXXXXX----|----XXXXXXXXXXXXXXXXXXXXX\n",
      "2022-02-09 21:51:25,081 - lwa_f.blocks.block:snap01 - INFO - adc - Chip 7, Lane 3:    XXXXXXXXXXXXXXXXXXXXXXXXXXXXXXXXX----|-----XXXXXXXXXXXXXXXXXXXXX\n",
      "2022-02-09 21:51:25,081 - lwa_f.blocks.block:snap01 - INFO - adc - Chip 7, Lane 4:    XXXXXXXXXXXXXXXXXXXXXXXXXXXXXXXXX----|-----XXXXXXXXXXXXXXXXXXXXX\n",
      "2022-02-09 21:51:25,082 - lwa_f.blocks.block:snap01 - INFO - adc - Chip 7, Lane 5:    XXXXXXXXXXXXXXXXXXXXXXXXXXXXXXXXX----|-----XXXXXXXXXXXXXXXXXXXXX\n",
      "2022-02-09 21:51:25,082 - lwa_f.blocks.block:snap01 - INFO - adc - Chip 7, Lane 6:    XXXXXXXXXXXXXXXXXXXXXXXXXXXXXXXXX----|-----XXXXXXXXXXXXXXXXXXXXX\n",
      "2022-02-09 21:51:25,083 - lwa_f.blocks.block:snap01 - INFO - adc - Chip 7, Lane 7:    XXXXXXXXXXXXXXXXXXXXXXXXXXXXXXXXX----|----XXXXXXXXXXXXXXXXXXXXXX\n",
      "2022-02-09 21:51:26,599 - lwa_f.blocks.block:snap01 - ERROR - adc - FMC 1: Data calibration Failure!\n",
      "2022-02-09 21:51:28,746 - lwa_f.snap2_fengine:snap01 - INFO - Initializing block (writable): sync\n",
      "2022-02-09 21:51:28,759 - lwa_f.snap2_fengine:snap01 - INFO - Initializing block (writable): noise\n",
      "2022-02-09 21:51:28,765 - lwa_f.snap2_fengine:snap01 - INFO - Initializing block (writable): input\n",
      "2022-02-09 21:51:28,942 - lwa_f.snap2_fengine:snap01 - INFO - Initializing block (writable): delay\n",
      "2022-02-09 21:51:29,419 - lwa_f.snap2_fengine:snap01 - INFO - Initializing block (writable): pfb\n",
      "2022-02-09 21:51:29,433 - lwa_f.snap2_fengine:snap01 - INFO - Initializing block (writable): eq\n",
      "2022-02-09 21:51:29,778 - lwa_f.snap2_fengine:snap01 - INFO - Initializing block (writable): eqtvg\n",
      "2022-02-09 21:51:30,774 - lwa_f.snap2_fengine:snap01 - INFO - Initializing block (writable): reorder\n",
      "2022-02-09 21:51:30,790 - lwa_f.snap2_fengine:snap01 - INFO - Initializing block (writable): packetizer\n",
      "2022-02-09 21:51:30,790 - lwa_f.snap2_fengine:snap01 - INFO - Initializing block (writable): eth\n",
      "2022-02-09 21:51:30,800 - lwa_f.snap2_fengine:snap01 - INFO - Initializing block (writable): autocorr\n",
      "2022-02-09 21:51:30,803 - lwa_f.snap2_fengine:snap01 - INFO - Initializing block (writable): corr\n",
      "2022-02-09 21:51:30,805 - lwa_f.snap2_fengine:snap01 - INFO - Initializing block (writable): powermon\n",
      "2022-02-09 21:51:30,996 - lwa_f.snap2_fengine:snap01 - INFO - Performing software global reset\n"
     ]
    }
   ],
   "source": [
    "setup_data_source(casperbrd,\"adc\")\n",
    "brd.initialize(read_only=False)\n",
    "brd.sync.arm_sync()\n",
    "brd.sync.sw_sync()"
   ]
  },
  {
   "cell_type": "markdown",
   "metadata": {},
   "source": [
    "## Send a snapshot\n",
    "Don't forget to start and stop the datacapture script separately."
   ]
  },
  {
   "cell_type": "code",
   "execution_count": 4,
   "metadata": {},
   "outputs": [
    {
     "name": "stdout",
     "output_type": "stream",
     "text": [
      "------------------------\n",
      "snap01:cosmic_ray_cr_forty_gbe configuration:\n",
      "MAC:  02:02:02:01:01:01\n",
      "Gateway:  0.0.0.1\n",
      "IP:  10.41.0.201\n",
      "Fabric port: \n",
      "11111\n",
      "Fabric interface is currently: Enabled\n",
      "\tbase_ip: 255.255.255.255\n",
      "\tip_mask: 255.255.255.255\n",
      "\trx_ips: []\n",
      "ARP Table: \n",
      "IP: 10.41.0. 58: MAC: 04:3F:72:DF:C2:F8\n",
      "Setting wait between packets to 100\n"
     ]
    }
   ],
   "source": [
    "#send a snapshot just in case\n",
    "setup_ethernet(brdname,casperbrd,fpgfile,'lwacr',100)\n",
    "#enable ethernet\n",
    "setvalue(casperbrd,'eth_enable','cr_registers.xlsx',1)\n",
    "#send trigger\n",
    "software_trigger(casperbrd,0)"
   ]
  },
  {
   "cell_type": "code",
   "execution_count": 32,
   "metadata": {},
   "outputs": [
    {
     "name": "stdout",
     "output_type": "stream",
     "text": [
      "692934144\n"
     ]
    }
   ],
   "source": [
    "val=getvalue(casperbrd,'readout_state_timer','cr_registers.xlsx')\n",
    "print(val)"
   ]
  },
  {
   "cell_type": "code",
   "execution_count": 33,
   "metadata": {},
   "outputs": [
    {
     "name": "stdout",
     "output_type": "stream",
     "text": [
      "0\n"
     ]
    }
   ],
   "source": [
    "reset_to_listen(casperbrd)\n",
    "print(getvalue(casperbrd,\"readout_state_value\",\"cr_registers.xlsx\"))"
   ]
  },
  {
   "cell_type": "code",
   "execution_count": 34,
   "metadata": {},
   "outputs": [
    {
     "name": "stdout",
     "output_type": "stream",
     "text": [
      "0\n"
     ]
    }
   ],
   "source": [
    "print(getvalue(casperbrd,\"readout_state_value\",\"cr_registers.xlsx\"))"
   ]
  },
  {
   "cell_type": "code",
   "execution_count": 35,
   "metadata": {},
   "outputs": [
    {
     "name": "stdout",
     "output_type": "stream",
     "text": [
      "3386048 5 0\n"
     ]
    }
   ],
   "source": [
    "previous_packets = getvalue(casperbrd,'eof_and_valid','cr_registers.xlsx')\n",
    "previous_afull = getvalue(casperbrd,'almostfull','cr_registers.xlsx')\n",
    "previous_overflows = getvalue(casperbrd,'overflow','cr_registers.xlsx')\n",
    "print(previous_packets,previous_afull,previous_overflows)"
   ]
  },
  {
   "cell_type": "code",
   "execution_count": 36,
   "metadata": {},
   "outputs": [
    {
     "name": "stdout",
     "output_type": "stream",
     "text": [
      "0\n"
     ]
    }
   ],
   "source": [
    "print(getvalue(casperbrd,'readout_state_value','cr_registers.xlsx'))"
   ]
  },
  {
   "cell_type": "code",
   "execution_count": 37,
   "metadata": {},
   "outputs": [
    {
     "name": "stdout",
     "output_type": "stream",
     "text": [
      "3398400\n",
      "Board successfully returned to listening state after readout\n",
      "Readout took 700999488 clock cycles\n",
      "0\n"
     ]
    }
   ],
   "source": [
    "setvalue(casperbrd,\"send_trigger\",\"cr_registers.xlsx\",0)\n",
    "setvalue(casperbrd,\"send_trigger\",\"cr_registers.xlsx\",1)\n",
    "packets = getvalue(casperbrd,'eof_and_valid','cr_registers.xlsx')\n",
    "print(packets)\n",
    "\n",
    "val = getvalue(casperbrd,'readout_state_value','cr_registers.xlsx')\n",
    "if val == 0:\n",
    "    print(\"Board successfully returned to listening state after readout\")\n",
    "if val !=0:\n",
    "    print(\"Board did not return to listening state after readout. State value = \" + str(val))\n",
    "#Read register readout_state_timer.\n",
    "val = getvalue(casperbrd,'readout_state_timer','cr_registers.xlsx')\n",
    "print (\"Readout took \" + str(val) + \" clock cycles\")\n",
    "\n",
    "#Read overflow counter to confirm that the 40Gbe block did not overflow.\n",
    "of = getvalue(casperbrd,'overflow','cr_registers.xlsx')\n",
    "overflows = of - previous_overflows\n",
    "print(overflows)"
   ]
  },
  {
   "cell_type": "markdown",
   "metadata": {},
   "source": [
    "## Plot the snapshot\n"
   ]
  },
  {
   "cell_type": "code",
   "execution_count": null,
   "metadata": {},
   "outputs": [],
   "source": [
    "snapshotpath = ''#fill in after capture\n",
    "snapshot=np.load(snapshotpath)\n",
    "\n",
    "#plot spectra\n",
    "fbins=np.linspace(0,197/2,int(1+4096/2))\n",
    "\n",
    "plt.figure(figsize=(20,15))\n",
    "for i in range(64):\n",
    "    plt.subplot(8,8,1+i)\n",
    "    plt.title(i)\n",
    "    spec=np.fft.rfft(snapshot[:,i+4])\n",
    "    plt.plot(fbins,np.log(np.square(np.abs(spec))))\n",
    "    plt.ylim(0,25)\n",
    "    if i > 55:\n",
    "        plt.xlabel('frequency [MHz]')\n",
    "    if i%8==0:\n",
    "        plt.ylabel('power')"
   ]
  },
  {
   "cell_type": "markdown",
   "metadata": {},
   "source": [
    "## Do a threshold scan"
   ]
  },
  {
   "cell_type": "code",
   "execution_count": 11,
   "metadata": {},
   "outputs": [],
   "source": [
    "thresholds = 3*np.asarray(range(100))\n",
    "thresholds = 3*np.asarray(range(100))\n",
    "vthresholds = np.flip(thresholds)\n",
    "results_core = np.zeros((64,100))\n",
    "results_veto = np.zeros((64,100))\n",
    "\n",
    "for i in range(len(thresholds)):\n",
    "    t_c = thresholds[i]\n",
    "    t_v = vthresholds[i]\n",
    "    setvalue(casperbrd,\"trigger_power_thresh\",\"cr_registers.xlsx\",int(t_c**2))\n",
    "    setvalue(casperbrd,\"veto_power_thresh\",\"cr_registers.xlsx\",int(t_v**2))\n",
    "    time.sleep(2.75)  #have to wait for it to update\n",
    "    core,veto = read_threshold_rates(casperbrd)\n",
    "    results_core[:,i] = core\n",
    "    results_veto[:,i] = veto"
   ]
  },
  {
   "cell_type": "code",
   "execution_count": null,
   "metadata": {},
   "outputs": [],
   "source": [
    "n=272022\n",
    "save the arrays\n",
    "np.save(\"sky_thresholds_core\"+str(n),thresholds)\n",
    "np.save(\"sky_thresholds_veto\"+str(n),vthresholds)\n",
    "np.save(\"sky_results_core\"+str(n),results_core)\n",
    "np.save(\"sky_results_veto\"+str(n),results_veto)"
   ]
  },
  {
   "cell_type": "markdown",
   "metadata": {},
   "source": [
    "## Plot threshold scan results\n"
   ]
  },
  {
   "cell_type": "code",
   "execution_count": null,
   "metadata": {},
   "outputs": [],
   "source": [
    "n=272022\n",
    "savedthresholds=np.load(\"sky_thresholds_core\"+str(n)+\".npy\")\n",
    "savedvthresholds=np.load(\"sky_thresholds_veto\"+str(n)+\".npy\")\n",
    "savedresults_core=np.load(\"sky_results_core\"+str(n)+\".npy\")\n",
    "savedresults_veto=np.load(\"sky_results_veto\"+str(n)+\".npy\")"
   ]
  },
  {
   "cell_type": "code",
   "execution_count": null,
   "metadata": {},
   "outputs": [],
   "source": [
    "rate_core = savedresults_core/(2**28 - 1)\n",
    "rate_veto = savedresults_veto/(2**28 - 1)\n",
    "\n",
    "print(\"Fit sigma only\")\n",
    "popt1,pcov1 = oz.curve_fit(prob_simple,thresholds,rate_core[1,:])\n",
    "print(popt1)\n",
    "print(pcov1)\n",
    "\n",
    "print(\"Fit Sigma and Mean\")\n",
    "p0=(0,10)\n",
    "popt2,pcov2 = oz.curve_fit(prob,thresholds,rate_core[1,:],p0)\n",
    "print(popt2)\n",
    "print(pcov2)\n",
    "\n",
    "model1 = prob_simple(thresholds,popt1[0])\n",
    "model2 = prob(thresholds,popt2[0],popt2[1])\n",
    "\n",
    "plt.figure(figsize=(10,10))\n",
    "plt.plot(savedthresholds,rate_core[1,:],'.',label='core')\n",
    "plt.plot(savedthresholds,model1,label=\"Core Fit sigma only\")\n",
    "plt.plot(savedthresholds,model2,label=\"Core Fit sigma and mean\")\n",
    "\n",
    "\n",
    "plt.plot(np.flip(savedthresholds),rate_veto[1,:],'.',label='veto')\n",
    "plt.legend()\n",
    "\n",
    "plt.figure(figsize=(15,5))\n",
    "plt.subplot(121)\n",
    "plt.plot(savedresults_core[1,:]-np.flip(savedresults_veto[1,:]),'C3',label=\"Core - veto\")\n",
    "plt.plot(binomial_error(rate_core[1,:],2**28),'C4',label=\"Estimate of uncertainty\")\n",
    "plt.ylabel(\"Core counts minus veto counts for same thresholds\")\n",
    "plt.xlabel(\"Threshold\")\n",
    "\n",
    "plt.subplot(122)\n",
    "plt.plot(binomial_error(rate_core[1,:],2**28),'C4',label=\"Estimate of uncertainty\")\n",
    "plt.ylabel(\"Core counts minus veto counts for same thresholds\")\n",
    "plt.xlabel(\"Threshold\")"
   ]
  }
 ],
 "metadata": {
  "kernelspec": {
   "display_name": "Python 3",
   "language": "python",
   "name": "python3"
  },
  "language_info": {
   "codemirror_mode": {
    "name": "ipython",
    "version": 3
   },
   "file_extension": ".py",
   "mimetype": "text/x-python",
   "name": "python",
   "nbconvert_exporter": "python",
   "pygments_lexer": "ipython3",
   "version": "3.6.10"
  }
 },
 "nbformat": 4,
 "nbformat_minor": 4
}
