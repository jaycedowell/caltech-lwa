{
 "cells": [
  {
   "cell_type": "code",
   "execution_count": 1,
   "metadata": {},
   "outputs": [],
   "source": [
    "import casperfpga\n",
    "import matplotlib.pyplot as plt\n",
    "import time\n",
    "import numpy as np"
   ]
  },
  {
   "cell_type": "code",
   "execution_count": null,
   "metadata": {},
   "outputs": [],
   "source": [
    "#Reset the trigger counter\n",
    "def reset_trigger_counter_all():\n",
    "        brd9.write_int(\"trig_debug_reset\",1)\n",
    "        brd11.write_int(\"trig_debug_reset\",1)\n",
    "        brd12.write_int(\"trig_debug_reset\",1)\n",
    "        time.sleep(0.01)\n",
    "        brd9.write_int(\"trig_debug_reset\",0)\n",
    "        brd11.write_int(\"trig_debug_reset\",0)\n",
    "        brd12.write_int(\"trig_debug_reset\",0)\n",
    "        return\n",
    "\n",
    "#reset the trigger timer\n",
    "def reset_trigger_timer_all():\n",
    "        brd9.write_int(\"trig_debug_timer_reset\",1)\n",
    "        brd11.write_int(\"trig_debug_timer_reset\",1)\n",
    "        brd12.write_int(\"trig_debug_timer_reset\",1)\n",
    "        time.sleep(0.01)\n",
    "        brd9.write_int(\"trig_debug_timer_reset\",0)\n",
    "        brd11.write_int(\"trig_debug_timer_reset\",0)\n",
    "        brd12.write_int(\"trig_debug_timer_reset\",0)\n",
    "        return\n",
    "\n",
    "#set all boards to listen\n",
    "def reset_to_listen_all():\n",
    "        brd9.write_int(\"reset_to_listen\",0)\n",
    "        brd11.write_int(\"reset_to_listen\",0)\n",
    "        brd12.write_int(\"reset_to_listen\",0)\n",
    "        time.sleep(0.01)\n",
    "        brd9.write_int(\"reset_to_listen\",1)\n",
    "        brd11.write_int(\"reset_to_listen\",1)\n",
    "        brd12.write_int(\"reset_to_listen\",1)\n",
    "        return\n",
    "#read the readout state value on all the boards\n",
    "def read_state_value_all():\n",
    "        state9=brd9.read_int(\"readout_state_value\")\n",
    "        state11=brd11.read_int(\"readout_state_value\")\n",
    "        state12=brd12.read_int(\"readout_state_value\")\n",
    "        return(state9,state11,state12)\n",
    "\n",
    "#send a trigger to one board\n",
    "def trigger(board):\n",
    "        #board is a casperfpga object\n",
    "        board.write_int(\"send_trigger\",0)\n",
    "        time.sleep(0.01)\n",
    "        board.write_int(\"send_trigger\",1)\n",
    "        return\n",
    "\n",
    "#read the trigger counter on all the boards\n",
    "def read_trigger_counter_all():\n",
    "        count9=brd9.read_int(\"trig_debug_trig_rec_count\")\n",
    "        count11=brd11.read_int(\"trig_debug_trig_rec_count\")\n",
    "        count12=brd12.read_int(\"trig_debug_trig_rec_count\")\n",
    "        return count9,count11,count12\n",
    "\n",
    "\n",
    "def time_trigger_communication(board):\n",
    "        #board is the board to send the trigger to\n",
    "        reset_trigger_counter_all()\n",
    "        reset_trigger_timer_all()\n",
    "        reset_to_listen_all()\n",
    "        initialstate9,initialstate11,initialstate12=read_state_value_all()\n",
    "        trigger(board)\n",
    "        time.sleep(0.5)\n",
    "        timer_value=board.read_int(\"trig_debug_timer\")\n",
    "        count9,count11,count12=read_trigger_counter_all()\n",
    "        finalstate9,finalstate11,finalstate12=read_state_value_all()\n",
    "        return np.asarray([initialstate9,initialstate11,initialstate12,timer_value,count9,count11,count12,finalstate9,finalstate11,finalstate12])\n"
   ]
  },
  {
   "cell_type": "code",
   "execution_count": 13,
   "metadata": {},
   "outputs": [
    {
     "name": "stdout",
     "output_type": "stream",
     "text": [
      "Connecting to boards and loading firmware\n"
     ]
    },
    {
     "ename": "FileNotFoundError",
     "evalue": "[Errno 2] No such file or directory: 'gpio_pins3_2021-02-07_2206.fpg'",
     "output_type": "error",
     "traceback": [
      "\u001b[0;31m-----------------------------------------------------------------------\u001b[0m",
      "\u001b[0;31mFileNotFoundError\u001b[0m                     Traceback (most recent call last)",
      "\u001b[0;32m<ipython-input-13-3a929bd58273>\u001b[0m in \u001b[0;36m<module>\u001b[0;34m\u001b[0m\n\u001b[1;32m      6\u001b[0m \u001b[0mprint\u001b[0m\u001b[0;34m(\u001b[0m\u001b[0;34m\"Connecting to boards and loading firmware\"\u001b[0m\u001b[0;34m)\u001b[0m\u001b[0;34m\u001b[0m\u001b[0;34m\u001b[0m\u001b[0m\n\u001b[1;32m      7\u001b[0m \u001b[0mbrds\u001b[0m \u001b[0;34m=\u001b[0m \u001b[0;34m[\u001b[0m\u001b[0mcasperfpga\u001b[0m\u001b[0;34m.\u001b[0m\u001b[0mCasperFpga\u001b[0m\u001b[0;34m(\u001b[0m\u001b[0mn\u001b[0m\u001b[0;34m)\u001b[0m \u001b[0;32mfor\u001b[0m \u001b[0mn\u001b[0m \u001b[0;32min\u001b[0m \u001b[0mbrdnames\u001b[0m\u001b[0;34m]\u001b[0m\u001b[0;34m\u001b[0m\u001b[0;34m\u001b[0m\u001b[0m\n\u001b[0;32m----> 8\u001b[0;31m \u001b[0;34m[\u001b[0m\u001b[0mbrd\u001b[0m\u001b[0;34m.\u001b[0m\u001b[0mupload_to_ram_and_program\u001b[0m\u001b[0;34m(\u001b[0m\u001b[0mfirmware\u001b[0m\u001b[0;34m)\u001b[0m \u001b[0;32mfor\u001b[0m \u001b[0mbrd\u001b[0m \u001b[0;32min\u001b[0m \u001b[0mbrds\u001b[0m\u001b[0;34m]\u001b[0m\u001b[0;34m\u001b[0m\u001b[0;34m\u001b[0m\u001b[0m\n\u001b[0m\u001b[1;32m      9\u001b[0m \u001b[0;34m[\u001b[0m\u001b[0mprint\u001b[0m\u001b[0;34m(\u001b[0m\u001b[0mbrdnames\u001b[0m\u001b[0;34m[\u001b[0m\u001b[0mi\u001b[0m\u001b[0;34m]\u001b[0m\u001b[0;34m,\u001b[0m\u001b[0;34m'Is connected? '\u001b[0m\u001b[0;34m,\u001b[0m \u001b[0mbrds\u001b[0m\u001b[0;34m[\u001b[0m\u001b[0mi\u001b[0m\u001b[0;34m]\u001b[0m\u001b[0;34m.\u001b[0m\u001b[0mis_connected\u001b[0m\u001b[0;34m(\u001b[0m\u001b[0;34m)\u001b[0m\u001b[0;34m)\u001b[0m \u001b[0;32mfor\u001b[0m \u001b[0mi\u001b[0m \u001b[0;32min\u001b[0m \u001b[0mrange\u001b[0m\u001b[0;34m(\u001b[0m\u001b[0mlen\u001b[0m\u001b[0;34m(\u001b[0m\u001b[0mbrds\u001b[0m\u001b[0;34m)\u001b[0m\u001b[0;34m)\u001b[0m\u001b[0;34m]\u001b[0m\u001b[0;34m\u001b[0m\u001b[0;34m\u001b[0m\u001b[0m\n",
      "\u001b[0;32m<ipython-input-13-3a929bd58273>\u001b[0m in \u001b[0;36m<listcomp>\u001b[0;34m(.0)\u001b[0m\n\u001b[1;32m      6\u001b[0m \u001b[0mprint\u001b[0m\u001b[0;34m(\u001b[0m\u001b[0;34m\"Connecting to boards and loading firmware\"\u001b[0m\u001b[0;34m)\u001b[0m\u001b[0;34m\u001b[0m\u001b[0;34m\u001b[0m\u001b[0m\n\u001b[1;32m      7\u001b[0m \u001b[0mbrds\u001b[0m \u001b[0;34m=\u001b[0m \u001b[0;34m[\u001b[0m\u001b[0mcasperfpga\u001b[0m\u001b[0;34m.\u001b[0m\u001b[0mCasperFpga\u001b[0m\u001b[0;34m(\u001b[0m\u001b[0mn\u001b[0m\u001b[0;34m)\u001b[0m \u001b[0;32mfor\u001b[0m \u001b[0mn\u001b[0m \u001b[0;32min\u001b[0m \u001b[0mbrdnames\u001b[0m\u001b[0;34m]\u001b[0m\u001b[0;34m\u001b[0m\u001b[0;34m\u001b[0m\u001b[0m\n\u001b[0;32m----> 8\u001b[0;31m \u001b[0;34m[\u001b[0m\u001b[0mbrd\u001b[0m\u001b[0;34m.\u001b[0m\u001b[0mupload_to_ram_and_program\u001b[0m\u001b[0;34m(\u001b[0m\u001b[0mfirmware\u001b[0m\u001b[0;34m)\u001b[0m \u001b[0;32mfor\u001b[0m \u001b[0mbrd\u001b[0m \u001b[0;32min\u001b[0m \u001b[0mbrds\u001b[0m\u001b[0;34m]\u001b[0m\u001b[0;34m\u001b[0m\u001b[0;34m\u001b[0m\u001b[0m\n\u001b[0m\u001b[1;32m      9\u001b[0m \u001b[0;34m[\u001b[0m\u001b[0mprint\u001b[0m\u001b[0;34m(\u001b[0m\u001b[0mbrdnames\u001b[0m\u001b[0;34m[\u001b[0m\u001b[0mi\u001b[0m\u001b[0;34m]\u001b[0m\u001b[0;34m,\u001b[0m\u001b[0;34m'Is connected? '\u001b[0m\u001b[0;34m,\u001b[0m \u001b[0mbrds\u001b[0m\u001b[0;34m[\u001b[0m\u001b[0mi\u001b[0m\u001b[0;34m]\u001b[0m\u001b[0;34m.\u001b[0m\u001b[0mis_connected\u001b[0m\u001b[0;34m(\u001b[0m\u001b[0;34m)\u001b[0m\u001b[0;34m)\u001b[0m \u001b[0;32mfor\u001b[0m \u001b[0mi\u001b[0m \u001b[0;32min\u001b[0m \u001b[0mrange\u001b[0m\u001b[0;34m(\u001b[0m\u001b[0mlen\u001b[0m\u001b[0;34m(\u001b[0m\u001b[0mbrds\u001b[0m\u001b[0;34m)\u001b[0m\u001b[0;34m)\u001b[0m\u001b[0;34m]\u001b[0m\u001b[0;34m\u001b[0m\u001b[0;34m\u001b[0m\u001b[0m\n",
      "\u001b[0;32m~/anaconda3/envs/casa/lib/python3.6/site-packages/casperfpga-0.4.4.dev1077+head.e76da15-py3.6-linux-x86_64.egg/casperfpga/casperfpga.py\u001b[0m in \u001b[0;36mupload_to_ram_and_program\u001b[0;34m(self, filename, wait_complete, initialise_objects, **kwargs)\u001b[0m\n\u001b[1;32m    328\u001b[0m \u001b[0;34m\u001b[0m\u001b[0m\n\u001b[1;32m    329\u001b[0m         rv = self.transport.upload_to_ram_and_program(\n\u001b[0;32m--> 330\u001b[0;31m                 filename=filename, wait_complete=wait_complete, **kwargs)\n\u001b[0m\u001b[1;32m    331\u001b[0m \u001b[0;34m\u001b[0m\u001b[0m\n\u001b[1;32m    332\u001b[0m         \u001b[0;32mif\u001b[0m \u001b[0;32mnot\u001b[0m \u001b[0mwait_complete\u001b[0m\u001b[0;34m:\u001b[0m\u001b[0;34m\u001b[0m\u001b[0;34m\u001b[0m\u001b[0m\n",
      "\u001b[0;32m~/anaconda3/envs/casa/lib/python3.6/site-packages/casperfpga-0.4.4.dev1077+head.e76da15-py3.6-linux-x86_64.egg/casperfpga/transport_tapcp.py\u001b[0m in \u001b[0;36mupload_to_ram_and_program\u001b[0;34m(self, filename, port, timeout, wait_complete, force)\u001b[0m\n\u001b[1;32m    377\u001b[0m         \u001b[0;32mif\u001b[0m\u001b[0;34m(\u001b[0m\u001b[0mfilename\u001b[0m\u001b[0;34m.\u001b[0m\u001b[0mendswith\u001b[0m\u001b[0;34m(\u001b[0m\u001b[0;34m'.fpg'\u001b[0m\u001b[0;34m)\u001b[0m\u001b[0;34m)\u001b[0m\u001b[0;34m:\u001b[0m\u001b[0;34m\u001b[0m\u001b[0;34m\u001b[0m\u001b[0m\n\u001b[1;32m    378\u001b[0m             \u001b[0mself\u001b[0m\u001b[0;34m.\u001b[0m\u001b[0mlogger\u001b[0m\u001b[0;34m.\u001b[0m\u001b[0minfo\u001b[0m\u001b[0;34m(\u001b[0m\u001b[0;34m\"Programming with an .fpg file. Checking if it is already in flash\"\u001b[0m\u001b[0;34m)\u001b[0m\u001b[0;34m\u001b[0m\u001b[0;34m\u001b[0m\u001b[0m\n\u001b[0;32m--> 379\u001b[0;31m             \u001b[0mheader\u001b[0m\u001b[0;34m,\u001b[0m \u001b[0mprog\u001b[0m\u001b[0;34m,\u001b[0m \u001b[0mmd5\u001b[0m \u001b[0;34m=\u001b[0m \u001b[0mself\u001b[0m\u001b[0;34m.\u001b[0m\u001b[0m_extract_bitstream\u001b[0m\u001b[0;34m(\u001b[0m\u001b[0mfilename\u001b[0m\u001b[0;34m)\u001b[0m\u001b[0;34m\u001b[0m\u001b[0;34m\u001b[0m\u001b[0m\n\u001b[0m\u001b[1;32m    380\u001b[0m             \u001b[0;31m# Align header with sector size\u001b[0m\u001b[0;34m\u001b[0m\u001b[0;34m\u001b[0m\u001b[0;34m\u001b[0m\u001b[0m\n\u001b[1;32m    381\u001b[0m             \u001b[0;32mif\u001b[0m \u001b[0mlen\u001b[0m\u001b[0;34m(\u001b[0m\u001b[0mheader\u001b[0m\u001b[0;34m)\u001b[0m \u001b[0;34m%\u001b[0m \u001b[0mFLASH_SECTOR_SIZE\u001b[0m\u001b[0;34m:\u001b[0m\u001b[0;34m\u001b[0m\u001b[0;34m\u001b[0m\u001b[0m\n",
      "\u001b[0;32m~/anaconda3/envs/casa/lib/python3.6/site-packages/casperfpga-0.4.4.dev1077+head.e76da15-py3.6-linux-x86_64.egg/casperfpga/transport_tapcp.py\u001b[0m in \u001b[0;36m_extract_bitstream\u001b[0;34m(self, filename)\u001b[0m\n\u001b[1;32m    222\u001b[0m         \u001b[0mExtract\u001b[0m \u001b[0mthe\u001b[0m \u001b[0mheader\u001b[0m \u001b[0;32mand\u001b[0m \u001b[0mprogram\u001b[0m \u001b[0mbitstream\u001b[0m \u001b[0;32mfrom\u001b[0m \u001b[0mthe\u001b[0m \u001b[0minput\u001b[0m \u001b[0mfile\u001b[0m \u001b[0mprovided\u001b[0m\u001b[0;34m.\u001b[0m\u001b[0;34m\u001b[0m\u001b[0;34m\u001b[0m\u001b[0m\n\u001b[1;32m    223\u001b[0m         \"\"\"\n\u001b[0;32m--> 224\u001b[0;31m         \u001b[0;32mwith\u001b[0m \u001b[0mopen\u001b[0m\u001b[0;34m(\u001b[0m\u001b[0mfilename\u001b[0m\u001b[0;34m,\u001b[0m \u001b[0;34m'rb'\u001b[0m\u001b[0;34m)\u001b[0m \u001b[0;32mas\u001b[0m \u001b[0mfh\u001b[0m\u001b[0;34m:\u001b[0m\u001b[0;34m\u001b[0m\u001b[0;34m\u001b[0m\u001b[0m\n\u001b[0m\u001b[1;32m    225\u001b[0m             \u001b[0mfpg\u001b[0m \u001b[0;34m=\u001b[0m \u001b[0mfh\u001b[0m\u001b[0;34m.\u001b[0m\u001b[0mread\u001b[0m\u001b[0;34m(\u001b[0m\u001b[0;34m)\u001b[0m\u001b[0;34m\u001b[0m\u001b[0;34m\u001b[0m\u001b[0m\n\u001b[1;32m    226\u001b[0m \u001b[0;34m\u001b[0m\u001b[0m\n",
      "\u001b[0;31mFileNotFoundError\u001b[0m: [Errno 2] No such file or directory: 'gpio_pins3_2021-02-07_2206.fpg'"
     ]
    }
   ],
   "source": [
    "#connect to boards and load firmware\n",
    "\n",
    "firmware = \"gpio_pins3_2021-02-07_2206.fpg\"\n",
    "\n",
    "brdnames = ['snap01','snap02','snap03','snap04','snap05','snap06','snap07','snap08','snap09','snap10','snap11']\n",
    "print(\"Connecting to boards and loading firmware\")\n",
    "brds = [casperfpga.CasperFpga(n) for n in brdnames]\n",
    "[brd.upload_to_ram_and_program(firmware) for brd in brds]\n",
    "[print(brdnames[i],'Is connected? ', brds[i].is_connected()) for i in range(len(brds))]"
   ]
  },
  {
   "cell_type": "code",
   "execution_count": 11,
   "metadata": {},
   "outputs": [
    {
     "name": "stdout",
     "output_type": "stream",
     "text": [
      "snap01 Is connected?  True\n",
      "snap02 Is connected?  True\n",
      "snap03 Is connected?  True\n",
      "snap04 Is connected?  True\n",
      "snap05 Is connected?  True\n",
      "snap06 Is connected?  True\n",
      "snap07 Is connected?  True\n",
      "snap08 Is connected?  True\n",
      "snap09 Is connected?  True\n",
      "snap10 Is connected?  True\n",
      "snap11 Is connected?  True\n"
     ]
    },
    {
     "data": {
      "text/plain": [
       "[None, None, None, None, None, None, None, None, None, None, None]"
      ]
     },
     "execution_count": 11,
     "metadata": {},
     "output_type": "execute_result"
    }
   ],
   "source": [
    "\n",
    "brd.upload_to_ram_and_program()"
   ]
  },
  {
   "cell_type": "code",
   "execution_count": 6,
   "metadata": {},
   "outputs": [
    {
     "name": "stdout",
     "output_type": "stream",
     "text": [
      "['snap01', 'snap02', 'snap03', 'snap04', 'snap05', 'snap06', 'snap07', 'snap08', 'snap09', 'snap10', 'snap11']\n"
     ]
    }
   ],
   "source": [
    "print(len(brdnames)"
   ]
  },
  {
   "cell_type": "code",
   "execution_count": null,
   "metadata": {},
   "outputs": [],
   "source": []
  }
 ],
 "metadata": {
  "kernelspec": {
   "display_name": "Python 3",
   "language": "python",
   "name": "python3"
  },
  "language_info": {
   "codemirror_mode": {
    "name": "ipython",
    "version": 3
   },
   "file_extension": ".py",
   "mimetype": "text/x-python",
   "name": "python",
   "nbconvert_exporter": "python",
   "pygments_lexer": "ipython3",
   "version": "3.6.10"
  }
 },
 "nbformat": 4,
 "nbformat_minor": 4
}
