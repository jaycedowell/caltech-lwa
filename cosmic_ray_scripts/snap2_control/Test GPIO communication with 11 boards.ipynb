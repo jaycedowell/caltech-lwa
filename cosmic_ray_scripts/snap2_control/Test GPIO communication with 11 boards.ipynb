{
 "cells": [
  {
   "cell_type": "code",
   "execution_count": 1,
   "metadata": {},
   "outputs": [],
   "source": [
    "import casperfpga\n",
    "import matplotlib.pyplot as plt\n",
    "import time\n",
    "import numpy as np"
   ]
  },
  {
   "cell_type": "markdown",
   "metadata": {},
   "source": [
    "This notebook adapts the code from test_gpio_stability.py to do tests with all 11 boards."
   ]
  },
  {
   "cell_type": "code",
   "execution_count": 16,
   "metadata": {},
   "outputs": [],
   "source": [
    "#Reset the trigger counter\n",
    "def reset_trigger_counter_all(brds):\n",
    "        [brd.write_int(\"trig_debug_reset\",1) for brd in brds]\n",
    "        time.sleep(0.01)\n",
    "        [brd.write_int(\"trig_debug_reset\",0) for brd in brds]\n",
    "        return\n",
    "\n",
    "#reset the trigger timer\n",
    "def reset_trigger_timer_all(brds):\n",
    "        [brd.write_int(\"trig_debug_timer_reset\",1) for brd in brds]\n",
    "        time.sleep(0.01)\n",
    "        [brd.write_int(\"trig_debug_timer_reset\",0) for brd in brds]\n",
    "        return\n",
    "\n",
    "#set all boards to listen\n",
    "def reset_to_listen_all(brds):\n",
    "        [brd.write_int(\"reset_to_listen\",0) for brd in brds]\n",
    "        time.sleep(0.01)\n",
    "        [brd.write_int(\"reset_to_listen\",1) for brd in brds]\n",
    "        return\n",
    "    \n",
    "#read the readout state value on all the boards\n",
    "def read_state_value_all(brds):\n",
    "        return([brd.read_int(\"readout_state_value\") for brd in brds])\n",
    "\n",
    "#send a trigger to one board\n",
    "def trigger(board):\n",
    "        #board is a casperfpga object\n",
    "        board.write_int(\"send_trigger\",0)\n",
    "        time.sleep(0.01)\n",
    "        board.write_int(\"send_trigger\",1)\n",
    "        return\n",
    "\n",
    "#read the trigger counter on all the boards\n",
    "def read_trigger_counter_all(brds):\n",
    "        return [brd.read_int(\"trig_debug_trig_rec_count\") for brd in brds]\n",
    "\n",
    "\n",
    "def time_trigger_communication(board,brds):\n",
    "        #board is the board to send the trigger to\n",
    "        reset_trigger_counter_all(brds)\n",
    "        reset_trigger_timer_all(brds)\n",
    "        reset_to_listen_all(brds)\n",
    "        initialstates=read_state_value_all(brds)\n",
    "        trigger(board)\n",
    "        time.sleep(0.5)\n",
    "        timer_value=board.read_int(\"trig_debug_timer\")\n",
    "        counts=read_trigger_counter_all(brds)\n",
    "        finalstates=read_state_value_all(brds)\n",
    "        #return np.asarray([initialstate9,initialstate11,initialstate12,timer_value,count9,count11,count12,finalstate9,finalstate11,finalstate12])\n",
    "        return initialstates,timer_value,counts,finalstates"
   ]
  },
  {
   "cell_type": "code",
   "execution_count": 15,
   "metadata": {},
   "outputs": [
    {
     "name": "stdout",
     "output_type": "stream",
     "text": [
      "Connecting to boards and loading firmware\n"
     ]
    },
    {
     "name": "stderr",
     "output_type": "stream",
     "text": [
      "100% (139 of 139) |######################| Elapsed Time: 0:01:03 Time:  0:01:03\n",
      "100% (139 of 139) |######################| Elapsed Time: 0:01:05 Time:  0:01:05\n",
      "100% (139 of 139) |######################| Elapsed Time: 0:01:03 Time:  0:01:03\n",
      "100% (139 of 139) |######################| Elapsed Time: 0:01:04 Time:  0:01:04\n",
      "100% (139 of 139) |######################| Elapsed Time: 0:01:05 Time:  0:01:05\n",
      "100% (139 of 139) |######################| Elapsed Time: 0:01:05 Time:  0:01:05\n",
      "100% (139 of 139) |######################| Elapsed Time: 0:01:04 Time:  0:01:04\n",
      "100% (139 of 139) |######################| Elapsed Time: 0:01:05 Time:  0:01:05\n",
      "100% (139 of 139) |######################| Elapsed Time: 0:01:05 Time:  0:01:05\n",
      "100% (139 of 139) |######################| Elapsed Time: 0:01:05 Time:  0:01:05\n",
      "100% (139 of 139) |######################| Elapsed Time: 0:01:04 Time:  0:01:04\n"
     ]
    },
    {
     "name": "stdout",
     "output_type": "stream",
     "text": [
      "snap01 Is connected?  True\n",
      "snap02 Is connected?  True\n",
      "snap03 Is connected?  True\n",
      "snap04 Is connected?  True\n",
      "snap05 Is connected?  True\n",
      "snap06 Is connected?  True\n",
      "snap07 Is connected?  True\n",
      "snap08 Is connected?  True\n",
      "snap09 Is connected?  True\n",
      "snap10 Is connected?  True\n",
      "snap11 Is connected?  True\n"
     ]
    },
    {
     "data": {
      "text/plain": [
       "[None, None, None, None, None, None, None, None, None, None, None]"
      ]
     },
     "execution_count": 15,
     "metadata": {},
     "output_type": "execute_result"
    }
   ],
   "source": [
    "#connect to boards and load firmware\n",
    "\n",
    "firmware = \"/home/ubuntu/kp/caltech-lwa/cr_firmware_test/gpio_pins3/outputs/gpio_pins3_2021-02-07_2206.fpg\" # This version has a 1000 clock cycle pulse\n",
    "\n",
    "brdnames = ['snap01','snap02','snap03','snap04','snap05','snap06','snap07','snap08','snap09','snap10','snap11']\n",
    "print(\"Connecting to boards and loading firmware\")\n",
    "brds = [casperfpga.CasperFpga(n) for n in brdnames]\n",
    "[brd.upload_to_ram_and_program(firmware) for brd in brds]\n",
    "[print(brdnames[i],'Is connected? ', brds[i].is_connected()) for i in range(len(brds))]"
   ]
  },
  {
   "cell_type": "markdown",
   "metadata": {},
   "source": [
    "## Tests 3/24/2022\n",
    "Below, I run a test where all the boards are reset to listen and then one board receives a trigger. They should all receive it, and then I could time how long the trigger takes to go around the loop by reading the timer value.  The results, however, show that the trigger is not making it all the way around the loop. Only boards 7 to 11 are staying in listening state before the trigger and then going to readout state."
   ]
  },
  {
   "cell_type": "code",
   "execution_count": 24,
   "metadata": {},
   "outputs": [
    {
     "name": "stdout",
     "output_type": "stream",
     "text": [
      "1\n",
      "[1, 0, 0, 0, 0, 0, 0, 0, 0, 0, 0]\n",
      "0\n",
      "[1, 0, 0, 0, 0, 0, 0, 0, 0, 0, 0]\n",
      "2\n",
      "[1, 1, 1, 1, 0, 0, 0, 0, 0, 0, 0]\n",
      "3437006\n",
      "[1, 1, 1, 1, 0, 0, 0, 0, 0, 0, 0]\n",
      "3\n",
      "[1, 1, 1, 0, 0, 0, 0, 0, 0, 0, 0]\n",
      "3692147\n",
      "[1, 1, 1, 0, 0, 0, 0, 0, 0, 0, 0]\n",
      "4\n",
      "[1, 0, 0, 0, 0, 0, 0, 0, 0, 0, 0]\n",
      "50275945\n",
      "[1, 0, 0, 1, 1, 1, 0, 0, 0, 0, 0]\n",
      "5\n",
      "[1, 0, 0, 0, 0, 0, 0, 0, 0, 0, 0]\n",
      "50271576\n",
      "[1, 0, 0, 0, 1, 1, 0, 0, 0, 0, 0]\n",
      "6\n",
      "[1, 1, 1, 1, 1, 1, 0, 0, 0, 0, 0]\n",
      "3077494\n",
      "[1, 1, 1, 1, 1, 1, 0, 0, 0, 0, 0]\n",
      "7\n",
      "[1, 1, 1, 1, 0, 0, 0, 0, 0, 0, 0]\n",
      "50249022\n",
      "[1, 1, 1, 1, 0, 0, 1, 0, 0, 0, 0]\n",
      "8\n",
      "[1, 1, 0, 0, 0, 0, 0, 0, 0, 0, 0]\n",
      "50313587\n",
      "[1, 1, 0, 0, 0, 0, 0, 1, 0, 0, 0]\n",
      "9\n",
      "[1, 0, 0, 0, 0, 0, 0, 0, 0, 0, 0]\n",
      "50274893\n",
      "[1, 0, 0, 0, 0, 0, 0, 0, 1, 1, 1]\n",
      "10\n",
      "[1, 1, 0, 0, 0, 0, 0, 0, 0, 0, 0]\n",
      "50296600\n",
      "[1, 1, 0, 0, 0, 0, 0, 0, 0, 1, 1]\n",
      "11\n",
      "[1, 1, 1, 0, 0, 0, 0, 0, 0, 0, 0]\n",
      "50294480\n",
      "[1, 1, 1, 0, 0, 0, 0, 0, 0, 0, 1]\n"
     ]
    }
   ],
   "source": [
    "i=1\n",
    "for brd in brds:\n",
    "    print( i)\n",
    "    initialstates,timer_value,counts,finalstates = time_trigger_communication(brd,brds)\n",
    "    print(initialstates)\n",
    "    print(timer_value)\n",
    "    print(finalstates)\n",
    "    i+=1"
   ]
  },
  {
   "cell_type": "markdown",
   "metadata": {},
   "source": [
    "Next, I check whether the boards are successfully resetting to listen and waiting for a trigger.  Boards 7-11 do, and the others are unreliable."
   ]
  },
  {
   "cell_type": "code",
   "execution_count": 42,
   "metadata": {},
   "outputs": [
    {
     "name": "stdout",
     "output_type": "stream",
     "text": [
      "[1, 1, 1, 0, 0, 0, 0, 0, 0, 0, 0]\n",
      "[1, 1, 0, 0, 0, 0, 0, 0, 0, 0, 0]\n",
      "[1, 1, 1, 1, 0, 0, 0, 0, 0, 0, 0]\n",
      "[1, 0, 0, 0, 0, 0, 0, 0, 0, 0, 0]\n",
      "[1, 0, 0, 0, 0, 0, 0, 0, 0, 0, 0]\n",
      "[1, 1, 1, 0, 0, 0, 0, 0, 0, 0, 0]\n",
      "[1, 1, 1, 1, 1, 0, 0, 0, 0, 0, 0]\n",
      "[1, 1, 1, 0, 0, 0, 0, 0, 0, 0, 0]\n",
      "[1, 0, 0, 0, 0, 0, 0, 0, 0, 0, 0]\n",
      "[1, 1, 1, 1, 0, 0, 0, 0, 0, 0, 0]\n",
      "[1, 1, 0, 0, 0, 0, 0, 0, 0, 0, 0]\n",
      "[1, 1, 1, 1, 0, 0, 0, 0, 0, 0, 0]\n",
      "[1, 1, 0, 0, 0, 0, 0, 0, 0, 0, 0]\n",
      "[1, 1, 1, 1, 0, 0, 0, 0, 0, 0, 0]\n",
      "[1, 0, 0, 0, 0, 0, 0, 0, 0, 0, 0]\n",
      "[1, 1, 1, 1, 1, 1, 0, 0, 0, 0, 0]\n",
      "[1, 1, 0, 0, 0, 0, 0, 0, 0, 0, 0]\n",
      "[1, 0, 0, 0, 0, 0, 0, 0, 0, 0, 0]\n",
      "[1, 1, 1, 0, 0, 0, 0, 0, 0, 0, 0]\n",
      "[1, 1, 1, 1, 0, 0, 0, 0, 0, 0, 0]\n"
     ]
    }
   ],
   "source": [
    "for i in range(20):\n",
    "    reset_to_listen_all(brds)\n",
    "    print(read_state_value_all(brds))"
   ]
  },
  {
   "cell_type": "markdown",
   "metadata": {},
   "source": [
    "Next, I reset each board to listen and read its readout state value a couple times, and its trigger count. All should stay in listening state and none should see any new triggers. snap01 is the only board seeing new triggers during this time."
   ]
  },
  {
   "cell_type": "code",
   "execution_count": 43,
   "metadata": {},
   "outputs": [
    {
     "name": "stdout",
     "output_type": "stream",
     "text": [
      "snap01\n",
      "1\n",
      "0\n",
      "176675\n",
      "1\n",
      "176685\n",
      "snap02\n",
      "1\n",
      "0\n",
      "61\n",
      "0\n",
      "61\n",
      "snap03\n",
      "1\n",
      "0\n",
      "46\n",
      "0\n",
      "46\n",
      "snap04\n",
      "1\n",
      "0\n",
      "38\n",
      "0\n",
      "38\n",
      "snap05\n",
      "0\n",
      "0\n",
      "33\n",
      "0\n",
      "33\n",
      "snap06\n",
      "0\n",
      "0\n",
      "32\n",
      "0\n",
      "32\n",
      "snap07\n",
      "0\n",
      "0\n",
      "0\n",
      "0\n",
      "0\n",
      "snap08\n",
      "0\n",
      "0\n",
      "0\n",
      "0\n",
      "0\n",
      "snap09\n",
      "0\n",
      "0\n",
      "0\n",
      "0\n",
      "0\n",
      "snap10\n",
      "0\n",
      "0\n",
      "0\n",
      "0\n",
      "0\n",
      "snap11\n",
      "0\n",
      "0\n",
      "1\n",
      "0\n",
      "1\n"
     ]
    }
   ],
   "source": [
    "for i in range(11):\n",
    "    print(brdnames[i])\n",
    "    brd=brds[i]\n",
    "    print(brd.read_int('readout_state_value'))\n",
    "    brd.write_int('reset_to_listen',0)\n",
    "    time.sleep(0.5)\n",
    "    brd.write_int('reset_to_listen',1)\n",
    "    print(brd.read_int('readout_state_value'))\n",
    "    print(brd.read_int('trig_debug_trig_rec_count'))\n",
    "    time.sleep(0.05)\n",
    "    print(brd.read_int('readout_state_value'))\n",
    "    print(brd.read_int('trig_debug_trig_rec_count'))\n"
   ]
  },
  {
   "cell_type": "code",
   "execution_count": null,
   "metadata": {},
   "outputs": [],
   "source": [
    "\n"
   ]
  },
  {
   "cell_type": "code",
   "execution_count": null,
   "metadata": {},
   "outputs": [],
   "source": []
  },
  {
   "cell_type": "code",
   "execution_count": null,
   "metadata": {},
   "outputs": [],
   "source": [
    "''' From script, to adapt to full set of 11 boards\n",
    "n=500\n",
    "brd9results=np.zeros((n,10),dtype=\"int32\")\n",
    "print(\"Starting on board9\")\n",
    "print(\"doing test \" + str(n) + \" times\")\n",
    "for i in range(n):\n",
    "        brd9results[i]=time_trigger_communication(brd9)\n",
    "        if i==100:\n",
    "                print(\"100th test\")\n",
    "        if i==200:\n",
    "                print(\"200th test\")\n",
    "        if i==300:\n",
    "                print(\"300th test\")\n",
    "        if i==400:\n",
    "                print(\"400th test\")\n",
    "brd11results=np.zeros((n,10),dtype=\"int32\")\n",
    "print(\"Starting on board11\")\n",
    "print(\"doing test \" + str(n) + \" times\")\n",
    "for i in range(n):\n",
    "        brd11results[i]=time_trigger_communication(brd11)\n",
    "        if i==100:\n",
    "                print(\"100th test\")\n",
    "        if i==200:\n",
    "                print(\"200th test\")\n",
    "        if i==300:\n",
    "                print(\"300th test\")\n",
    "        if i==400:\n",
    "                print(\"400th test\")\n",
    "brd12results=np.zeros((n,10),dtype=\"int32\")\n",
    "print(\"Starting on board12\")\n",
    "print(\"doing test \" + str(n) + \" times\")\n",
    "for i in range(n):\n",
    "        brd12results[i]=time_trigger_communication(brd12)\n",
    "        if i==100:\n",
    "                print(\"100th test\")\n",
    "        if i==200:\n",
    "                print(\"200th test\")\n",
    "        if i==300:\n",
    "                print(\"300th test\")\n",
    "        if i==400:\n",
    "                print(\"400th test\")\n",
    "print(\"Saving results\")\n",
    "print(\"Columns are: initialstate9,initialstate11,initialstate12,timer_value,count9,count11,count12,finalstate9,finalstate11,finalstate12 \")\n",
    "np.savetxt(\"brd9results7-13-2021.txt\",brd9results)\n",
    "np.savetxt(\"brd11results7-13-2021.txt\",brd11results)\n",
    "np.savetxt(\"brd12results7-13-2021.txt\",brd12results)\n",
    "'''"
   ]
  }
 ],
 "metadata": {
  "kernelspec": {
   "display_name": "Python 3",
   "language": "python",
   "name": "python3"
  },
  "language_info": {
   "codemirror_mode": {
    "name": "ipython",
    "version": 3
   },
   "file_extension": ".py",
   "mimetype": "text/x-python",
   "name": "python",
   "nbconvert_exporter": "python",
   "pygments_lexer": "ipython3",
   "version": "3.6.10"
  }
 },
 "nbformat": 4,
 "nbformat_minor": 4
}
